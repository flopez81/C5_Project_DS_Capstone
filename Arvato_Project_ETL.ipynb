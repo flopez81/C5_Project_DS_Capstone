{
 "cells": [
  {
   "cell_type": "markdown",
   "metadata": {},
   "source": [
    "# Capstone Project: Create a Customer Segmentation Report for Arvato Financial Services\n",
    "\n",
    "In this project, you will analyze demographics data for customers of a mail-order sales company in Germany, comparing it against demographics information for the general population. You'll use unsupervised learning techniques to perform customer segmentation, identifying the parts of the population that best describe the core customer base of the company. Then, you'll apply what you've learned on a third dataset with demographics information for targets of a marketing campaign for the company, and use a model to predict which individuals are most likely to convert into becoming customers for the company. The data that you will use has been provided by our partners at Bertelsmann Arvato Analytics, and represents a real-life data science task.\n",
    "\n",
    "The versions of those two datasets used in this project will include many more features and has not been pre-cleaned. You are also free to choose whatever approach you'd like to analyzing the data rather than follow pre-determined steps. In your work on this project, make sure that you carefully document your steps and decisions, since your main deliverable for this project will be a blog post reporting your findings."
   ]
  },
  {
   "cell_type": "code",
   "execution_count": 1,
   "metadata": {},
   "outputs": [],
   "source": [
    "# import libraries here; add more as necessary\n",
    "from utils import *\n",
    "import numpy as np\n",
    "import pandas as pd\n",
    "import matplotlib.pyplot as plt\n",
    "import seaborn as sns\n",
    "from joblib import dump, load\n",
    "from typing import Union, Tuple, List, Dict\n",
    "\n",
    "# magic word for producing visualizations in notebook\n",
    "%matplotlib inline\n",
    "\n",
    "pd.options.display.max_rows = 20\n",
    "pd.options.display.max_columns = 10\n",
    "\n",
    "# Project constants\n",
    "PROCESSED_DATA_PATH = './data/'\n",
    "DUMMY_NA = False"
   ]
  },
  {
   "cell_type": "markdown",
   "metadata": {},
   "source": [
    "## Part 0: Get to Know the Data\n",
    "\n",
    "There are four data files associated with this project:\n",
    "\n",
    "- `Udacity_AZDIAS_052018.csv`: Demographics data for the general population of Germany; 891 211 persons (rows) x 366 features (columns).\n",
    "- `Udacity_CUSTOMERS_052018.csv`: Demographics data for customers of a mail-order company; 191 652 persons (rows) x 369 features (columns).\n",
    "- `Udacity_MAILOUT_052018_TRAIN.csv`: Demographics data for individuals who were targets of a marketing campaign; 42 982 persons (rows) x 367 (columns).\n",
    "- `Udacity_MAILOUT_052018_TEST.csv`: Demographics data for individuals who were targets of a marketing campaign; 42 833 persons (rows) x 366 (columns).\n",
    "\n",
    "Each row of the demographics files represents a single person, but also includes information outside of individuals, including information about their household, building, and neighborhood. Use the information from the first two files to figure out how customers (\"CUSTOMERS\") are similar to or differ from the general population at large (\"AZDIAS\"), then use your analysis to make predictions on the other two files (\"MAILOUT\"), predicting which recipients are most likely to become a customer for the mail-order company.\n",
    "\n",
    "The \"CUSTOMERS\" file contains three extra columns ('CUSTOMER_GROUP', 'ONLINE_PURCHASE', and 'PRODUCT_GROUP'), which provide broad information about the customers depicted in the file. The original \"MAILOUT\" file included one additional column, \"RESPONSE\", which indicated whether or not each recipient became a customer of the company. For the \"TRAIN\" subset, this column has been retained, but in the \"TEST\" subset it has been removed; it is against that withheld column that your final predictions will be assessed in the Kaggle competition.\n",
    "\n",
    "Otherwise, all of the remaining columns are the same between the three data files. For more information about the columns depicted in the files, you can refer to two Excel spreadsheets provided in the workspace. [One of them](./DIAS Information Levels - Attributes 2017.xlsx) is a top-level list of attributes and descriptions, organized by informational category. [The other](./DIAS Attributes - Values 2017.xlsx) is a detailed mapping of data values for each feature in alphabetical order.\n",
    "\n",
    "In the below cell, we've provided some initial code to load in the first two datasets. Note for all of the `.csv` data files in this project that they're semicolon (`;`) delimited, so an additional argument in the [`read_csv()`](https://pandas.pydata.org/pandas-docs/stable/generated/pandas.read_csv.html) call has been included to read in the data properly. Also, considering the size of the datasets, it may take some time for them to load completely.\n",
    "\n",
    "You'll notice when the data is loaded in that a warning message will immediately pop up. Before you really start digging into the modeling and analysis, you're going to need to perform some cleaning. Take some time to browse the structure of the data and look over the informational spreadsheets to understand the data values. Make some decisions on which features to keep, which features to drop, and if any revisions need to be made on data formats. It'll be a good idea to create a function with pre-processing steps, since you'll need to clean all of the datasets before you work with them."
   ]
  },
  {
   "cell_type": "code",
   "execution_count": 2,
   "metadata": {},
   "outputs": [
    {
     "name": "stderr",
     "output_type": "stream",
     "text": [
      "C:\\Users\\flopezr81\\AppData\\Local\\Temp\\ipykernel_17696\\893584662.py:2: DtypeWarning: Columns (18,19) have mixed types. Specify dtype option on import or set low_memory=False.\n",
      "  azdias = pd.read_csv('./data/Udacity_AZDIAS_052018.csv', sep=';')\n"
     ]
    }
   ],
   "source": [
    "# load in the data\n",
    "azdias = pd.read_csv('./data/Udacity_AZDIAS_052018.csv', sep=';')"
   ]
  },
  {
   "cell_type": "code",
   "execution_count": 3,
   "metadata": {},
   "outputs": [
    {
     "name": "stdout",
     "output_type": "stream",
     "text": [
      "CAMEO_DEUG_2015 :  [nan 8.0 4.0 2.0 6.0 1.0 9.0 5.0 7.0 3.0 '4' '3' '7' '2' '8' '9' '6' '5'\n",
      " '1' 'X']\n",
      "CAMEO_INTL_2015 :  [nan 51.0 24.0 12.0 43.0 54.0 22.0 14.0 13.0 15.0 33.0 41.0 34.0 55.0 25.0\n",
      " 23.0 31.0 52.0 35.0 45.0 44.0 32.0 '22' '24' '41' '12' '54' '51' '44'\n",
      " '35' '23' '25' '14' '34' '52' '55' '31' '32' '15' '13' '43' '33' '45'\n",
      " 'XX']\n"
     ]
    }
   ],
   "source": [
    "# We can see that the warning is because of the missing values encoding in the two related features, which are integer. \n",
    "# Additionally, CAMEO_DEUG_2015 has some non-missing values set as strings.\n",
    "for col in [18, 19]:\n",
    "    print(azdias.columns[col], ': ', azdias[azdias.columns[col]].unique())"
   ]
  },
  {
   "cell_type": "code",
   "execution_count": 4,
   "metadata": {},
   "outputs": [
    {
     "name": "stdout",
     "output_type": "stream",
     "text": [
      "General demographics: persons (rows) = 891221, features (columns) = 366\n"
     ]
    }
   ],
   "source": [
    "n_rows_gen_demo, n_cols_gen_demo = azdias.shape\n",
    "print('General demographics: persons (rows) = {}, features (columns) = {}'.format(n_rows_gen_demo, n_cols_gen_demo))"
   ]
  },
  {
   "cell_type": "code",
   "execution_count": 5,
   "metadata": {},
   "outputs": [
    {
     "data": {
      "text/html": [
       "<div>\n",
       "<style scoped>\n",
       "    .dataframe tbody tr th:only-of-type {\n",
       "        vertical-align: middle;\n",
       "    }\n",
       "\n",
       "    .dataframe tbody tr th {\n",
       "        vertical-align: top;\n",
       "    }\n",
       "\n",
       "    .dataframe thead th {\n",
       "        text-align: right;\n",
       "    }\n",
       "</style>\n",
       "<table border=\"1\" class=\"dataframe\">\n",
       "  <thead>\n",
       "    <tr style=\"text-align: right;\">\n",
       "      <th></th>\n",
       "      <th>LNR</th>\n",
       "      <th>AGER_TYP</th>\n",
       "      <th>AKT_DAT_KL</th>\n",
       "      <th>ALTER_HH</th>\n",
       "      <th>ALTER_KIND1</th>\n",
       "      <th>...</th>\n",
       "      <th>WOHNDAUER_2008</th>\n",
       "      <th>WOHNLAGE</th>\n",
       "      <th>ZABEOTYP</th>\n",
       "      <th>ANREDE_KZ</th>\n",
       "      <th>ALTERSKATEGORIE_GROB</th>\n",
       "    </tr>\n",
       "  </thead>\n",
       "  <tbody>\n",
       "    <tr>\n",
       "      <th>0</th>\n",
       "      <td>910215</td>\n",
       "      <td>-1</td>\n",
       "      <td>NaN</td>\n",
       "      <td>NaN</td>\n",
       "      <td>NaN</td>\n",
       "      <td>...</td>\n",
       "      <td>NaN</td>\n",
       "      <td>NaN</td>\n",
       "      <td>3</td>\n",
       "      <td>1</td>\n",
       "      <td>2</td>\n",
       "    </tr>\n",
       "    <tr>\n",
       "      <th>1</th>\n",
       "      <td>910220</td>\n",
       "      <td>-1</td>\n",
       "      <td>9.0</td>\n",
       "      <td>0.0</td>\n",
       "      <td>NaN</td>\n",
       "      <td>...</td>\n",
       "      <td>9.0</td>\n",
       "      <td>4.0</td>\n",
       "      <td>5</td>\n",
       "      <td>2</td>\n",
       "      <td>1</td>\n",
       "    </tr>\n",
       "    <tr>\n",
       "      <th>2</th>\n",
       "      <td>910225</td>\n",
       "      <td>-1</td>\n",
       "      <td>9.0</td>\n",
       "      <td>17.0</td>\n",
       "      <td>NaN</td>\n",
       "      <td>...</td>\n",
       "      <td>9.0</td>\n",
       "      <td>2.0</td>\n",
       "      <td>5</td>\n",
       "      <td>2</td>\n",
       "      <td>3</td>\n",
       "    </tr>\n",
       "    <tr>\n",
       "      <th>3</th>\n",
       "      <td>910226</td>\n",
       "      <td>2</td>\n",
       "      <td>1.0</td>\n",
       "      <td>13.0</td>\n",
       "      <td>NaN</td>\n",
       "      <td>...</td>\n",
       "      <td>9.0</td>\n",
       "      <td>7.0</td>\n",
       "      <td>3</td>\n",
       "      <td>2</td>\n",
       "      <td>4</td>\n",
       "    </tr>\n",
       "    <tr>\n",
       "      <th>4</th>\n",
       "      <td>910241</td>\n",
       "      <td>-1</td>\n",
       "      <td>1.0</td>\n",
       "      <td>20.0</td>\n",
       "      <td>NaN</td>\n",
       "      <td>...</td>\n",
       "      <td>9.0</td>\n",
       "      <td>3.0</td>\n",
       "      <td>4</td>\n",
       "      <td>1</td>\n",
       "      <td>3</td>\n",
       "    </tr>\n",
       "  </tbody>\n",
       "</table>\n",
       "<p>5 rows × 366 columns</p>\n",
       "</div>"
      ],
      "text/plain": [
       "      LNR  AGER_TYP  AKT_DAT_KL  ALTER_HH  ALTER_KIND1  ...  WOHNDAUER_2008  \\\n",
       "0  910215        -1         NaN       NaN          NaN  ...             NaN   \n",
       "1  910220        -1         9.0       0.0          NaN  ...             9.0   \n",
       "2  910225        -1         9.0      17.0          NaN  ...             9.0   \n",
       "3  910226         2         1.0      13.0          NaN  ...             9.0   \n",
       "4  910241        -1         1.0      20.0          NaN  ...             9.0   \n",
       "\n",
       "   WOHNLAGE  ZABEOTYP  ANREDE_KZ  ALTERSKATEGORIE_GROB  \n",
       "0       NaN         3          1                     2  \n",
       "1       4.0         5          2                     1  \n",
       "2       2.0         5          2                     3  \n",
       "3       7.0         3          2                     4  \n",
       "4       3.0         4          1                     3  \n",
       "\n",
       "[5 rows x 366 columns]"
      ]
     },
     "execution_count": 5,
     "metadata": {},
     "output_type": "execute_result"
    }
   ],
   "source": [
    "# Looking at the first 5 rows of the general demographics dataframe\n",
    "azdias.head(5)"
   ]
  },
  {
   "cell_type": "code",
   "execution_count": 6,
   "metadata": {},
   "outputs": [
    {
     "data": {
      "text/html": [
       "<div>\n",
       "<style scoped>\n",
       "    .dataframe tbody tr th:only-of-type {\n",
       "        vertical-align: middle;\n",
       "    }\n",
       "\n",
       "    .dataframe tbody tr th {\n",
       "        vertical-align: top;\n",
       "    }\n",
       "\n",
       "    .dataframe thead th {\n",
       "        text-align: right;\n",
       "    }\n",
       "</style>\n",
       "<table border=\"1\" class=\"dataframe\">\n",
       "  <thead>\n",
       "    <tr style=\"text-align: right;\">\n",
       "      <th></th>\n",
       "      <th>LNR</th>\n",
       "      <th>AGER_TYP</th>\n",
       "      <th>AKT_DAT_KL</th>\n",
       "      <th>ALTER_HH</th>\n",
       "      <th>ALTER_KIND1</th>\n",
       "      <th>...</th>\n",
       "      <th>WOHNDAUER_2008</th>\n",
       "      <th>WOHNLAGE</th>\n",
       "      <th>ZABEOTYP</th>\n",
       "      <th>ANREDE_KZ</th>\n",
       "      <th>ALTERSKATEGORIE_GROB</th>\n",
       "    </tr>\n",
       "  </thead>\n",
       "  <tbody>\n",
       "    <tr>\n",
       "      <th>891216</th>\n",
       "      <td>825761</td>\n",
       "      <td>-1</td>\n",
       "      <td>5.0</td>\n",
       "      <td>17.0</td>\n",
       "      <td>NaN</td>\n",
       "      <td>...</td>\n",
       "      <td>4.0</td>\n",
       "      <td>3.0</td>\n",
       "      <td>4</td>\n",
       "      <td>2</td>\n",
       "      <td>3</td>\n",
       "    </tr>\n",
       "    <tr>\n",
       "      <th>891217</th>\n",
       "      <td>825771</td>\n",
       "      <td>-1</td>\n",
       "      <td>9.0</td>\n",
       "      <td>16.0</td>\n",
       "      <td>NaN</td>\n",
       "      <td>...</td>\n",
       "      <td>9.0</td>\n",
       "      <td>5.0</td>\n",
       "      <td>6</td>\n",
       "      <td>1</td>\n",
       "      <td>2</td>\n",
       "    </tr>\n",
       "    <tr>\n",
       "      <th>891218</th>\n",
       "      <td>825772</td>\n",
       "      <td>-1</td>\n",
       "      <td>1.0</td>\n",
       "      <td>17.0</td>\n",
       "      <td>NaN</td>\n",
       "      <td>...</td>\n",
       "      <td>5.0</td>\n",
       "      <td>7.0</td>\n",
       "      <td>4</td>\n",
       "      <td>2</td>\n",
       "      <td>2</td>\n",
       "    </tr>\n",
       "    <tr>\n",
       "      <th>891219</th>\n",
       "      <td>825776</td>\n",
       "      <td>-1</td>\n",
       "      <td>9.0</td>\n",
       "      <td>0.0</td>\n",
       "      <td>17.0</td>\n",
       "      <td>...</td>\n",
       "      <td>9.0</td>\n",
       "      <td>5.0</td>\n",
       "      <td>5</td>\n",
       "      <td>1</td>\n",
       "      <td>1</td>\n",
       "    </tr>\n",
       "    <tr>\n",
       "      <th>891220</th>\n",
       "      <td>825787</td>\n",
       "      <td>-1</td>\n",
       "      <td>1.0</td>\n",
       "      <td>0.0</td>\n",
       "      <td>NaN</td>\n",
       "      <td>...</td>\n",
       "      <td>3.0</td>\n",
       "      <td>4.0</td>\n",
       "      <td>3</td>\n",
       "      <td>1</td>\n",
       "      <td>4</td>\n",
       "    </tr>\n",
       "  </tbody>\n",
       "</table>\n",
       "<p>5 rows × 366 columns</p>\n",
       "</div>"
      ],
      "text/plain": [
       "           LNR  AGER_TYP  AKT_DAT_KL  ALTER_HH  ALTER_KIND1  ...  \\\n",
       "891216  825761        -1         5.0      17.0          NaN  ...   \n",
       "891217  825771        -1         9.0      16.0          NaN  ...   \n",
       "891218  825772        -1         1.0      17.0          NaN  ...   \n",
       "891219  825776        -1         9.0       0.0         17.0  ...   \n",
       "891220  825787        -1         1.0       0.0          NaN  ...   \n",
       "\n",
       "        WOHNDAUER_2008  WOHNLAGE  ZABEOTYP  ANREDE_KZ  ALTERSKATEGORIE_GROB  \n",
       "891216             4.0       3.0         4          2                     3  \n",
       "891217             9.0       5.0         6          1                     2  \n",
       "891218             5.0       7.0         4          2                     2  \n",
       "891219             9.0       5.0         5          1                     1  \n",
       "891220             3.0       4.0         3          1                     4  \n",
       "\n",
       "[5 rows x 366 columns]"
      ]
     },
     "execution_count": 6,
     "metadata": {},
     "output_type": "execute_result"
    }
   ],
   "source": [
    "# Looking at the last 5 rows of the general demographics dataframe\n",
    "azdias.tail(5)"
   ]
  },
  {
   "cell_type": "code",
   "execution_count": 7,
   "metadata": {},
   "outputs": [
    {
     "data": {
      "text/html": [
       "<div>\n",
       "<style scoped>\n",
       "    .dataframe tbody tr th:only-of-type {\n",
       "        vertical-align: middle;\n",
       "    }\n",
       "\n",
       "    .dataframe tbody tr th {\n",
       "        vertical-align: top;\n",
       "    }\n",
       "\n",
       "    .dataframe thead th {\n",
       "        text-align: right;\n",
       "    }\n",
       "</style>\n",
       "<table border=\"1\" class=\"dataframe\">\n",
       "  <thead>\n",
       "    <tr style=\"text-align: right;\">\n",
       "      <th></th>\n",
       "      <th>LNR</th>\n",
       "      <th>AGER_TYP</th>\n",
       "      <th>AKT_DAT_KL</th>\n",
       "      <th>ALTER_HH</th>\n",
       "      <th>ALTER_KIND1</th>\n",
       "      <th>...</th>\n",
       "      <th>WOHNDAUER_2008</th>\n",
       "      <th>WOHNLAGE</th>\n",
       "      <th>ZABEOTYP</th>\n",
       "      <th>ANREDE_KZ</th>\n",
       "      <th>ALTERSKATEGORIE_GROB</th>\n",
       "    </tr>\n",
       "  </thead>\n",
       "  <tbody>\n",
       "    <tr>\n",
       "      <th>count</th>\n",
       "      <td>8.912210e+05</td>\n",
       "      <td>891221.000000</td>\n",
       "      <td>817722.000000</td>\n",
       "      <td>817722.000000</td>\n",
       "      <td>81058.000000</td>\n",
       "      <td>...</td>\n",
       "      <td>817722.000000</td>\n",
       "      <td>798073.000000</td>\n",
       "      <td>891221.000000</td>\n",
       "      <td>891221.000000</td>\n",
       "      <td>891221.000000</td>\n",
       "    </tr>\n",
       "    <tr>\n",
       "      <th>mean</th>\n",
       "      <td>6.372630e+05</td>\n",
       "      <td>-0.358435</td>\n",
       "      <td>4.421928</td>\n",
       "      <td>10.864126</td>\n",
       "      <td>11.745392</td>\n",
       "      <td>...</td>\n",
       "      <td>7.908791</td>\n",
       "      <td>4.052836</td>\n",
       "      <td>3.362438</td>\n",
       "      <td>1.522098</td>\n",
       "      <td>2.777398</td>\n",
       "    </tr>\n",
       "    <tr>\n",
       "      <th>std</th>\n",
       "      <td>2.572735e+05</td>\n",
       "      <td>1.198724</td>\n",
       "      <td>3.638805</td>\n",
       "      <td>7.639683</td>\n",
       "      <td>4.097660</td>\n",
       "      <td>...</td>\n",
       "      <td>1.923137</td>\n",
       "      <td>1.949539</td>\n",
       "      <td>1.352704</td>\n",
       "      <td>0.499512</td>\n",
       "      <td>1.068775</td>\n",
       "    </tr>\n",
       "    <tr>\n",
       "      <th>min</th>\n",
       "      <td>1.916530e+05</td>\n",
       "      <td>-1.000000</td>\n",
       "      <td>1.000000</td>\n",
       "      <td>0.000000</td>\n",
       "      <td>2.000000</td>\n",
       "      <td>...</td>\n",
       "      <td>1.000000</td>\n",
       "      <td>0.000000</td>\n",
       "      <td>1.000000</td>\n",
       "      <td>1.000000</td>\n",
       "      <td>1.000000</td>\n",
       "    </tr>\n",
       "    <tr>\n",
       "      <th>25%</th>\n",
       "      <td>4.144580e+05</td>\n",
       "      <td>-1.000000</td>\n",
       "      <td>1.000000</td>\n",
       "      <td>0.000000</td>\n",
       "      <td>8.000000</td>\n",
       "      <td>...</td>\n",
       "      <td>8.000000</td>\n",
       "      <td>3.000000</td>\n",
       "      <td>3.000000</td>\n",
       "      <td>1.000000</td>\n",
       "      <td>2.000000</td>\n",
       "    </tr>\n",
       "    <tr>\n",
       "      <th>50%</th>\n",
       "      <td>6.372630e+05</td>\n",
       "      <td>-1.000000</td>\n",
       "      <td>3.000000</td>\n",
       "      <td>13.000000</td>\n",
       "      <td>12.000000</td>\n",
       "      <td>...</td>\n",
       "      <td>9.000000</td>\n",
       "      <td>3.000000</td>\n",
       "      <td>3.000000</td>\n",
       "      <td>2.000000</td>\n",
       "      <td>3.000000</td>\n",
       "    </tr>\n",
       "    <tr>\n",
       "      <th>75%</th>\n",
       "      <td>8.600680e+05</td>\n",
       "      <td>-1.000000</td>\n",
       "      <td>9.000000</td>\n",
       "      <td>17.000000</td>\n",
       "      <td>15.000000</td>\n",
       "      <td>...</td>\n",
       "      <td>9.000000</td>\n",
       "      <td>5.000000</td>\n",
       "      <td>4.000000</td>\n",
       "      <td>2.000000</td>\n",
       "      <td>4.000000</td>\n",
       "    </tr>\n",
       "    <tr>\n",
       "      <th>max</th>\n",
       "      <td>1.082873e+06</td>\n",
       "      <td>3.000000</td>\n",
       "      <td>9.000000</td>\n",
       "      <td>21.000000</td>\n",
       "      <td>18.000000</td>\n",
       "      <td>...</td>\n",
       "      <td>9.000000</td>\n",
       "      <td>8.000000</td>\n",
       "      <td>6.000000</td>\n",
       "      <td>2.000000</td>\n",
       "      <td>9.000000</td>\n",
       "    </tr>\n",
       "  </tbody>\n",
       "</table>\n",
       "<p>8 rows × 360 columns</p>\n",
       "</div>"
      ],
      "text/plain": [
       "                LNR       AGER_TYP     AKT_DAT_KL       ALTER_HH  \\\n",
       "count  8.912210e+05  891221.000000  817722.000000  817722.000000   \n",
       "mean   6.372630e+05      -0.358435       4.421928      10.864126   \n",
       "std    2.572735e+05       1.198724       3.638805       7.639683   \n",
       "min    1.916530e+05      -1.000000       1.000000       0.000000   \n",
       "25%    4.144580e+05      -1.000000       1.000000       0.000000   \n",
       "50%    6.372630e+05      -1.000000       3.000000      13.000000   \n",
       "75%    8.600680e+05      -1.000000       9.000000      17.000000   \n",
       "max    1.082873e+06       3.000000       9.000000      21.000000   \n",
       "\n",
       "        ALTER_KIND1  ...  WOHNDAUER_2008       WOHNLAGE       ZABEOTYP  \\\n",
       "count  81058.000000  ...   817722.000000  798073.000000  891221.000000   \n",
       "mean      11.745392  ...        7.908791       4.052836       3.362438   \n",
       "std        4.097660  ...        1.923137       1.949539       1.352704   \n",
       "min        2.000000  ...        1.000000       0.000000       1.000000   \n",
       "25%        8.000000  ...        8.000000       3.000000       3.000000   \n",
       "50%       12.000000  ...        9.000000       3.000000       3.000000   \n",
       "75%       15.000000  ...        9.000000       5.000000       4.000000   \n",
       "max       18.000000  ...        9.000000       8.000000       6.000000   \n",
       "\n",
       "           ANREDE_KZ  ALTERSKATEGORIE_GROB  \n",
       "count  891221.000000         891221.000000  \n",
       "mean        1.522098              2.777398  \n",
       "std         0.499512              1.068775  \n",
       "min         1.000000              1.000000  \n",
       "25%         1.000000              2.000000  \n",
       "50%         2.000000              3.000000  \n",
       "75%         2.000000              4.000000  \n",
       "max         2.000000              9.000000  \n",
       "\n",
       "[8 rows x 360 columns]"
      ]
     },
     "execution_count": 7,
     "metadata": {},
     "output_type": "execute_result"
    }
   ],
   "source": [
    "# Looking at the summary statistics of the general demographics dataframe\n",
    "azdias.describe()"
   ]
  },
  {
   "cell_type": "code",
   "execution_count": 8,
   "metadata": {},
   "outputs": [
    {
     "name": "stdout",
     "output_type": "stream",
     "text": [
      "<class 'pandas.core.frame.DataFrame'>\n",
      "RangeIndex: 891221 entries, 0 to 891220\n",
      "Columns: 366 entries, LNR to ALTERSKATEGORIE_GROB\n",
      "dtypes: float64(267), int64(93), object(6)\n",
      "memory usage: 2.4+ GB\n"
     ]
    }
   ],
   "source": [
    "# Looking at the data features of the general demographics dataframe\n",
    "azdias.info()"
   ]
  },
  {
   "cell_type": "markdown",
   "metadata": {},
   "source": [
    "### Step 0.1: Assess Missing Data\n",
    "\n",
    "The first preprocessing step to take is to deal with the missing values per columns and rows. I have splitted this step into three substeps: 1) the conversion of encoded missing values into nans, 2) the removal of outliers columns, and 3) the removal of outlier rows from the remaining columns."
   ]
  },
  {
   "cell_type": "markdown",
   "metadata": {},
   "source": [
    "#### Step 0.1.1: Convert Missing Value Codes to NaNs\n",
    "By looking at the excel file ´DIAS Attributes - Values 2017.xlsx´, I figured out that there are missing values in the features encoded as either specific numbers like 0, -1 or letters like 'X' or 'XX'. Therefore, I'm gonna read this file to detect these encodings and replace each appearance in the dataframe with nan values. Additonally, I added an extra column Type to set the type of each feature: binary (2-level categories), categorical (>=3 levels), ordinal or numeric.  "
   ]
  },
  {
   "cell_type": "code",
   "execution_count": 9,
   "metadata": {},
   "outputs": [],
   "source": [
    "# Reading the excel file with info on dias attributes\n",
    "dias_att = pd.read_excel(io='./data/DIAS Attributes - Values 2017.xlsx', sheet_name = 'Tabelle1', skiprows=1)"
   ]
  },
  {
   "cell_type": "code",
   "execution_count": 10,
   "metadata": {},
   "outputs": [
    {
     "data": {
      "text/html": [
       "<div>\n",
       "<style scoped>\n",
       "    .dataframe tbody tr th:only-of-type {\n",
       "        vertical-align: middle;\n",
       "    }\n",
       "\n",
       "    .dataframe tbody tr th {\n",
       "        vertical-align: top;\n",
       "    }\n",
       "\n",
       "    .dataframe thead th {\n",
       "        text-align: right;\n",
       "    }\n",
       "</style>\n",
       "<table border=\"1\" class=\"dataframe\">\n",
       "  <thead>\n",
       "    <tr style=\"text-align: right;\">\n",
       "      <th></th>\n",
       "      <th>Unnamed: 0</th>\n",
       "      <th>Attribute</th>\n",
       "      <th>Description</th>\n",
       "      <th>Value</th>\n",
       "      <th>Meaning</th>\n",
       "      <th>Type</th>\n",
       "    </tr>\n",
       "  </thead>\n",
       "  <tbody>\n",
       "    <tr>\n",
       "      <th>0</th>\n",
       "      <td>NaN</td>\n",
       "      <td>AGER_TYP</td>\n",
       "      <td>best-ager typology</td>\n",
       "      <td>-1</td>\n",
       "      <td>unknown</td>\n",
       "      <td>categorical</td>\n",
       "    </tr>\n",
       "    <tr>\n",
       "      <th>1</th>\n",
       "      <td>NaN</td>\n",
       "      <td>NaN</td>\n",
       "      <td>NaN</td>\n",
       "      <td>0</td>\n",
       "      <td>no classification possible</td>\n",
       "      <td>NaN</td>\n",
       "    </tr>\n",
       "    <tr>\n",
       "      <th>2</th>\n",
       "      <td>NaN</td>\n",
       "      <td>NaN</td>\n",
       "      <td>NaN</td>\n",
       "      <td>1</td>\n",
       "      <td>passive elderly</td>\n",
       "      <td>NaN</td>\n",
       "    </tr>\n",
       "    <tr>\n",
       "      <th>3</th>\n",
       "      <td>NaN</td>\n",
       "      <td>NaN</td>\n",
       "      <td>NaN</td>\n",
       "      <td>2</td>\n",
       "      <td>cultural elderly</td>\n",
       "      <td>NaN</td>\n",
       "    </tr>\n",
       "    <tr>\n",
       "      <th>4</th>\n",
       "      <td>NaN</td>\n",
       "      <td>NaN</td>\n",
       "      <td>NaN</td>\n",
       "      <td>3</td>\n",
       "      <td>experience-driven elderly</td>\n",
       "      <td>NaN</td>\n",
       "    </tr>\n",
       "    <tr>\n",
       "      <th>5</th>\n",
       "      <td>NaN</td>\n",
       "      <td>ALTERSKATEGORIE_GROB</td>\n",
       "      <td>age classification through prename analysis</td>\n",
       "      <td>-1, 0</td>\n",
       "      <td>unknown</td>\n",
       "      <td>ordinal</td>\n",
       "    </tr>\n",
       "    <tr>\n",
       "      <th>6</th>\n",
       "      <td>NaN</td>\n",
       "      <td>NaN</td>\n",
       "      <td>NaN</td>\n",
       "      <td>1</td>\n",
       "      <td>&lt; 30 years</td>\n",
       "      <td>NaN</td>\n",
       "    </tr>\n",
       "    <tr>\n",
       "      <th>7</th>\n",
       "      <td>NaN</td>\n",
       "      <td>NaN</td>\n",
       "      <td>NaN</td>\n",
       "      <td>2</td>\n",
       "      <td>30 - 45 years</td>\n",
       "      <td>NaN</td>\n",
       "    </tr>\n",
       "    <tr>\n",
       "      <th>8</th>\n",
       "      <td>NaN</td>\n",
       "      <td>NaN</td>\n",
       "      <td>NaN</td>\n",
       "      <td>3</td>\n",
       "      <td>46 - 60 years</td>\n",
       "      <td>NaN</td>\n",
       "    </tr>\n",
       "    <tr>\n",
       "      <th>9</th>\n",
       "      <td>NaN</td>\n",
       "      <td>NaN</td>\n",
       "      <td>NaN</td>\n",
       "      <td>4</td>\n",
       "      <td>&gt; 60 years</td>\n",
       "      <td>NaN</td>\n",
       "    </tr>\n",
       "  </tbody>\n",
       "</table>\n",
       "</div>"
      ],
      "text/plain": [
       "   Unnamed: 0             Attribute  \\\n",
       "0         NaN              AGER_TYP   \n",
       "1         NaN                   NaN   \n",
       "2         NaN                   NaN   \n",
       "3         NaN                   NaN   \n",
       "4         NaN                   NaN   \n",
       "5         NaN  ALTERSKATEGORIE_GROB   \n",
       "6         NaN                   NaN   \n",
       "7         NaN                   NaN   \n",
       "8         NaN                   NaN   \n",
       "9         NaN                   NaN   \n",
       "\n",
       "                                    Description  Value  \\\n",
       "0                            best-ager typology     -1   \n",
       "1                                           NaN      0   \n",
       "2                                           NaN      1   \n",
       "3                                           NaN      2   \n",
       "4                                           NaN      3   \n",
       "5  age classification through prename analysis   -1, 0   \n",
       "6                                           NaN      1   \n",
       "7                                           NaN      2   \n",
       "8                                           NaN      3   \n",
       "9                                           NaN      4   \n",
       "\n",
       "                      Meaning         Type  \n",
       "0                     unknown  categorical  \n",
       "1  no classification possible          NaN  \n",
       "2             passive elderly          NaN  \n",
       "3            cultural elderly          NaN  \n",
       "4   experience-driven elderly          NaN  \n",
       "5                     unknown      ordinal  \n",
       "6                  < 30 years          NaN  \n",
       "7               30 - 45 years          NaN  \n",
       "8               46 - 60 years          NaN  \n",
       "9                  > 60 years          NaN  "
      ]
     },
     "execution_count": 10,
     "metadata": {},
     "output_type": "execute_result"
    }
   ],
   "source": [
    "dias_att.head(10)"
   ]
  },
  {
   "cell_type": "code",
   "execution_count": 11,
   "metadata": {},
   "outputs": [
    {
     "data": {
      "text/html": [
       "<div>\n",
       "<style scoped>\n",
       "    .dataframe tbody tr th:only-of-type {\n",
       "        vertical-align: middle;\n",
       "    }\n",
       "\n",
       "    .dataframe tbody tr th {\n",
       "        vertical-align: top;\n",
       "    }\n",
       "\n",
       "    .dataframe thead th {\n",
       "        text-align: right;\n",
       "    }\n",
       "</style>\n",
       "<table border=\"1\" class=\"dataframe\">\n",
       "  <thead>\n",
       "    <tr style=\"text-align: right;\">\n",
       "      <th></th>\n",
       "      <th>Attribute</th>\n",
       "      <th>Description</th>\n",
       "      <th>Value</th>\n",
       "      <th>Meaning</th>\n",
       "      <th>Type</th>\n",
       "    </tr>\n",
       "  </thead>\n",
       "  <tbody>\n",
       "    <tr>\n",
       "      <th>0</th>\n",
       "      <td>AGER_TYP</td>\n",
       "      <td>best-ager typology</td>\n",
       "      <td>-1</td>\n",
       "      <td>unknown</td>\n",
       "      <td>categorical</td>\n",
       "    </tr>\n",
       "    <tr>\n",
       "      <th>1</th>\n",
       "      <td>NaN</td>\n",
       "      <td>NaN</td>\n",
       "      <td>0</td>\n",
       "      <td>no classification possible</td>\n",
       "      <td>NaN</td>\n",
       "    </tr>\n",
       "    <tr>\n",
       "      <th>2</th>\n",
       "      <td>NaN</td>\n",
       "      <td>NaN</td>\n",
       "      <td>1</td>\n",
       "      <td>passive elderly</td>\n",
       "      <td>NaN</td>\n",
       "    </tr>\n",
       "    <tr>\n",
       "      <th>3</th>\n",
       "      <td>NaN</td>\n",
       "      <td>NaN</td>\n",
       "      <td>2</td>\n",
       "      <td>cultural elderly</td>\n",
       "      <td>NaN</td>\n",
       "    </tr>\n",
       "    <tr>\n",
       "      <th>4</th>\n",
       "      <td>NaN</td>\n",
       "      <td>NaN</td>\n",
       "      <td>3</td>\n",
       "      <td>experience-driven elderly</td>\n",
       "      <td>NaN</td>\n",
       "    </tr>\n",
       "    <tr>\n",
       "      <th>5</th>\n",
       "      <td>ALTERSKATEGORIE_GROB</td>\n",
       "      <td>age classification through prename analysis</td>\n",
       "      <td>-1, 0</td>\n",
       "      <td>unknown</td>\n",
       "      <td>ordinal</td>\n",
       "    </tr>\n",
       "    <tr>\n",
       "      <th>6</th>\n",
       "      <td>NaN</td>\n",
       "      <td>NaN</td>\n",
       "      <td>1</td>\n",
       "      <td>&lt; 30 years</td>\n",
       "      <td>NaN</td>\n",
       "    </tr>\n",
       "    <tr>\n",
       "      <th>7</th>\n",
       "      <td>NaN</td>\n",
       "      <td>NaN</td>\n",
       "      <td>2</td>\n",
       "      <td>30 - 45 years</td>\n",
       "      <td>NaN</td>\n",
       "    </tr>\n",
       "    <tr>\n",
       "      <th>8</th>\n",
       "      <td>NaN</td>\n",
       "      <td>NaN</td>\n",
       "      <td>3</td>\n",
       "      <td>46 - 60 years</td>\n",
       "      <td>NaN</td>\n",
       "    </tr>\n",
       "    <tr>\n",
       "      <th>9</th>\n",
       "      <td>NaN</td>\n",
       "      <td>NaN</td>\n",
       "      <td>4</td>\n",
       "      <td>&gt; 60 years</td>\n",
       "      <td>NaN</td>\n",
       "    </tr>\n",
       "  </tbody>\n",
       "</table>\n",
       "</div>"
      ],
      "text/plain": [
       "              Attribute                                   Description  Value  \\\n",
       "0              AGER_TYP                            best-ager typology     -1   \n",
       "1                   NaN                                           NaN      0   \n",
       "2                   NaN                                           NaN      1   \n",
       "3                   NaN                                           NaN      2   \n",
       "4                   NaN                                           NaN      3   \n",
       "5  ALTERSKATEGORIE_GROB  age classification through prename analysis   -1, 0   \n",
       "6                   NaN                                           NaN      1   \n",
       "7                   NaN                                           NaN      2   \n",
       "8                   NaN                                           NaN      3   \n",
       "9                   NaN                                           NaN      4   \n",
       "\n",
       "                      Meaning         Type  \n",
       "0                     unknown  categorical  \n",
       "1  no classification possible          NaN  \n",
       "2             passive elderly          NaN  \n",
       "3            cultural elderly          NaN  \n",
       "4   experience-driven elderly          NaN  \n",
       "5                     unknown      ordinal  \n",
       "6                  < 30 years          NaN  \n",
       "7               30 - 45 years          NaN  \n",
       "8               46 - 60 years          NaN  \n",
       "9                  > 60 years          NaN  "
      ]
     },
     "execution_count": 11,
     "metadata": {},
     "output_type": "execute_result"
    }
   ],
   "source": [
    "# We clean the excel by dropping the first null\n",
    "dias_att.drop(columns= 'Unnamed: 0', inplace=True)\n",
    "dias_att.head(10)"
   ]
  },
  {
   "cell_type": "code",
   "execution_count": 12,
   "metadata": {},
   "outputs": [
    {
     "data": {
      "text/html": [
       "<div>\n",
       "<style scoped>\n",
       "    .dataframe tbody tr th:only-of-type {\n",
       "        vertical-align: middle;\n",
       "    }\n",
       "\n",
       "    .dataframe tbody tr th {\n",
       "        vertical-align: top;\n",
       "    }\n",
       "\n",
       "    .dataframe thead th {\n",
       "        text-align: right;\n",
       "    }\n",
       "</style>\n",
       "<table border=\"1\" class=\"dataframe\">\n",
       "  <thead>\n",
       "    <tr style=\"text-align: right;\">\n",
       "      <th></th>\n",
       "      <th>Attribute</th>\n",
       "      <th>Value</th>\n",
       "    </tr>\n",
       "  </thead>\n",
       "  <tbody>\n",
       "    <tr>\n",
       "      <th>0</th>\n",
       "      <td>AGER_TYP</td>\n",
       "      <td>-1</td>\n",
       "    </tr>\n",
       "    <tr>\n",
       "      <th>5</th>\n",
       "      <td>ALTERSKATEGORIE_GROB</td>\n",
       "      <td>-1, 0</td>\n",
       "    </tr>\n",
       "    <tr>\n",
       "      <th>33</th>\n",
       "      <td>ANREDE_KZ</td>\n",
       "      <td>-1, 0</td>\n",
       "    </tr>\n",
       "    <tr>\n",
       "      <th>40</th>\n",
       "      <td>BALLRAUM</td>\n",
       "      <td>-1</td>\n",
       "    </tr>\n",
       "    <tr>\n",
       "      <th>48</th>\n",
       "      <td>BIP_FLAG</td>\n",
       "      <td>-1</td>\n",
       "    </tr>\n",
       "    <tr>\n",
       "      <th>51</th>\n",
       "      <td>CAMEO_DEUG_2015</td>\n",
       "      <td>X</td>\n",
       "    </tr>\n",
       "    <tr>\n",
       "      <th>61</th>\n",
       "      <td>CAMEO_DEU_2015</td>\n",
       "      <td>XX</td>\n",
       "    </tr>\n",
       "    <tr>\n",
       "      <th>106</th>\n",
       "      <td>CAMEO_INTL_2015</td>\n",
       "      <td>XX</td>\n",
       "    </tr>\n",
       "    <tr>\n",
       "      <th>132</th>\n",
       "      <td>CJT_GESAMTTYP</td>\n",
       "      <td>0</td>\n",
       "    </tr>\n",
       "    <tr>\n",
       "      <th>392</th>\n",
       "      <td>D19_KK_KUNDENTYP</td>\n",
       "      <td>-1</td>\n",
       "    </tr>\n",
       "  </tbody>\n",
       "</table>\n",
       "</div>"
      ],
      "text/plain": [
       "                Attribute  Value\n",
       "0                AGER_TYP     -1\n",
       "5    ALTERSKATEGORIE_GROB  -1, 0\n",
       "33              ANREDE_KZ  -1, 0\n",
       "40               BALLRAUM     -1\n",
       "48               BIP_FLAG     -1\n",
       "51        CAMEO_DEUG_2015      X\n",
       "61         CAMEO_DEU_2015     XX\n",
       "106       CAMEO_INTL_2015     XX\n",
       "132         CJT_GESAMTTYP      0\n",
       "392      D19_KK_KUNDENTYP     -1"
      ]
     },
     "execution_count": 12,
     "metadata": {},
     "output_type": "execute_result"
    }
   ],
   "source": [
    "# We create a two-column dataframe based on dias_att where we have the name of the feature in one column and the list of \n",
    "# missing/unkown values in the other\n",
    "att_to_nan = dias_att.loc[dias_att['Meaning'] == 'unknown', ['Attribute', 'Value']]\n",
    "att_to_nan['Value'] = att_to_nan['Value'].astype('str')\n",
    "att_to_nan.head(10)"
   ]
  },
  {
   "cell_type": "code",
   "execution_count": 13,
   "metadata": {},
   "outputs": [
    {
     "name": "stdout",
     "output_type": "stream",
     "text": [
      "Number of columns with missing descriptions:  93\n",
      "Portion of columns with missing descriptions: 25.40983606557377 %\n"
     ]
    }
   ],
   "source": [
    "# Dropping columns with no description in file DIAS Attributes - Values 2017.xlsx\n",
    "mis_col_desc = set(azdias.columns).difference(dias_att['Attribute'].unique())\n",
    "print('Number of columns with missing descriptions: ', len(mis_col_desc))\n",
    "print('Portion of columns with missing descriptions: {} %'.format(100*(len(mis_col_desc)/len(azdias.columns))))"
   ]
  },
  {
   "cell_type": "code",
   "execution_count": 14,
   "metadata": {},
   "outputs": [
    {
     "name": "stdout",
     "output_type": "stream",
     "text": [
      "Encoded missing values:  ['-1' '-1, 0' 'X' 'XX' '0' '-1, 9']\n"
     ]
    }
   ],
   "source": [
    "# Showing all cases of encoded missing values\n",
    "print('Encoded missing values: ', att_to_nan['Value'].unique())"
   ]
  },
  {
   "cell_type": "code",
   "execution_count": 15,
   "metadata": {},
   "outputs": [
    {
     "name": "stdout",
     "output_type": "stream",
     "text": [
      "D19_VERSI_ONLINE_DATUM :  [9]\n",
      "AKT_DAT_KL :  [9]\n",
      "D19_SCHUHE :  [0]\n",
      "D19_BANKEN_LOKAL :  [0]\n",
      "KBA13_ANTG3 :  [0]\n",
      "ALTER_KIND2 :  [9]\n",
      "ALTER_KIND3 :  [9]\n",
      "VERDICHTUNGSRAUM :  [0, 9]\n",
      "D19_BEKLEIDUNG_GEH :  [0]\n",
      "D19_BANKEN_GROSS :  [0]\n",
      "D19_WEIN_FEINKOST :  [0]\n",
      "KBA13_ANTG2 :  [0]\n",
      "D19_KONSUMTYP_MAX :  [9]\n",
      "D19_FREIZEIT :  [0]\n",
      "D19_BIO_OEKO :  [0]\n",
      "EXTSEL992 :  [9]\n",
      "D19_VERSAND_REST :  [0]\n",
      "D19_DROGERIEARTIKEL :  [0]\n",
      "D19_NAHRUNGSERGAENZUNG :  [0]\n",
      "KBA13_ANTG1 :  [0]\n",
      "RT_UEBERGROESSE :  [0]\n",
      "D19_BEKLEIDUNG_REST :  [0]\n",
      "VHA :  [0]\n",
      "D19_VERSI_OFFLINE_DATUM :  [9]\n",
      "D19_TIERARTIKEL :  [0]\n",
      "D19_SONSTIGE :  [0]\n",
      "D19_HANDWERK :  [0]\n",
      "D19_VERSI_ONLINE_QUOTE_12 :  [0, 9]\n",
      "KBA13_ANTG4 :  [0.0]\n",
      "D19_TELKO_MOBILE :  [0]\n",
      "VK_DISTANZ :  [9]\n",
      "D19_HAUS_DEKO :  [0]\n",
      "D19_VERSI_DATUM :  [9]\n",
      "VK_ZG11 :  [9]\n",
      "D19_VOLLSORTIMENT :  [0]\n",
      "UNGLEICHENN_FLAG :  [0.0]\n",
      "D19_BUCH_CD :  [0]\n",
      "KONSUMZELLE :  [0.0]\n",
      "D19_KINDERARTIKEL :  [0]\n",
      "D19_BILDUNG :  [0]\n",
      "D19_SOZIALES :  [0]\n",
      "D19_ENERGIE :  [0]\n",
      "KOMBIALTER :  [9]\n",
      "ALTERSKATEGORIE_FEIN :  [0, 9]\n",
      "D19_BANKEN_DIREKT :  [0]\n",
      "D19_DIGIT_SERV :  [0]\n",
      "D19_SAMMELARTIKEL :  [0]\n",
      "ALTER_KIND4 :  [9]\n",
      "D19_RATGEBER :  [0]\n",
      "D19_BANKEN_REST :  [0]\n",
      "ANZ_STATISTISCHE_HAUSHALTE :  [0, 9]\n",
      "D19_REISEN :  [0]\n",
      "HH_DELTA_FLAG :  [0.0]\n",
      "VHN :  [0]\n",
      "D19_KOSMETIK :  [0]\n",
      "D19_LEBENSMITTEL :  [0]\n",
      "VK_DHT4A :  [9]\n",
      "SOHO_KZ :  [0.0]\n",
      "ALTER_KIND1 :  [9]\n",
      "D19_LOTTO :  [0]\n",
      "D19_TELKO_ONLINE_QUOTE_12 :  [0]\n",
      "DSL_FLAG :  [0.0]\n",
      "D19_TELKO_REST :  [0]\n",
      "ARBEIT :  [9]\n",
      "ANZ_KINDER :  [0, 9]\n",
      "D19_TECHNIK :  [0]\n",
      "D19_GARTEN :  [0]\n",
      "D19_VERSICHERUNGEN :  [0]\n"
     ]
    }
   ],
   "source": [
    "# Adding them to the missing description features\n",
    "for col in mis_col_desc:\n",
    "    miss_vals = list(set(azdias[col].unique()).intersection({'X', 'XX', -1, 0, 9}))\n",
    "    \n",
    "    if miss_vals:\n",
    "        print(col, ': ', miss_vals)\n",
    "        df_miss_vals = pd.DataFrame({'Attribute': [col], \n",
    "                                     'Value': [str(miss_vals).translate({ord(i): None for i in '[]'})]})\n",
    "        att_to_nan = pd.concat([att_to_nan, df_miss_vals], ignore_index=True)"
   ]
  },
  {
   "cell_type": "code",
   "execution_count": 16,
   "metadata": {},
   "outputs": [],
   "source": [
    "def replace_missing_unknown_with_nan(*, df_data: pd.DataFrame, df_mu: pd.DataFrame) -> pd.DataFrame:\n",
    "    '''\n",
    "    This function replaces the missing or unknown values in the columns of a given dataframe with Nan values.\n",
    "\n",
    "    INPUT: df_data - dataframe whose columns may contain some missing or unknown values to replace with Nan values.\n",
    "           df_mu - dataframe whose rows contain a reference to a column in df_data and a list of values representing missing or unknown values in the \n",
    "                   form of a string.\n",
    "    OUTPUT: df_data_nan - dataframe with the unknow values from df_data replaced with nan values.\n",
    "    '''\n",
    "\n",
    "    df_data_nan = df_data.copy()\n",
    "    for i, row in df_mu.iterrows():\n",
    "        if row['Attribute'] not in df_data.columns:\n",
    "            continue\n",
    "        \n",
    "        missing_or_unknown_vals = list(map(convert_if_num, row['Value'].split(',')))\n",
    "        df_data_nan[row['Attribute']].replace(to_replace=missing_or_unknown_vals, value=np.nan, inplace=True)\n",
    "    \n",
    "    return df_data_nan"
   ]
  },
  {
   "cell_type": "code",
   "execution_count": 17,
   "metadata": {},
   "outputs": [
    {
     "name": "stdout",
     "output_type": "stream",
     "text": [
      "Total amount of nulls:  67448895\n"
     ]
    }
   ],
   "source": [
    "# Identify missing or unknown data values and convert them to NaNs.\n",
    "azdias_cleaned = replace_missing_unknown_with_nan(df_data=azdias, df_mu=att_to_nan)\n",
    "n_nans = azdias_cleaned.isnull().sum().sum()\n",
    "print('Total amount of nulls: ', n_nans)"
   ]
  },
  {
   "cell_type": "markdown",
   "metadata": {},
   "source": [
    "#### Step 0.1.2: Assess Missing Data in Each Column\n",
    "There might be columns that are outliers in terms of the proportion of values that are missing. To detect them and drop from the analysis, I'm gonna use matplotlib's [`hist()`](https://matplotlib.org/api/_as_gen/matplotlib.pyplot.hist.html) function to visualize the distribution of missing value counts."
   ]
  },
  {
   "cell_type": "code",
   "execution_count": 18,
   "metadata": {},
   "outputs": [],
   "source": [
    "def show_nans_distribution(*, df: pd.DataFrame, cols_or_rows: int, n_bins: int = 100) -> bool:\n",
    "    '''\n",
    "    This function plots a histogram with the distribution of nans either per column or per row.\n",
    "\n",
    "    INPUT: \n",
    "      df (pandas dataframe):            dataframe holding the data with all missing values converted into nans.\n",
    "      cols_or_rows (integer in [0, 1]): 0: nans per column/ 1: nans per row.\n",
    "      n_bins (integer):                 Number of bins to be used in the histogram \n",
    "    \n",
    "    OUTPUT: Whether or not the method was able to plot the histogram.\n",
    "    '''\n",
    "    \n",
    "    if cols_or_rows not in [0, 1]:\n",
    "        print('{} is an invalid value for cols_or_rows parameter'.format(cols_or_rows))\n",
    "        return False\n",
    "    \n",
    "    # Calculate the percentage of missing values for each column/row\n",
    "    missing_percentage = df.isnull().mean(axis=cols_or_rows)*100\n",
    "\n",
    "    # Filter out columns/rows having no missing values\n",
    "    missing_percentage = missing_percentage.loc[missing_percentage > 0]\n",
    "    \n",
    "    # Determine the customized message in the distinct plot labels \n",
    "    msg = 'rows' if cols_or_rows else 'columns'\n",
    "    \n",
    "    # Plot the histogram\n",
    "    missing_percentage.plot(kind='hist', bins=n_bins,\n",
    "                            title = \"Distribution of missing values in the \" + msg, \n",
    "                            xlabel=\"% of missing values\", ylabel=\"Number of \" + msg)\n",
    "    \n",
    "    return True"
   ]
  },
  {
   "cell_type": "code",
   "execution_count": 19,
   "metadata": {
    "scrolled": true
   },
   "outputs": [
    {
     "data": {
      "image/png": "[encoded data removed]",
      "text/plain": [
       "<Figure size 640x480 with 1 Axes>"
      ]
     },
     "metadata": {},
     "output_type": "display_data"
    }
   ],
   "source": [
    "# Ploting the distribution of missing values per column\n",
    "status = show_nans_distribution(df=azdias_cleaned, cols_or_rows=0)"
   ]
  },
  {
   "cell_type": "markdown",
   "metadata": {},
   "source": [
    "From the above histogram, we can see that the vast majority of columns has no more than **30%** of missing values. Therefore, that value can be used as a cutoff for dropping the outlier columns."
   ]
  },
  {
   "cell_type": "code",
   "execution_count": 20,
   "metadata": {},
   "outputs": [],
   "source": [
    "def drop_outlier_columns(*, df_data: pd.DataFrame, cutoff: int = 0.5)-> Tuple[pd.DataFrame, int]:\n",
    "    '''\n",
    "    This function drops the columns from the dataframe having an amount of missing values greater than cutoff value.\n",
    "\n",
    "    INPUT: df_data - dataframe whose columns may contain some missing values.\n",
    "           cutoff  - limit value in % from which columns with higher % of missing values will be dropped.  \n",
    "    OUTPUT: reduced dataframe with the dropped features.\n",
    "            list with the names of the dropped features.\n",
    "    '''\n",
    "\n",
    "    # Calculating the percentage of missing values for each column\n",
    "    series_nan_counts = df_data.isnull().mean(axis=0)\n",
    "\n",
    "    # Getting the row names having a number of missing values greater than cutoff value \n",
    "    dropped_columns = list(series_nan_counts.loc[series_nan_counts > cutoff].index)\n",
    "\n",
    "    # Dropping the columns matching the above selected row names\n",
    "    df_reduced_data = df_data.drop(columns=dropped_columns)\n",
    "\n",
    "    # Returning the reduced data frame in order to not modify the original one \n",
    "    return df_reduced_data, dropped_columns"
   ]
  },
  {
   "cell_type": "code",
   "execution_count": 21,
   "metadata": {},
   "outputs": [
    {
     "name": "stdout",
     "output_type": "stream",
     "text": [
      "Number of removed features: 51 (13.934426229508198 %)\n",
      "Removed features:  ['AGER_TYP', 'AKT_DAT_KL', 'ALTER_KIND1', 'ALTER_KIND2', 'ALTER_KIND3', 'ALTER_KIND4', 'ALTERSKATEGORIE_FEIN', 'ANZ_KINDER', 'D19_BANKEN_DIREKT', 'D19_BANKEN_GROSS', 'D19_BANKEN_LOKAL', 'D19_BANKEN_REST', 'D19_BEKLEIDUNG_GEH', 'D19_BEKLEIDUNG_REST', 'D19_BILDUNG', 'D19_BIO_OEKO', 'D19_BUCH_CD', 'D19_DIGIT_SERV', 'D19_DROGERIEARTIKEL', 'D19_ENERGIE', 'D19_FREIZEIT', 'D19_GARTEN', 'D19_HANDWERK', 'D19_HAUS_DEKO', 'D19_KINDERARTIKEL', 'D19_KOSMETIK', 'D19_LEBENSMITTEL', 'D19_LOTTO', 'D19_NAHRUNGSERGAENZUNG', 'D19_RATGEBER', 'D19_REISEN', 'D19_SAMMELARTIKEL', 'D19_SCHUHE', 'D19_SONSTIGE', 'D19_SOZIALES', 'D19_TECHNIK', 'D19_TELKO_MOBILE', 'D19_TELKO_ONLINE_QUOTE_12', 'D19_TELKO_REST', 'D19_TIERARTIKEL', 'D19_VERSAND_REST', 'D19_VERSI_ONLINE_QUOTE_12', 'D19_VERSICHERUNGEN', 'D19_VOLLSORTIMENT', 'D19_WEIN_FEINKOST', 'EXTSEL992', 'KBA05_BAUMAX', 'KK_KUNDENTYP', 'TITEL_KZ', 'VERDICHTUNGSRAUM', 'VHA']\n"
     ]
    }
   ],
   "source": [
    "azdias_cleaned, outlier_cols = drop_outlier_columns(df_data=azdias_cleaned, cutoff=0.3)\n",
    "n_outlier_cols = len(outlier_cols)\n",
    "print('Number of removed features: {} ({} %)'.format(n_outlier_cols, 100*n_outlier_cols/(len(azdias.columns))))\n",
    "print('Removed features: ', outlier_cols)"
   ]
  },
  {
   "cell_type": "markdown",
   "metadata": {},
   "source": [
    "#### Step 0.1.3: Assess Missing Data in Each Row\n",
    "I'm gonna do a similar approach to detect and remove the outlier rows."
   ]
  },
  {
   "cell_type": "code",
   "execution_count": 22,
   "metadata": {},
   "outputs": [
    {
     "data": {
      "text/plain": [
       "True"
      ]
     },
     "execution_count": 22,
     "metadata": {},
     "output_type": "execute_result"
    },
    {
     "data": {
      "image/png": "[encoded data removed]",
      "text/plain": [
       "<Figure size 640x480 with 1 Axes>"
      ]
     },
     "metadata": {},
     "output_type": "display_data"
    }
   ],
   "source": [
    "# Ploting the distribution of missing values per row\n",
    "show_nans_distribution(df=azdias_cleaned, cols_or_rows=1)"
   ]
  },
  {
   "cell_type": "markdown",
   "metadata": {},
   "source": [
    "From the above histogram, we can see that the vast majority of rows has no more than **30%** of missing values. Therefore, that value can be used as a cutoff for dropping the outlier rows."
   ]
  },
  {
   "cell_type": "code",
   "execution_count": 23,
   "metadata": {},
   "outputs": [],
   "source": [
    "def drop_outlier_rows(*, df: pd.DataFrame, cutoff: int = 0.5)-> Tuple[pd.DataFrame, int]:\n",
    "    '''\n",
    "    This function drops the rows from the dataframe having an amount of missing values greater than cutoff value.\n",
    "\n",
    "    INPUT: df_data - dataframe whose rows may contain some missing values.\n",
    "           cutoff  - limit value in % from which rows with higher % of missing values will be dropped.  \n",
    "    OUTPUT: reduced dataframe with the dropped rows.\n",
    "            integer standing for the number of dropped rows.\n",
    "    '''\n",
    "    \n",
    "    df_clean = df.copy()\n",
    "\n",
    "    # Calculating the percentage of missing values for each column\n",
    "    df_clean['n_miss_vals'] = df_clean.isnull().mean(axis=1)\n",
    "\n",
    "    # Calculating the number of rows to be removed\n",
    "    n_removed_rows = sum(df_clean['n_miss_vals'] > cutoff)\n",
    "\n",
    "    df_clean = df_clean.loc[df_clean['n_miss_vals'] <= cutoff]\n",
    "    df_clean.drop(columns='n_miss_vals', inplace = True)\n",
    "    \n",
    "    return df_clean, n_removed_rows"
   ]
  },
  {
   "cell_type": "code",
   "execution_count": 24,
   "metadata": {},
   "outputs": [
    {
     "name": "stdout",
     "output_type": "stream",
     "text": [
      "Amount of removed rows:  105846\n"
     ]
    }
   ],
   "source": [
    "azdias_cleaned, n_removed_rows = drop_outlier_rows(df=azdias_cleaned, cutoff=0.3)\n",
    "print('Amount of removed rows: ', n_removed_rows)"
   ]
  },
  {
   "cell_type": "code",
   "execution_count": 25,
   "metadata": {},
   "outputs": [
    {
     "name": "stdout",
     "output_type": "stream",
     "text": [
      "Additional removed features:  {'D19_VERSI_ONLINE_DATUM', 'RT_SCHNAEPPCHEN', 'KOMBIALTER', 'LNR', 'KBA13_ANTG3', 'CJT_TYP_3', 'KBA13_KMH_210', 'KBA13_HHZ', 'KBA13_BAUMAX', 'KBA13_ANTG2', 'D19_KONSUMTYP_MAX', 'ANZ_STATISTISCHE_HAUSHALTE', 'RT_KEIN_ANREIZ', 'CJT_TYP_5', 'HH_DELTA_FLAG', 'CJT_TYP_2', 'KBA13_ANTG1', 'RT_UEBERGROESSE', 'VHN', 'KBA13_GBZ', 'MOBI_RASTER', 'STRUKTURTYP', 'D19_LETZTER_KAUF_BRANCHE', 'CJT_KATALOGNUTZER', 'EINGEFUEGT_AM', 'VK_DHT4A', 'SOHO_KZ', 'D19_VERSI_OFFLINE_DATUM', 'CJT_TYP_4', 'CJT_TYP_1', 'FIRMENDICHTE', 'EINGEZOGENAM_HH_JAHR', 'KBA13_ANTG4', 'DSL_FLAG', 'VK_DISTANZ', 'KBA13_CCM_1401_2500', 'GEMEINDETYP', 'UMFELD_ALT', 'UMFELD_JUNG', 'D19_VERSI_DATUM', 'VK_ZG11', 'CJT_TYP_6', 'UNGLEICHENN_FLAG', 'ARBEIT', 'KONSUMZELLE'}\n"
     ]
    }
   ],
   "source": [
    "# Dropping the remaining missing features description\n",
    "rem_mis_col_desc = mis_col_desc.difference(outlier_cols)\n",
    "azdias_cleaned = azdias_cleaned.drop(columns=rem_mis_col_desc)\n",
    "print('Additional removed features: ', rem_mis_col_desc)"
   ]
  },
  {
   "cell_type": "markdown",
   "metadata": {},
   "source": [
    "### Step 0.2: Select and Re-Encode Features\n",
    "\n",
    "Since the unsupervised learning techniques to be used will only work on data that is encoded numerically, we need to make a few encoding changes or additional assumptions to be able to make progress. In addition, while almost all of the values in the dataset are encoded using numbers, not all of them represent numeric values.\n",
    "- For numeric and interval data, these features can be kept without changes.\n",
    "- Most of the variables in the dataset are ordinal in nature. While ordinal values may technically be non-linear in spacing, I will make the simplifying assumption that the ordinal variables can be treated as being interval in nature (that is, kept without any changes).\n",
    "- Special handling is also necessary for the remaining two variable types: categorical, and mixed.\n",
    "\n",
    "In the first two parts of this sub-step, I will conduct an investigation of the categorical and mixed-type features and make a decision on each of them, whether I will keep, drop, or re-encode each. Then, in the last part, I will create a new dataframe with only the selected and engineered columns."
   ]
  },
  {
   "cell_type": "code",
   "execution_count": 26,
   "metadata": {},
   "outputs": [
    {
     "data": {
      "text/plain": [
       "Type\n",
       "ordinal        221\n",
       "mixed           18\n",
       "categorical     16\n",
       "numeric         10\n",
       "binary           4\n",
       "interval         1\n",
       "Name: count, dtype: int64"
      ]
     },
     "execution_count": 26,
     "metadata": {},
     "output_type": "execute_result"
    }
   ],
   "source": [
    "valid_features = azdias_cleaned.columns.tolist()\n",
    "valid_features_types = dias_att.loc[dias_att['Attribute'].isin(valid_features), ['Attribute', 'Type']]\n",
    "valid_features_types['Type'].value_counts()"
   ]
  },
  {
   "cell_type": "code",
   "execution_count": 27,
   "metadata": {},
   "outputs": [],
   "source": [
    "#astype('category') categorical\n",
    "from pandas.api.types import CategoricalDtype\n",
    "cat_dtype = CategoricalDtype(\n",
    "    categories=[2, 1], ordered=True)"
   ]
  },
  {
   "cell_type": "markdown",
   "metadata": {},
   "source": [
    "#### Step 0.2.1: Engineer Mixed-Type Features"
   ]
  },
  {
   "cell_type": "code",
   "execution_count": 28,
   "metadata": {},
   "outputs": [
    {
     "name": "stdout",
     "output_type": "stream",
     "text": [
      "CAMEO_INTL_2015 [51.0 24.0 12.0 43.0 54.0 22.0 14.0 13.0 15.0 33.0 41.0 34.0 55.0 25.0 nan\n",
      " 23.0 31.0 52.0 35.0 45.0 44.0 32.0 '22' '24' '41' '12' '54' '51' '44'\n",
      " '35' '23' '25' '14' '34' '52' '55' '31' '32' '15' '13' '43' '33' '45']\n",
      "D19_BANKEN_DATUM [10  5  8  6  9  7  4  1  2  3]\n",
      "D19_BANKEN_OFFLINE_DATUM [10  9  8  2  5  4  1  6  7  3]\n",
      "D19_BANKEN_ONLINE_DATUM [10  5  8  6  9  4  7  1  2  3]\n",
      "D19_GESAMT_DATUM [10  1  3  5  9  4  7  6  8  2]\n",
      "D19_GESAMT_OFFLINE_DATUM [10  6  8  9  5  2  4  1  7  3]\n",
      "D19_GESAMT_ONLINE_DATUM [10  1  3  5  9  4  7  6  8  2]\n",
      "D19_TELKO_DATUM [10  6  9  8  5  7  4  2  1  3]\n",
      "D19_TELKO_OFFLINE_DATUM [10  8  5  6  9  7  4  2  3  1]\n",
      "D19_TELKO_ONLINE_DATUM [10  9  7  8  6  5  4  1  2  3]\n",
      "D19_VERSAND_DATUM [10  1  5  9  4  8  6  3  2  7]\n",
      "D19_VERSAND_OFFLINE_DATUM [10  9  6  8  5  2  1  4  7  3]\n",
      "D19_VERSAND_ONLINE_DATUM [10  1  5  9  4  8  6  3  2  7]\n",
      "LP_LEBENSPHASE_FEIN [21.  3.  0. 32.  8.  2.  5. 10.  4.  6. 23. 20.  1. 25. 13. 18. 31. 38.\n",
      " 35. 30.  7. 22. 14. 29. 24. 28. 37. 26. 12. 39. 27. 36.  9. 34. 33. 15.\n",
      " nan 11. 40. 16. 19. 17.]\n",
      "LP_LEBENSPHASE_GROB [ 6.  1. nan 10.  2.  3.  5.  7. 12. 11.  9.  4.  8.]\n",
      "PLZ8_BAUMAX [ 1.  2.  4.  5.  3. nan]\n",
      "PRAEGENDE_JUGENDJAHRE [14. 15.  8.  3. 10. 11.  9.  6.  4. nan  5.  2.  1. 12. 13.  7.]\n",
      "WOHNLAGE [4. 2. 7. 3. 5. 1. 8. 0.]\n"
     ]
    }
   ],
   "source": [
    "# Exploring mixed features\n",
    "mixed_feat = explore_feature_types(df_feat=azdias_cleaned, df_type=valid_features_types, feat_type='mixed')"
   ]
  },
  {
   "cell_type": "markdown",
   "metadata": {},
   "source": [
    "LP_LEBENSPHASE_FEIN will be dropped from the analysis as it contains too many uncertainties for classifying their values into categorical variables INCOME, AGE and household occupation. D19_BANKEN_DATUM, D19_GESAMT_DATUM, D19_TELKO_DATUM and D19_VERSAND_DATUM will be also removed as their respective OFFLINE and ONLINE features are more specific."
   ]
  },
  {
   "cell_type": "code",
   "execution_count": 29,
   "metadata": {},
   "outputs": [],
   "source": [
    "def is_re_encoding_correct(*, df: pd.DataFrame, features: List[str], valid_values: Set[Union[str, int]]) -> None:\n",
    "    '''\n",
    "    This function checks if the given features are correctly re-enconded by comparing their unique values against  \n",
    "\n",
    "    INPUT: \n",
    "        df (pandas dataframe) - dataframe holding the values of the features to be checked.\n",
    "        features (string) - A list of strings with the names of the features held in the columns of df.  \n",
    "        valid_values (set of either strings or integers) - A set of the allowable values for the given features\n",
    "        \n",
    "    OUTPUT: None.\n",
    "    '''\n",
    "    \n",
    "    for feature in features:\n",
    "        print(valid_values)\n",
    "        #assert set(df[feature].dropna().unique()) == valid_values, \"{} has values which are either not held in {} or lack of\".format(feature, valid_values)\n",
    "        assert set(df[feature].unique()) == valid_values, \"{} has values which are either not held in {} or lack of\".format(feature, valid_values)\n",
    "        print('{} succesfully encoded into desired values!'.format(feature))"
   ]
  },
  {
   "cell_type": "code",
   "execution_count": 30,
   "metadata": {},
   "outputs": [],
   "source": [
    "def create_new_feature_from_mixed_feature(*, df_feat: pd.DataFrame, df_type: pd.DataFrame, mix_feat: str, new_feat: str, map_vals: Dict[int, int], feat_type: str ='ordinal', cutoff: int = 0.5) -> bool:\n",
    "    '''\n",
    "    This function creates a new feature from a mixed-type feature given the mapping values dictionary provided that the amount\n",
    "    of missing values is under the given cutoff threshold. \n",
    "\n",
    "    INPUT: \n",
    "        df_feat (pandas dataframe) - dataframe holding the mixed-type features.\n",
    "        df_type (pandas dataframe) - dataframe holding the types of each feature.\n",
    "        mix_feat (string) - The name of the mixed-type feature under study  \n",
    "        new_feat (string) - The name to be given to the new feature\n",
    "        valid_values (set of either strings or integers) - A set of the allowable values for the given features\n",
    "        feat_type (string) - the feature type within the values 'binary', 'categorical' or 'ordinal' (default) \n",
    "        cutoff (integer) - The cutoff threshold applied for removing the outlier columns (default 0.5)\n",
    "        \n",
    "    OUTPUT: status of the feature creation (True: sucessful, False: failure)\n",
    "    '''\n",
    "    \n",
    "    # Replacing the original values of the mixed-type feature with the desired ones\n",
    "    df_feat[new_feat] = df_feat[mix_feat].replace(map_vals)\n",
    "    \n",
    "    # Checking that all values of the new feature are within the desired scale\n",
    "    valid_values = set(map_vals.values()).difference({np.nan})\n",
    "    print(valid_values)\n",
    "    #is_re_encoding_correct(df=df_feat, features=[new_feat], valid_values=valid_values)\n",
    "    \n",
    "    # Checking if the new feature has missing values. If so, check if the portion of missing values does not trespass the \n",
    "    # given cutoff threshold for missing values in columns\n",
    "    if df_feat[new_feat].isnull().sum() > 0:\n",
    "        p_nulls = df_feat[new_feat].value_counts(normalize=True, dropna=False)[np.nan]\n",
    "        \n",
    "        if p_nulls > cutoff:\n",
    "            print('The portion of missing values {} > {}. Therefore, the new feature will be dropped off from the dataframe'.format(p_nulls, cutoff))\n",
    "            df_feat.drop(columns=new_feat, inplace = True)\n",
    "            return df_type, False\n",
    "    \n",
    "    df_type = pd.concat([df_type, pd.DataFrame({'Attribute': [new_feat], 'Type': [feat_type]})], ignore_index=True)\n",
    "    \n",
    "    return df_type, True"
   ]
  },
  {
   "cell_type": "code",
   "execution_count": 31,
   "metadata": {},
   "outputs": [
    {
     "name": "stdout",
     "output_type": "stream",
     "text": [
      "PRAEGENDE_JUGENDJAHRE distinct values:  [ 1.  2.  3.  4.  5.  6.  7.  8.  9. 10. 11. 12. 13. 14. 15. nan]\n"
     ]
    }
   ],
   "source": [
    "# Investigate \"PRAEGENDE_JUGENDJAHRE\" and engineer two new variables.\n",
    "print('PRAEGENDE_JUGENDJAHRE distinct values: ', np.sort(azdias_cleaned['PRAEGENDE_JUGENDJAHRE'].unique()))"
   ]
  },
  {
   "cell_type": "code",
   "execution_count": 32,
   "metadata": {},
   "outputs": [
    {
     "name": "stdout",
     "output_type": "stream",
     "text": [
      "{0, 1}\n"
     ]
    }
   ],
   "source": [
    "# Engineer Binary variable movement: by looking at the meaning of each distinct value of PRAEGENDE_JUGENDJAHRE in the \n",
    "# DIAS Attributes - Values 2017.xlsx, I splitted the values into two groups, 0 - current movements and 1- new movements:\n",
    "val_to_movement = {1: 0, 3: 0, 5: 0, 8: 0, 10: 0, 12: 0, 14: 0, 2: 1, 4: 1, 6: 1, 7: 1, 9: 1, 11: 1, 13: 1, 15: 1}\n",
    "valid_features_types, re_eng_status = create_new_feature_from_mixed_feature(df_feat=azdias_cleaned,\n",
    "                                      df_type=valid_features_types,\n",
    "                                      feat_type=\"binary\",\n",
    "                                      mix_feat=\"PRAEGENDE_JUGENDJAHRE\", \n",
    "                                      new_feat=\"PRAEGENDE_JUGENDJAHRE_MOVEMENT\", \n",
    "                                      map_vals=val_to_movement, \n",
    "                                      cutoff=0.3)"
   ]
  },
  {
   "cell_type": "code",
   "execution_count": 33,
   "metadata": {},
   "outputs": [
    {
     "name": "stdout",
     "output_type": "stream",
     "text": [
      "{70, 40, 80, 50, 90, 60}\n"
     ]
    }
   ],
   "source": [
    "# Engineer interval-type variable decade: by looking at the meaning of each distinct value of PRAEGENDE_JUGENDJAHRE in the \n",
    "# DIAS Attributes - Values 2017.xlsx, I found out that the values onto one of the following decades 40, 50, 60, 70, 80, 90. \n",
    "# So, I create a dict mapping the values to their corresponding decade as follows:\n",
    "val_to_dec = {1: 40, 2: 40, 3: 50, 4: 50, 5: 60, 6: 60, 7: 60, 8: 70, 9: 70, 10: 80, 11: 80, 12: 80, 13: 80, 14: 90, 15: 90}\n",
    "valid_features_types, re_eng_status = create_new_feature_from_mixed_feature(df_feat=azdias_cleaned,\n",
    "                                                                            df_type=valid_features_types,\n",
    "                                                                            mix_feat=\"PRAEGENDE_JUGENDJAHRE\", \n",
    "                                                                            new_feat=\"PRAEGENDE_JUGENDJAHRE_DECADE\", \n",
    "                                                                            map_vals=val_to_dec, \n",
    "                                                                            cutoff=0.3)"
   ]
  },
  {
   "cell_type": "code",
   "execution_count": 34,
   "metadata": {},
   "outputs": [
    {
     "name": "stdout",
     "output_type": "stream",
     "text": [
      "CAMEO_INTL_2015 distinct values:  [51.0 24.0 12.0 43.0 54.0 22.0 14.0 13.0 15.0 33.0 41.0 34.0 55.0 25.0 nan\n",
      " 23.0 31.0 52.0 35.0 45.0 44.0 32.0 '22' '24' '41' '12' '54' '51' '44'\n",
      " '35' '23' '25' '14' '34' '52' '55' '31' '32' '15' '13' '43' '33' '45']\n"
     ]
    }
   ],
   "source": [
    "# Investigate \"CAMEO_INTL_2015\"\n",
    "print('CAMEO_INTL_2015 distinct values: ', azdias_cleaned['CAMEO_INTL_2015'].unique())"
   ]
  },
  {
   "cell_type": "code",
   "execution_count": 35,
   "metadata": {},
   "outputs": [
    {
     "name": "stdout",
     "output_type": "stream",
     "text": [
      "CAMEO_INTL_2015 distinct values:  ['12' '13' '14' '15' '22' '23' '24' '25' '31' '32' '33' '34' '35' '41'\n",
      " '43' '44' '45' '51' '52' '54' '55' 'nan']\n"
     ]
    }
   ],
   "source": [
    "# Convertig all values to strings for later preprocessing\n",
    "azdias_cleaned['CAMEO_INTL_2015'] = azdias_cleaned['CAMEO_INTL_2015'].astype('str').str.replace(\".0\", \"\")\n",
    "print('CAMEO_INTL_2015 distinct values: ', np.sort(azdias_cleaned['CAMEO_INTL_2015'].unique()))"
   ]
  },
  {
   "cell_type": "markdown",
   "metadata": {},
   "source": [
    "Engineer the two new variables, wealth and life stage: By looking at the meaning of each distinct value of CAMEO_INTL_2015 in the DIAS Attributes - Values 2017.xlsx, I found out that the first digit of each value corresponds to the wealth status, whereas the second one do so to life stage."
   ]
  },
  {
   "cell_type": "code",
   "execution_count": 36,
   "metadata": {},
   "outputs": [
    {
     "name": "stdout",
     "output_type": "stream",
     "text": [
      "{1, 2, 3, 4, 5}\n"
     ]
    }
   ],
   "source": [
    "# Wealth: 1 - Wealthy, 2 - Prosperous, 3 - Comfortable, 4 - Less affluent, 5 - Poorer\n",
    "val_to_wealth = {val: int(val[0]) if val not in 'nan' else np.nan \n",
    "                 for val in np.sort(azdias_cleaned['CAMEO_INTL_2015'].unique())}\n",
    "\n",
    "valid_features_types, re_eng_status = create_new_feature_from_mixed_feature(df_feat=azdias_cleaned,\n",
    "                                      df_type=valid_features_types,\n",
    "                                      mix_feat=\"CAMEO_INTL_2015\", \n",
    "                                      new_feat=\"CAMEO_INTL_2015_WEALTH\", \n",
    "                                      map_vals=val_to_wealth, \n",
    "                                      cutoff=0.3)"
   ]
  },
  {
   "cell_type": "code",
   "execution_count": 37,
   "metadata": {},
   "outputs": [
    {
     "name": "stdout",
     "output_type": "stream",
     "text": [
      "{1, 2, 3, 4, 5}\n"
     ]
    }
   ],
   "source": [
    "# Life Stage: \n",
    "# 1 - Singles, 2 - Young with children, 3 - School age children, 4 - Older families & mature couples, 5 - Elders in retirement\n",
    "val_to_life_stage = {val: int(val[1]) if val not in 'nan' else np.nan \n",
    "                     for val in np.sort(azdias_cleaned['CAMEO_INTL_2015'].unique())}\n",
    "\n",
    "valid_features_types, re_eng_status =  create_new_feature_from_mixed_feature(df_feat=azdias_cleaned,\n",
    "                                      df_type=valid_features_types,\n",
    "                                      mix_feat=\"CAMEO_INTL_2015\", \n",
    "                                      new_feat=\"CAMEO_INTL_2015_LIFE_STAGE\", \n",
    "                                      map_vals=val_to_life_stage, \n",
    "                                      cutoff=0.3)"
   ]
  },
  {
   "cell_type": "code",
   "execution_count": 38,
   "metadata": {},
   "outputs": [
    {
     "name": "stdout",
     "output_type": "stream",
     "text": [
      "WOHNLAGE distinct values:  [0. 1. 2. 3. 4. 5. 7. 8.]\n"
     ]
    }
   ],
   "source": [
    "# Investigate \"WOHNLAGE\" and engineer two new variables.\n",
    "print('WOHNLAGE distinct values: ', np.sort(azdias_cleaned['WOHNLAGE'].unique()))"
   ]
  },
  {
   "cell_type": "code",
   "execution_count": 39,
   "metadata": {},
   "outputs": [
    {
     "name": "stdout",
     "output_type": "stream",
     "text": [
      "{0, 1, 2, 3, 4}\n"
     ]
    }
   ],
   "source": [
    "# Engineer the two new variables, neighbourhood quality and neighbourhood type: By looking at the meaning of each distinct value \n",
    "# of WOHNLAGE in the DIAS Attributes - Values 2017.xlsx, I found out that Neighbourhood quality can be split into 5 possibilities: \n",
    "# 0 - very poor, 1- poor, 2 - average, 3- good, 4 - very good\n",
    "valid_features_types, re_eng_status = create_new_feature_from_mixed_feature(df_feat=azdias_cleaned,\n",
    "                                      df_type=valid_features_types,\n",
    "                                      mix_feat=\"WOHNLAGE\", \n",
    "                                      new_feat=\"WOHNLAGE_NEIGHBOURHOOD_QUALITY\", \n",
    "                                      map_vals={0: np.nan, 1: 4, 2: 3, 3: 2, 4: 1, 5: 0, 7: np.nan, 8: np.nan}, \n",
    "                                      cutoff=0.3)"
   ]
  },
  {
   "cell_type": "markdown",
   "metadata": {},
   "source": [
    "We can see that the portion of missing values is **less** than the cutoff threshold of **30%** (i.e., **24%**)"
   ]
  },
  {
   "cell_type": "code",
   "execution_count": 40,
   "metadata": {},
   "outputs": [
    {
     "name": "stdout",
     "output_type": "stream",
     "text": [
      "{0, 1}\n"
     ]
    }
   ],
   "source": [
    "# Now feature for neighbourhood_type as 0-rural, 1-urban\n",
    "valid_features_types, re_eng_status = create_new_feature_from_mixed_feature(df_feat=azdias_cleaned,\n",
    "                                      df_type=valid_features_types,\n",
    "                                      feat_type=\"binary\",                                      \n",
    "                                      mix_feat=\"WOHNLAGE\", \n",
    "                                      new_feat=\"WOHNLAGE_NEIGHBOURHOOD_TYPE\", \n",
    "                                      map_vals={0: 1, 1: 1, 2: 1, 3: 1, 4: 1, 5: 1, 7: 0, 8: 0}, \n",
    "                                      cutoff=0.3)"
   ]
  },
  {
   "cell_type": "code",
   "execution_count": 41,
   "metadata": {},
   "outputs": [
    {
     "name": "stdout",
     "output_type": "stream",
     "text": [
      "PLZ8_BAUMAX distinct values:  [ 1.  2.  3.  4.  5. nan]\n"
     ]
    }
   ],
   "source": [
    "# Investigate \"PLZ8_BAUMAX\" and engineer two new variables.\n",
    "print('PLZ8_BAUMAX distinct values: ', np.sort(azdias_cleaned['PLZ8_BAUMAX'].unique()))"
   ]
  },
  {
   "cell_type": "code",
   "execution_count": 42,
   "metadata": {},
   "outputs": [
    {
     "name": "stdout",
     "output_type": "stream",
     "text": [
      "{0, 1, 2, 3, 4}\n"
     ]
    }
   ],
   "source": [
    "# Engineer the two new variables, n_family_homes and building_type: By looking at the meaning of each distinct value \n",
    "# of PLZ8_BAUMAX in the DIAS Attributes - Values 2017.xlsx, I found out that can be split into 5 possibilities: \n",
    "# 0 - No family homes, 1- 1-2 family homes, 2 - 3-5 family homes, 3- 6-10 family homes, 4 - > 10 family homes \n",
    "valid_features_types, re_eng_status = create_new_feature_from_mixed_feature(df_feat=azdias_cleaned,\n",
    "                                      df_type=valid_features_types,\n",
    "                                      mix_feat=\"PLZ8_BAUMAX\", \n",
    "                                      new_feat=\"PLZ8_BAUMAX_N_FAMILY_HOMES\", \n",
    "                                      map_vals={1: 1, 2: 2, 3: 3, 4: 4, 5: 0}, \n",
    "                                      cutoff=0.3)"
   ]
  },
  {
   "cell_type": "code",
   "execution_count": 43,
   "metadata": {},
   "outputs": [
    {
     "name": "stdout",
     "output_type": "stream",
     "text": [
      "{0, 1}\n"
     ]
    }
   ],
   "source": [
    "# Now feature for building_type as 0-family home, 1-business building\n",
    "valid_features_types, re_eng_status = create_new_feature_from_mixed_feature(df_feat=azdias_cleaned,\n",
    "                                      df_type=valid_features_types,\n",
    "                                      feat_type=\"binary\",\n",
    "                                      mix_feat=\"PLZ8_BAUMAX\", \n",
    "                                      new_feat=\"PLZ8_BAUMAX_BUILDING_TYPE\", \n",
    "                                      map_vals={1: 0, 2: 0, 3: 0, 4: 0, 5: 1}, \n",
    "                                      cutoff=0.3)"
   ]
  },
  {
   "cell_type": "code",
   "execution_count": 44,
   "metadata": {},
   "outputs": [
    {
     "name": "stdout",
     "output_type": "stream",
     "text": [
      "LP_LEBENSPHASE_GROB distinct values:  [ 1.  2.  3.  4.  5.  6.  7.  8.  9. 10. 11. 12. nan]\n"
     ]
    }
   ],
   "source": [
    "# Investigate \"LP_LEBENSPHASE_GROB\" and engineer three new variables.\n",
    "print('LP_LEBENSPHASE_GROB distinct values: ', np.sort(azdias_cleaned['LP_LEBENSPHASE_GROB'].unique()))"
   ]
  },
  {
   "cell_type": "code",
   "execution_count": 45,
   "metadata": {},
   "outputs": [
    {
     "name": "stdout",
     "output_type": "stream",
     "text": [
      "{0, 1, 2}\n"
     ]
    }
   ],
   "source": [
    "# Income level: 0 - Low and Average, 1 - Average, 2 - High\n",
    "valid_features_types, re_eng_status = create_new_feature_from_mixed_feature(df_feat=azdias_cleaned,\n",
    "                                      df_type=valid_features_types,\n",
    "                                      feat_type=\"categorical\",\n",
    "                                      mix_feat=\"LP_LEBENSPHASE_GROB\", \n",
    "                                      new_feat=\"LP_LEBENSPHASE_GROB_INCOME\", \n",
    "                                      map_vals={1: 0, 2: 0, 3: 2, 4: 0, 5: 2, 6: np.nan, 7: 0, 8: 2, 9: 1, 10: 0, 11: 2, 12: 2}, \n",
    "                                      cutoff=0.3)"
   ]
  },
  {
   "cell_type": "code",
   "execution_count": 46,
   "metadata": {},
   "outputs": [
    {
     "name": "stdout",
     "output_type": "stream",
     "text": [
      "{0, 1}\n",
      "The portion of missing values 0.41477765398694894 > 0.3. Therefore, the new feature will be dropped off from the dataframe\n"
     ]
    },
    {
     "data": {
      "text/plain": [
       "(                          Attribute         Type\n",
       " 0              ALTERSKATEGORIE_GROB      ordinal\n",
       " 1                          ALTER_HH     interval\n",
       " 2                         ANREDE_KZ       binary\n",
       " 3               ANZ_HAUSHALTE_AKTIV      numeric\n",
       " 4                      ANZ_HH_TITEL      numeric\n",
       " ..                              ...          ...\n",
       " 274  WOHNLAGE_NEIGHBOURHOOD_QUALITY      ordinal\n",
       " 275     WOHNLAGE_NEIGHBOURHOOD_TYPE       binary\n",
       " 276      PLZ8_BAUMAX_N_FAMILY_HOMES      ordinal\n",
       " 277       PLZ8_BAUMAX_BUILDING_TYPE       binary\n",
       " 278      LP_LEBENSPHASE_GROB_INCOME  categorical\n",
       " \n",
       " [279 rows x 2 columns],\n",
       " False)"
      ]
     },
     "execution_count": 46,
     "metadata": {},
     "output_type": "execute_result"
    }
   ],
   "source": [
    "# Age: 0 - young, 1 - high  \n",
    "create_new_feature_from_mixed_feature(df_feat=azdias_cleaned,\n",
    "                                      df_type=valid_features_types,\n",
    "                                      mix_feat=\"LP_LEBENSPHASE_GROB\", \n",
    "                                      new_feat=\"LP_LEBENSPHASE_GROB_AGE\", \n",
    "                                      map_vals={1: 0, 2: 1, 3: np.nan, 4: np.nan, 5: np.nan, 6: np.nan, 7: np.nan, 8: np.nan, 9: 0, 10: 1, 11: 0, 12: 1}, \n",
    "                                      cutoff=0.3)"
   ]
  },
  {
   "cell_type": "code",
   "execution_count": 47,
   "metadata": {},
   "outputs": [
    {
     "name": "stdout",
     "output_type": "stream",
     "text": [
      "{0, 1, 2, 3, 4, 5}\n"
     ]
    }
   ],
   "source": [
    "# household occupation: 0-single, 1-single parents, 2-single and couples, 3-single and family, 4-family, 5-multiperson  \n",
    "valid_features_types, re_eng_status = create_new_feature_from_mixed_feature(df_feat=azdias_cleaned,\n",
    "                                      df_type=valid_features_types,\n",
    "                                      feat_type='categorical',                                             \n",
    "                                      mix_feat=\"LP_LEBENSPHASE_GROB\", \n",
    "                                      new_feat=\"LP_LEBENSPHASE_GROB_HH_OCC\", \n",
    "                                      map_vals={1: 0, 2: 0, 3: 0, 4: 2, 5: 2, 6: 1, 7: 3, 8: 4, 9: 5, 10: 5, 11: 5, 12: 5}, \n",
    "                                      cutoff=0.3)"
   ]
  },
  {
   "cell_type": "code",
   "execution_count": 48,
   "metadata": {},
   "outputs": [],
   "source": [
    "# Investigate 'D19_BANKEN_DATUM' and engineer two new variables: 'D19_BANKEN_DATUM_ACTIVITY_TIME' and \n",
    "# 'D19_BANKEN_DATUM_ACTIVITY_LEVEL'.\n",
    "DATUM_COLS = ['D19_BANKEN_OFFLINE_DATUM', 'D19_GESAMT_OFFLINE_DATUM', 'D19_TELKO_OFFLINE_DATUM', 'D19_VERSAND_OFFLINE_DATUM', 'D19_BANKEN_ONLINE_DATUM', 'D19_GESAMT_ONLINE_DATUM', 'D19_TELKO_ONLINE_DATUM', 'D19_VERSAND_ONLINE_DATUM']\n",
    "#print('D19_BANKEN_DATUM: ', np.sort(red_azdias_mix_reeng['D19_BANKEN_DATUM'].unique()))"
   ]
  },
  {
   "cell_type": "code",
   "execution_count": 49,
   "metadata": {},
   "outputs": [
    {
     "name": "stdout",
     "output_type": "stream",
     "text": [
      "{0, 1, 2, 3, 4, 5}\n",
      "{0, 1, 2, 3, 4, 5}\n",
      "{0, 1, 2, 3, 4, 5}\n",
      "{0, 1, 2, 3, 4, 5}\n",
      "{0, 1, 2, 3, 4, 5}\n",
      "{0, 1, 2, 3, 4, 5}\n",
      "{0, 1, 2, 3, 4, 5}\n",
      "{0, 1, 2, 3, 4, 5}\n"
     ]
    }
   ],
   "source": [
    "# ACTIVITY_TIME \n",
    "# 0 - Never, 1 - Less than a year, 2 - More than a year, 3 - More than 1.5 years, 4 - More than 2 years, 5 - More than 3 years\n",
    "val_to_time = {1: 1, 2: 1, 3: 1, 4: 1, 5: 1, 6: 2, 7: 3, 8: 4, 9: 5, 10: 0}\n",
    "for datum_col in DATUM_COLS:\n",
    "    valid_features_types, re_eng_status = create_new_feature_from_mixed_feature(df_feat=azdias_cleaned,\n",
    "                                          df_type=valid_features_types,\n",
    "                                          mix_feat=datum_col, \n",
    "                                          new_feat=datum_col + \"_ACTIVITY_TIME\", \n",
    "                                          map_vals=val_to_time, \n",
    "                                          cutoff=0.3)"
   ]
  },
  {
   "cell_type": "code",
   "execution_count": 50,
   "metadata": {},
   "outputs": [
    {
     "name": "stdout",
     "output_type": "stream",
     "text": [
      "{0, 1, 2, 3, 4, 5, 6, 7, 8, 9}\n",
      "{0, 1, 2, 3, 4, 5, 6, 7, 8, 9}\n",
      "{0, 1, 2, 3, 4, 5, 6, 7, 8, 9}\n",
      "{0, 1, 2, 3, 4, 5, 6, 7, 8, 9}\n",
      "{0, 1, 2, 3, 4, 5, 6, 7, 8, 9}\n",
      "{0, 1, 2, 3, 4, 5, 6, 7, 8, 9}\n",
      "{0, 1, 2, 3, 4, 5, 6, 7, 8, 9}\n",
      "{0, 1, 2, 3, 4, 5, 6, 7, 8, 9}\n"
     ]
    }
   ],
   "source": [
    "# ACTIVITY_LEVEL\n",
    "# 0 - None, 1 - extremely low, 2 - very low, 3 - low, 4 - moderately low, 5 - slightly low\n",
    "# 6 - slightly high, 7 - moderately high, 8 - high, 9 - very high\n",
    "val_to_level = {1: 7, 2: 9, 3: 8, 4: 6, 5: 5, 6: 4, 7: 3, 8: 2, 9: 1, 10: 0}\n",
    "for datum_col in DATUM_COLS:\n",
    "    valid_features_types, re_eng_status = create_new_feature_from_mixed_feature(df_feat=azdias_cleaned,\n",
    "                                          df_type=valid_features_types,\n",
    "                                          mix_feat=datum_col, \n",
    "                                          new_feat=datum_col + \"_ACTIVITY_LEVEL\", \n",
    "                                          map_vals=val_to_level, \n",
    "                                          cutoff=0.3)"
   ]
  },
  {
   "cell_type": "code",
   "execution_count": 51,
   "metadata": {},
   "outputs": [],
   "source": [
    "# Removing the mixed-type features\n",
    "azdias_cleaned.drop(columns=mixed_feat, inplace=True)"
   ]
  },
  {
   "cell_type": "markdown",
   "metadata": {},
   "source": [
    "#### Step 0.2.2: Curse of dimensionality\n",
    "\n",
    "As the number of categories grows, the amount of data needed to accurately distinguish among the features (in order to give us a prediction) and generalize our model (learned function) grows exponentially [[2]](https://towardsdatascience.com/dealing-with-features-that-have-high-cardinality-1c9212d7ff1b). To reduce the cardinality of a feature, I will adapt the method shown in [[1]](https://www.quora.com/What-is-the-curse-of-dimensionality) to consider missing values as an additional category and to process all categorical features at once. So, for each categorical feature, the idea is to leave categories belonging to a value with high frequency as they are and replace the others with a new category labelled as 'other'.\n",
    "\n",
    "The main steps to carry out for each categorical feature are as follows:\n",
    "\n",
    "1. Choose a cutoff threshold (i.e., 75% by default)\n",
    "2. Turn missing values into a new category labelled as 'nan'\n",
    "3. Sort unique values in the feature by their frequency in descending order\n",
    "4. Keep adding the frequency of these sorted (descending) unique values until a threshold is reached.\n",
    "\n",
    "Let’s run through a quick example before applying the method below. Say our feature 'colour' has 100 values and our cutoff threshold is 90%. We have 5 different categories of colours: Red (50), Blue(40), Yellow (5), Green (3) and Orange (2). The numbers within the bracket indicate how many instances of that category are present in the column. We see that Red (50) + Blue (40) reaches our threshold of 90. In that case, we retain only 2 categories (Red, Blue) and mark all other instances of other colours as “Other”."
   ]
  },
  {
   "cell_type": "code",
   "execution_count": 52,
   "metadata": {},
   "outputs": [],
   "source": [
    "def reduce_cat_dim(*, features: List[str], df_feat: pd.DataFrame, df_type: pd.DataFrame, cutoff: float = 0.75) -> Tuple[pd.DataFrame, pd.DataFrame, dict]:\n",
    "    '''\n",
    "    This function treats the curse of dimensionality by searching for low amounts of categories and replacing them with one\n",
    "    grouping category 'others'\n",
    "\n",
    "    INPUT: \n",
    "        features (list of strings) - The names of the features to be analyzed.\n",
    "        df_feat (pandas dataframe) - dataframe holding the values of each feature.\n",
    "        df_type (pandas dataframe) - dataframe holding the types of each feature.\n",
    "        cutoff (float) - Threshold value for identifying the low amount of categories.  \n",
    "    \n",
    "    OUTPUT: \n",
    "        dataframe holding the transformed values of each feature\n",
    "        dataframe holding the changed types from categorical to binary of some features\n",
    "    '''  \n",
    "    \n",
    "    new_df_feat = df_feat.copy()\n",
    "    new_df_type = df_type.copy()\n",
    "    feat_to_group = dict()\n",
    "    \n",
    "    for feature in features:\n",
    "        print('{}'.format(feature))\n",
    "    \n",
    "        # Drop missing values from the analysis\n",
    "        feat_vals = new_df_feat[feature].replace({np.nan: 'nan'})\n",
    "        \n",
    "        # Find the threshold value using the percentage and number of instances in the column\n",
    "        cutoff_value = int(cutoff*len(feat_vals))\n",
    "    \n",
    "        # Initialise to nan the list for our new minimised categories\n",
    "        categories_list = list()\n",
    "    \n",
    "        # Initialise a variable to calculate the sum of frequencies\n",
    "        acc_sum = 0\n",
    "    \n",
    "        # Create a counter dictionary of the form unique_value: frequency\n",
    "        counts = Counter(feat_vals)\n",
    "        \n",
    "        # Loop through the category name and its corresponding frequency after sorting the categories by descending order of \n",
    "        # frequency \n",
    "        for i, j in counts.most_common():\n",
    "        \n",
    "            # Add the frequency to the global sum\n",
    "            acc_sum += dict(counts)[i]\n",
    "    \n",
    "            # Append the category name to the list\n",
    "            categories_list.append(i)\n",
    "        \n",
    "            # Check if the global sum has reached the threshold value, if so break the loop \n",
    "            if acc_sum >= cutoff_value:      \n",
    "                feat_to_group[feature] = set(counts.keys()).difference(categories_list)\n",
    "                \n",
    "            \n",
    "                # Replace all instances not in our new categories by 'Other'\n",
    "                new_df_feat[feature].replace(feat_to_group[feature], 'Other', inplace=True)\n",
    "                print('Before: {}\\n After: {}\\n'.format(df_feat[feature].unique(), new_df_feat[feature].unique()))\n",
    "                \n",
    "                new_df_feat[feature].replace({'nan': np.nan}, inplace=True)\n",
    "            \n",
    "                # Check if after the grouping, the feature has only two categories. If so, set its type as binary \n",
    "                if new_df_feat[feature].dropna().nunique() == 2:\n",
    "                    new_df_type.loc[new_df_type['Attribute'] == feature, 'Type'] = 'binary'\n",
    "                    \n",
    "                break\n",
    "           \n",
    "    \n",
    "    # Return transformed dataframe\n",
    "    return new_df_feat, new_df_type, feat_to_group"
   ]
  },
  {
   "cell_type": "code",
   "execution_count": 53,
   "metadata": {},
   "outputs": [
    {
     "name": "stdout",
     "output_type": "stream",
     "text": [
      "CAMEO_DEUG_2015\n",
      "Before: [8.0 4.0 2.0 6.0 1.0 9.0 5.0 7.0 3.0 nan '4' '3' '7' '2' '8' '9' '6' '5'\n",
      " '1']\n",
      " After: [8.0 4.0 'Other' 6.0 9.0 3.0 nan '4' '3' '7' '2' '8' '9' '6']\n",
      "\n",
      "CAMEO_DEU_2015\n",
      "Before: ['8A' '4C' '2A' '6B' '8C' '4A' '2D' '1A' '1E' '9D' '5C' '7A' '5D' '9E'\n",
      " '9B' '1B' '8B' '3D' nan '4E' '4B' '3C' '5A' '7B' '9A' '6D' '6E' '2C' '7C'\n",
      " '9C' '7D' '5E' '1D' '8D' '6C' '6A' '5B' '4D' '3A' '2B' '7E' '3B' '6F'\n",
      " '5F' '1C']\n",
      " After: ['8A' '4C' 'Other' '6B' '8C' '4A' '2D' '9D' '7A' '5D' '9B' '8B' '3D' nan\n",
      " '3C' '7B' '9A' '6E' '2C' '9C' '8D' '2B']\n",
      "\n",
      "CJT_GESAMTTYP\n",
      "Before: [ 5.  3.  2.  4.  1.  6. nan]\n",
      " After: [5.0 3.0 2.0 4.0 'Other' 6.0 nan]\n",
      "\n",
      "D19_KONSUMTYP\n",
      "Before: [nan  9.  1.  4.  3.  6.  5.  2.]\n",
      " After: [nan 9.0 1.0 4.0 'Other']\n",
      "\n",
      "FINANZTYP\n",
      "Before: [1 6 5 2 4 3]\n",
      " After: [1 6 5 2 'Other']\n",
      "\n",
      "GEBAEUDETYP\n",
      "Before: [8. 1. 3. 2. 6. 4. 5.]\n",
      " After: ['Other' 1.0 3.0]\n",
      "\n",
      "GFK_URLAUBERTYP\n",
      "Before: [10.  1.  5. 12.  9.  3.  8. 11.  4.  7.  2.  6. nan]\n",
      " After: [10.0 'Other' 5.0 12.0 9.0 3.0 8.0 11.0 4.0 nan]\n",
      "\n",
      "KBA05_MAXHERST\n",
      "Before: [ 2.  5.  3.  1. nan  4.]\n",
      " After: [2.0 'Other' 3.0 nan 4.0]\n",
      "\n",
      "KBA05_SEG6\n",
      "Before: [ 1.  0. nan]\n",
      " After: ['Other' 0.0 nan]\n",
      "\n",
      "LP_FAMILIE_FEIN\n",
      "Before: [ 5.  1.  0. 10.  2.  7. 11.  8.  4.  6. nan  9.  3.]\n",
      " After: ['Other' 1.0 10.0 2.0 nan]\n",
      "\n",
      "LP_FAMILIE_GROB\n",
      "Before: [ 3.  1.  0.  5.  2.  4. nan]\n",
      " After: ['Other' 1.0 5.0 2.0 nan]\n",
      "\n",
      "LP_STATUS_FEIN\n",
      "Before: [ 2.  3.  9.  4.  1. 10.  5.  8.  6.  7. nan]\n",
      " After: [2.0 'Other' 9.0 4.0 1.0 10.0 nan]\n",
      "\n",
      "LP_STATUS_GROB\n",
      "Before: [ 1.  2.  4.  5.  3. nan]\n",
      " After: [1.0 2.0 4.0 'Other' nan]\n",
      "\n",
      "NATIONALITAET_KZ\n",
      "Before: [ 1.  3.  2. nan]\n",
      " After: [1.0 'Other' nan]\n",
      "\n",
      "SHOPPER_TYP\n",
      "Before: [ 3.  2.  1.  0. nan]\n",
      " After: [3.0 2.0 1.0 'Other' nan]\n",
      "\n",
      "ZABEOTYP\n",
      "Before: [5 3 4 1 6 2]\n",
      " After: ['Other' 3 4 1]\n",
      "\n",
      "LP_LEBENSPHASE_GROB_INCOME\n",
      "Before: [nan  0.  2.  1.]\n",
      " After: [nan 0.0 2.0 'Other']\n",
      "\n",
      "LP_LEBENSPHASE_GROB_HH_OCC\n",
      "Before: [ 1.  0. nan  5.  2.  3.  4.]\n",
      " After: ['Other' 0.0 nan 5.0 2.0]\n",
      "\n"
     ]
    }
   ],
   "source": [
    "# Call the function with a default threshold of 75%\n",
    "features = valid_features_types.loc[valid_features_types['Type'] == 'categorical', 'Attribute'].to_list()\n",
    "azdias_cleaned, valid_features_types, feat_to_group  = reduce_cat_dim(features=features, df_feat=azdias_cleaned, df_type=valid_features_types)"
   ]
  },
  {
   "cell_type": "code",
   "execution_count": 54,
   "metadata": {},
   "outputs": [
    {
     "name": "stdout",
     "output_type": "stream",
     "text": [
      "'CAMEO_DEUG_2015': {1.0, 2.0, 5.0, 7.0, '5', '1', 'nan'}\n",
      "'CAMEO_DEU_2015': {'5A', '4D', '7D', '5E', '6F', '1B', '5F', '6C', '4B', '1A', '6D', '4E', '5C', '5B', '3B', '6A', '2A', '1D', '3A', '1E', '7C', '9E', '7E', '1C', 'nan'}\n",
      "'CJT_GESAMTTYP': {1.0, 'nan'}\n",
      "'D19_KONSUMTYP': {2.0, 3.0, 5.0, 6.0}\n",
      "'FINANZTYP': {3, 4}\n",
      "'GEBAEUDETYP': {2.0, 4.0, 5.0, 6.0, 8.0}\n",
      "'GFK_URLAUBERTYP': {1.0, 2.0, 6.0, 7.0, 'nan'}\n",
      "'KBA05_MAXHERST': {1.0, 5.0, 'nan'}\n",
      "'KBA05_SEG6': {1.0, 'nan'}\n",
      "'LP_FAMILIE_FEIN': {0.0, 3.0, 4.0, 5.0, 6.0, 7.0, 8.0, 9.0, 11.0, 'nan'}\n",
      "'LP_FAMILIE_GROB': {0.0, 3.0, 4.0, 'nan'}\n",
      "'LP_STATUS_FEIN': {3.0, 5.0, 6.0, 7.0, 8.0, 'nan'}\n",
      "'LP_STATUS_GROB': {3.0, 5.0, 'nan'}\n",
      "'NATIONALITAET_KZ': {2.0, 3.0, 'nan'}\n",
      "'SHOPPER_TYP': {0.0, 'nan'}\n",
      "'ZABEOTYP': {2, 5, 6}\n",
      "'LP_LEBENSPHASE_GROB_INCOME': {1.0, 'nan'}\n",
      "'LP_LEBENSPHASE_GROB_HH_OCC': {1.0, 3.0, 4.0, 'nan'}\n"
     ]
    }
   ],
   "source": [
    "for feat, vals_to_group in feat_to_group.items():\n",
    "    print(\"'{}': {}\".format(feat, vals_to_group))"
   ]
  },
  {
   "cell_type": "markdown",
   "metadata": {},
   "source": [
    "#### Step 0.2.3: Re-Encode Categorical Features\n",
    "\n",
    "Each level of the categorical features needs to be encoded as a dummy variable  (e.g. via [OneHotEncoder](http://scikit-learn.org/stable/modules/generated/sklearn.preprocessing.OneHotEncoder.html)). Depending on the number of categories, the following encodings will be performed:\n",
    "- Two-level or binary categorical features taking\n",
    "    - numeric values will be kept as they are but their nan-values will be enconded as a new dummy variable \n",
    "    - non-numeric values will be re-encoded as 0-1 values and their nan-values will be enconded as a new dummy variable too.\n",
    "- Multi-level categorical features (>=3) will be either encoded using multiple dummy variables or dropped from the analysis."
   ]
  },
  {
   "cell_type": "code",
   "execution_count": 55,
   "metadata": {
    "scrolled": true
   },
   "outputs": [
    {
     "name": "stdout",
     "output_type": "stream",
     "text": [
      "CAMEO_DEUG_2015 [8.0 4.0 'Other' 6.0 9.0 3.0 nan '4' '3' '7' '2' '8' '9' '6']\n",
      "CAMEO_DEU_2015 ['8A' '4C' 'Other' '6B' '8C' '4A' '2D' '9D' '7A' '5D' '9B' '8B' '3D' nan\n",
      " '3C' '7B' '9A' '6E' '2C' '9C' '8D' '2B']\n",
      "CJT_GESAMTTYP [5.0 3.0 2.0 4.0 'Other' 6.0 nan]\n",
      "D19_KONSUMTYP [nan 9.0 1.0 4.0 'Other']\n",
      "FINANZTYP [1 6 5 2 'Other']\n",
      "GEBAEUDETYP ['Other' 1.0 3.0]\n",
      "GFK_URLAUBERTYP [10.0 'Other' 5.0 12.0 9.0 3.0 8.0 11.0 4.0 nan]\n",
      "KBA05_MAXHERST [2.0 'Other' 3.0 nan 4.0]\n",
      "LP_FAMILIE_FEIN ['Other' 1.0 10.0 2.0 nan]\n",
      "LP_FAMILIE_GROB ['Other' 1.0 5.0 2.0 nan]\n",
      "LP_STATUS_FEIN [2.0 'Other' 9.0 4.0 1.0 10.0 nan]\n",
      "LP_STATUS_GROB [1.0 2.0 4.0 'Other' nan]\n",
      "SHOPPER_TYP [3.0 2.0 1.0 'Other' nan]\n",
      "ZABEOTYP ['Other' 3 4 1]\n",
      "LP_LEBENSPHASE_GROB_INCOME [nan 0.0 2.0 'Other']\n",
      "LP_LEBENSPHASE_GROB_HH_OCC ['Other' 0.0 nan 5.0 2.0]\n"
     ]
    }
   ],
   "source": [
    "# Exploring the categorical features       \n",
    "categorical_feat = explore_feature_types(df_feat=azdias_cleaned, df_type=valid_features_types, feat_type='categorical')"
   ]
  },
  {
   "cell_type": "markdown",
   "metadata": {},
   "source": [
    "I decided to drop CAMEO_DEUG_2015, LP_STATUS_GROB, LP_FAMILIE_GROB as we have more specific variables accounting for them in CAMEO_DEU_2015, LP_STATUS_FEIN, LP_FAMILIE_FEIN."
   ]
  },
  {
   "cell_type": "code",
   "execution_count": 56,
   "metadata": {},
   "outputs": [
    {
     "name": "stdout",
     "output_type": "stream",
     "text": [
      "Categorical features to kept:  ['CAMEO_DEU_2015', 'LP_STATUS_FEIN', 'FINANZTYP', 'CJT_GESAMTTYP', 'D19_KONSUMTYP', 'GFK_URLAUBERTYP', 'KBA05_MAXHERST', 'LP_LEBENSPHASE_GROB_HH_OCC', 'LP_LEBENSPHASE_GROB_INCOME', 'GEBAEUDETYP', 'SHOPPER_TYP', 'ZABEOTYP', 'LP_FAMILIE_FEIN']\n",
      "   ALTER_HH  ANZ_HAUSHALTE_AKTIV  ANZ_HH_TITEL  ANZ_PERSONEN  ANZ_TITEL  ...  \\\n",
      "1       0.0                 11.0           0.0           2.0        0.0  ...   \n",
      "2      17.0                 10.0           0.0           1.0        0.0  ...   \n",
      "3      13.0                  1.0           0.0           0.0        0.0  ...   \n",
      "4      20.0                  3.0           0.0           4.0        0.0  ...   \n",
      "5      10.0                  5.0           0.0           1.0        0.0  ...   \n",
      "\n",
      "   ZABEOTYP_Other  LP_FAMILIE_FEIN_1.0  LP_FAMILIE_FEIN_2.0  \\\n",
      "1            True                False                False   \n",
      "2            True                 True                False   \n",
      "3           False                False                False   \n",
      "4           False                False                False   \n",
      "5           False                 True                False   \n",
      "\n",
      "   LP_FAMILIE_FEIN_10.0  LP_FAMILIE_FEIN_Other  \n",
      "1                 False                   True  \n",
      "2                 False                  False  \n",
      "3                 False                   True  \n",
      "4                  True                  False  \n",
      "5                 False                  False  \n",
      "\n",
      "[5 rows x 339 columns]\n"
     ]
    }
   ],
   "source": [
    "# Preliminar steps to re-encode categorical feature(s) to be kept in the analysis.\n",
    "\n",
    "# Drop categorial features that are copies of other more specific ones\n",
    "rem_categorical_feat = {'CAMEO_DEUG_2015', 'LP_STATUS_GROB', 'LP_FAMILIE_GROB'}\n",
    "kept_categorical_feat = list(set(categorical_feat).difference(rem_categorical_feat))\n",
    "azdias_cleaned.drop(columns=rem_categorical_feat, inplace = True)\n",
    "\n",
    "rem_groups = rem_categorical_feat.intersection(feat_to_group)\n",
    "for group in rem_groups:\n",
    "    feat_to_group.pop(group)\n",
    "\n",
    "print('Categorical features to kept: ', kept_categorical_feat)    \n",
    "    \n",
    "# Re-encoding the categorical features to kept in the analysis.\n",
    "azdias_cleaned = pd.get_dummies(azdias_cleaned, columns=kept_categorical_feat, dummy_na = DUMMY_NA)\n",
    "print(azdias_cleaned.head(5))"
   ]
  },
  {
   "cell_type": "markdown",
   "metadata": {},
   "source": [
    "#### Re-encodings in binary variables\n",
    "We have to change the 'other' values with either 0 or 1 in all categorical features having been turn into binary in the grouped their categories with less than 25 % of values into 'other' category, were. Moreover, variables ANREDE_KZ and VERS_TYP require to change values 2 with 0. Regarding to variable OST_WEST_KZ, the letters 'W' and 'O' needs to be encoded as 0 and 1 values. Finally, a dummy variable needs to be created to account for the presence of nan values in VERS_TYP."
   ]
  },
  {
   "cell_type": "code",
   "execution_count": 57,
   "metadata": {},
   "outputs": [
    {
     "name": "stdout",
     "output_type": "stream",
     "text": [
      "ANREDE_KZ [2 1]\n",
      "GREEN_AVANTGARDE [0 1]\n",
      "KBA05_SEG6 ['Other' 0.0 nan]\n",
      "NATIONALITAET_KZ [1.0 'Other' nan]\n",
      "OST_WEST_KZ ['W' 'O']\n",
      "VERS_TYP [ 2.  1. nan]\n",
      "PRAEGENDE_JUGENDJAHRE_MOVEMENT [ 0.  1. nan]\n",
      "WOHNLAGE_NEIGHBOURHOOD_TYPE [1. 0.]\n",
      "PLZ8_BAUMAX_BUILDING_TYPE [ 0.  1. nan]\n"
     ]
    }
   ],
   "source": [
    "# Exploring the binary features       \n",
    "binary_feat = explore_feature_types(df_feat=azdias_cleaned, df_type=valid_features_types, feat_type='binary')"
   ]
  },
  {
   "cell_type": "code",
   "execution_count": 58,
   "metadata": {},
   "outputs": [],
   "source": [
    "azdias_cleaned['ANREDE_KZ'].replace({2: 0}, inplace = True)\n",
    "azdias_cleaned['OST_WEST_KZ'].replace({'W': 0, 'O': 1}, inplace = True)\n",
    "azdias_cleaned['NATIONALITAET_KZ'].replace({'Other': 0}, inplace = True)\n",
    "azdias_cleaned['KBA05_SEG6'].replace({'Other': 1, 0.0: 0}, inplace = True)\n",
    "azdias_cleaned['VERS_TYP'].replace({1: 0, 2: 1}, inplace = True)"
   ]
  },
  {
   "cell_type": "code",
   "execution_count": 59,
   "metadata": {},
   "outputs": [],
   "source": [
    "# We check that all variables are within 0 and 1\n",
    "binary_features = valid_features_types.loc[valid_features_types['Type'] == 'binary', 'Attribute'].tolist()"
   ]
  },
  {
   "cell_type": "code",
   "execution_count": 60,
   "metadata": {},
   "outputs": [],
   "source": [
    "fill_operators = {'numeric': 'median', \n",
    "                  'ordinal': 'mode',\n",
    "                  'interval': 'mode',\n",
    "                  'binary': 'mode'}\n",
    "\n",
    "# Filling missing values in colums according to the specified fill_operator\n",
    "for feat_type in fill_operators:\n",
    "    num_feat = valid_features_types.loc[valid_features_types['Type'] == feat_type, 'Attribute'].tolist()\n",
    "    for col in num_feat:\n",
    "        if fill_operators[feat_type] == 'mode':\n",
    "            azdias_cleaned[col].fillna((azdias_cleaned[col].mode()[0]), inplace=True)\n",
    "        elif fill_operators[feat_type] == 'median':\n",
    "            azdias_cleaned[col].fillna((azdias_cleaned[col].median()), inplace=True)\n",
    "        elif fill_operators[feat_type] == 'constant':\n",
    "            azdias_cleaned[col].fillna(fill_value, inplace=True)\n",
    "        else:\n",
    "            print('Fill method {} is not available'.format(fill_operator))\n",
    "            exit(-1)"
   ]
  },
  {
   "cell_type": "code",
   "execution_count": 61,
   "metadata": {},
   "outputs": [
    {
     "name": "stdout",
     "output_type": "stream",
     "text": [
      "There no missing values, which is great!\n"
     ]
    }
   ],
   "source": [
    "# Test that all missing values have been filled out\n",
    "n_miss_vals = azdias_cleaned.isnull().sum().sum()\n",
    "assert n_miss_vals == 0, \"There are still {} missing values\".format(n_miss_vals)\n",
    "print('There no missing values, which is great!')"
   ]
  },
  {
   "cell_type": "markdown",
   "metadata": {},
   "source": [
    "### Step 0.3: Create a Cleaning Function\n",
    "\n",
    "Even though we've finished cleaning up the general population demographics data, it's important to look ahead to the future and realize that we'll need to perform the same cleaning steps on the customer demographics data. In this substep, I'm going to complete the function below to execute the main feature selection, encoding, and re-engineering steps I performed above. Then, I will run this function on the general population again to check that I get the same output and, finally, I will apply to the customers data."
   ]
  },
  {
   "cell_type": "code",
   "execution_count": 62,
   "metadata": {},
   "outputs": [],
   "source": [
    "def clean_data(*, df_feat: pd.DataFrame, df_mu: pd.DataFrame, valid_features_types: pd.DataFrame, dummy_na: bool = False) -> pd.DataFrame:\n",
    "    \"\"\"\n",
    "    This method performs all the necessary cleaning operations on the given dataset. The main steps are:\n",
    "    1. Dropping the columns with highest amount of missing values\n",
    "    2. Dropping the remaining rows with highest amount of missing values\n",
    "    3. Re-encoding the mixed-type features into new ordinal/categorical features\n",
    "    4. Reducing the cardinality of the categorical features having categories with low density\n",
    "    5. Setting up the binary features by turning them into 0-1 values\n",
    "    6. Filling out the remaining missing values \n",
    "    \n",
    "    INPUT: \n",
    "        df_feat (dataframe) dataset holding the features\n",
    "        df_mu (dataframe) dataset holding the categories representing missing values for each feature\n",
    "        valid_features_types (dataframe) dataset with the types of each feature\n",
    "        dummy_na (boolean) indicates whether to consider the missing values of the categorical variables as dummy variables\n",
    "    \n",
    "    OUTPUT:\n",
    "        dataframe holding the data cleaned from df_feat     \n",
    "    \"\"\"\n",
    "    \n",
    "    # Identifying missing or unknown data values and convert them to NaNs.\n",
    "    df_cleaned = replace_missing_unknown_with_nan(df_data=df_feat, df_mu=df_mu)\n",
    "\n",
    "    outlier_cols = ['AGER_TYP', 'AKT_DAT_KL', 'ALTER_KIND1', 'ALTER_KIND2', 'ALTER_KIND3', 'ALTER_KIND4', \n",
    "                    'ALTERSKATEGORIE_FEIN', 'ANZ_KINDER', 'D19_BANKEN_DIREKT', 'D19_BANKEN_GROSS', 'D19_BANKEN_LOKAL', \n",
    "                    'D19_BANKEN_REST', 'D19_BEKLEIDUNG_GEH', 'D19_BEKLEIDUNG_REST', 'D19_BILDUNG', 'D19_BIO_OEKO', \n",
    "                    'D19_BUCH_CD', 'D19_DIGIT_SERV', 'D19_DROGERIEARTIKEL', 'D19_ENERGIE', 'D19_FREIZEIT', 'D19_GARTEN', \n",
    "                    'D19_HANDWERK', 'D19_HAUS_DEKO', 'D19_KINDERARTIKEL', 'D19_KOSMETIK', 'D19_LEBENSMITTEL', 'D19_LOTTO', \n",
    "                    'D19_NAHRUNGSERGAENZUNG', 'D19_RATGEBER', 'D19_REISEN', 'D19_SAMMELARTIKEL', 'D19_SCHUHE', 'D19_SONSTIGE', \n",
    "                    'D19_SOZIALES', 'D19_TECHNIK', 'D19_TELKO_MOBILE', 'D19_TELKO_ONLINE_QUOTE_12', 'D19_TELKO_REST', \n",
    "                    'D19_TIERARTIKEL', 'D19_VERSAND_REST', 'D19_VERSI_ONLINE_QUOTE_12', 'D19_VERSICHERUNGEN', \n",
    "                    'D19_VOLLSORTIMENT', 'D19_WEIN_FEINKOST', 'EXTSEL992', 'KBA05_BAUMAX', 'KK_KUNDENTYP', 'TITEL_KZ', \n",
    "                    'VERDICHTUNGSRAUM', 'VHA']\n",
    "    \n",
    "    # Remove outlier columns\n",
    "    df_cleaned.drop(columns=outlier_cols, inplace=True)\n",
    "\n",
    "    # Remove outlier rows\n",
    "    df_cleaned['n_miss_vals'] = df_cleaned.isnull().mean(axis=1)\n",
    "    df_cleaned = df_cleaned.loc[df_cleaned['n_miss_vals'] <= 0.3].drop(columns = 'n_miss_vals')\n",
    "    \n",
    "    # Re-engineering mixed-type features\n",
    "    df_cleaned['CAMEO_INTL_2015'] = df_cleaned['CAMEO_INTL_2015'].astype('str').str.replace(\".0\", \"\")\n",
    "    val_to_wealth = {val: int(val[0]) if val not in 'nan' else np.nan \n",
    "                     for val in np.sort(df_cleaned['CAMEO_INTL_2015'].unique())}        \n",
    "\n",
    "    val_to_life_stage = {val: int(val[1]) if val not in 'nan' else np.nan \n",
    "                         for val in np.sort(df_cleaned['CAMEO_INTL_2015'].unique())}\n",
    "\n",
    "    map_vals = {'PRAEGENDE_JUGENDJAHRE': {'PRAEGENDE_JUGENDJAHRE_MOVEMENT': {1: 0, 3: 0, 5: 0, 8: 0, 10: 0, 12: 0, 14: 0, 2: 1, 4: 1, 6: 1, 7: 1, 9: 1, 11: 1, 13: 1, 15: 1}, \n",
    "                                          'PRAEGENDE_JUGENDJAHRE_DECADE': {1: 40, 2: 40, 3: 50, 4: 50, 5: 60, 6: 60, 7: 60, 8: 70, 9: 70, 10: 80, 11: 80, 12: 80, 13: 80, 14: 90, 15: 90}},\n",
    "            \n",
    "                'CAMEO_INTL_2015': {'CAMEO_INTL_2015_WEALTH': val_to_wealth,\n",
    "                                    'CAMEO_INTL_2015_LIFE_STAGE': val_to_life_stage},\n",
    "            \n",
    "                'WOHNLAGE': {'WOHNLAGE_NEIGHBOURHOOD_QUALITY': {0: np.nan, 1: 4, 2: 3, 3: 2, 4: 1, 5: 0, 7: np.nan, 8: np.nan},\n",
    "                             'WOHNLAGE_NEIGHBOURHOOD_TYPE': {0: 1, 1: 1, 2: 1, 3: 1, 4: 1, 5: 1, 7: 0, 8: 0}},\n",
    "            \n",
    "                'PLZ8_BAUMAX': {'PLZ8_BAUMAX_N_FAMILY_HOMES': {1: 1, 2: 2, 3: 3, 4: 4, 5: 0},\n",
    "                                'PLZ8_BAUMAX_BUILDING_TYPE': {1: 0, 2: 0, 3: 0, 4: 0, 5: 1}},\n",
    "            \n",
    "                'LP_LEBENSPHASE_GROB': {'LP_LEBENSPHASE_GROB_INCOME': {1: 0, 2: 0, 3: 2, 4: 0, 5: 2, 6: np.nan, 7: 0, 8: 2, 9: 1, 10: 0, 11: 2, 12: 2},\n",
    "                                        'LP_LEBENSPHASE_GROB_HH_OCC': {1: 0, 2: 0, 3: 0, 4: 2, 5: 2, 6: 1, 7: 3, 8: 4, 9: 5, 10: 5, 11: 5, 12: 5}}\n",
    "               } \n",
    "    \n",
    "    # Replacing the original values of the mixed-type feature with the desired ones    \n",
    "    for mixed_feat in map_vals:\n",
    "        for eng_feat, val_to_val in map_vals[mixed_feat].items():\n",
    "            df_cleaned[eng_feat] = df_cleaned[mixed_feat].replace(val_to_val)\n",
    "\n",
    "        \n",
    "    DATUM_COLS = ['D19_BANKEN_OFFLINE_DATUM', 'D19_GESAMT_OFFLINE_DATUM', 'D19_TELKO_OFFLINE_DATUM', 'D19_VERSAND_OFFLINE_DATUM', \n",
    "                  'D19_BANKEN_ONLINE_DATUM', 'D19_GESAMT_ONLINE_DATUM', 'D19_TELKO_ONLINE_DATUM', 'D19_VERSAND_ONLINE_DATUM']\n",
    "\n",
    "    d19_eng_feats_vals = {'_ACTIVITY_LEVEL': {1: 7, 2: 9, 3: 8, 4: 6, 5: 5, 6: 4, 7: 3, 8: 2, 9: 1, 10: 0},\n",
    "                          '_ACTIVITY_TIME': {1: 1, 2: 1, 3: 1, 4: 1, 5: 1, 6: 2, 7: 3, 8: 4, 9: 5, 10: 0}}\n",
    "\n",
    "    for datum_col in DATUM_COLS:\n",
    "        for eng_feat, val_to_val in d19_eng_feats_vals.items():\n",
    "        \n",
    "            # Replacing the original values of the mixed-type feature with the desired ones\n",
    "            df_cleaned[datum_col + eng_feat] = df_cleaned[datum_col].replace(val_to_val)\n",
    "\n",
    "    # Removing the rest of features: unuseful and mixed-type re-encoded\n",
    "    unuseful_feat = ['ANZ_STATISTISCHE_HAUSHALTE', 'GEMEINDETYP', 'CJT_KATALOGNUTZER', 'KBA13_BAUMAX', 'VHN', 'EINGEFUEGT_AM', \n",
    "                     'VK_DISTANZ', 'VK_ZG11', 'KOMBIALTER', 'KBA13_ANTG1', 'RT_SCHNAEPPCHEN', 'KBA13_GBZ', 'KONSUMZELLE', \n",
    "                     'KBA13_ANTG2', 'LNR', 'HH_DELTA_FLAG', 'CJT_TYP_3', 'D19_KONSUMTYP_MAX', 'D19_VERSI_DATUM', \n",
    "                     'UNGLEICHENN_FLAG', 'CJT_TYP_4', 'KBA13_ANTG4', 'D19_VERSI_ONLINE_DATUM', 'UMFELD_JUNG', \n",
    "                     'RT_KEIN_ANREIZ', 'CJT_TYP_6', 'DSL_FLAG', 'CJT_TYP_5', 'EINGEZOGENAM_HH_JAHR', 'VK_DHT4A', \n",
    "                     'D19_LETZTER_KAUF_BRANCHE', 'D19_VERSI_OFFLINE_DATUM', 'KBA13_KMH_210', 'CJT_TYP_1', 'STRUKTURTYP', \n",
    "                     'KBA13_HHZ', 'RT_UEBERGROESSE', 'SOHO_KZ', 'KBA13_CCM_1401_2500', 'CJT_TYP_2', 'ARBEIT', 'UMFELD_ALT', \n",
    "                     'MOBI_RASTER', 'KBA13_ANTG3', 'FIRMENDICHTE', 'LP_LEBENSPHASE_FEIN', 'CAMEO_DEUG_2015', 'LP_STATUS_GROB', \n",
    "                     'LP_FAMILIE_GROB', 'D19_BANKEN_DATUM', 'D19_GESAMT_DATUM', 'D19_TELKO_DATUM', 'D19_VERSAND_DATUM']\n",
    "    \n",
    "    df_cleaned.drop(columns=list(map_vals) + DATUM_COLS + unuseful_feat, inplace=True)\n",
    "    \n",
    "    # Grouping low density categories of given features into 'others' category\n",
    "    feat_to_group = {'CAMEO_DEU_2015': {'3B', '5A', '7D', '5E', '6F', '1A', '1B', '6D', '6C', '1C', '3A', '5C', '7E', '2A', '1E', '4E', '5B', '9E', 'nan', '4D', '4B', '5F', '7C', '1D', '6A'},\n",
    "                     'CJT_GESAMTTYP': {1.0, np.nan},\n",
    "                     'D19_KONSUMTYP': {2.0, 3.0, 5.0, 6.0},\n",
    "                     'FINANZTYP': {3, 4},\n",
    "                     'GEBAEUDETYP': {2.0, 4.0, 5.0, 6.0, 8.0},\n",
    "                     'GFK_URLAUBERTYP': {1.0, 2.0, 6.0, 7.0, np.nan},\n",
    "                     'KBA05_MAXHERST': {1.0, 5.0, np.nan},\n",
    "                     'KBA05_SEG6': {1.0, np.nan},\n",
    "                     'LP_FAMILIE_FEIN': {0.0, 3.0, 4.0, 5.0, 6.0, 7.0, 8.0, 9.0, 11.0, np.nan},\n",
    "                     'LP_STATUS_FEIN': {3.0, 5.0, 6.0, 7.0, 8.0, np.nan},\n",
    "                     'NATIONALITAET_KZ': {np.nan, 2.0, 3.0},\n",
    "                     'SHOPPER_TYP': {0.0, np.nan},\n",
    "                     'ZABEOTYP': {2, 5, 6},\n",
    "                     'LP_LEBENSPHASE_GROB_INCOME': {np.nan, 1.0},\n",
    "                     'LP_LEBENSPHASE_GROB_HH_OCC': {1.0, 3.0, 4.0, np.nan}}\n",
    "    \n",
    "    for feat, grouped_cat in feat_to_group.items():\n",
    "        df_cleaned[feat].replace(grouped_cat, 'Other', inplace = True)\n",
    "\n",
    "    # Re-encoding the categorical features to kept in the analysis and retaining missing values after one-hot encoding \n",
    "    # if required\n",
    "    cat_feats_to_one_hot_encoding = ['LP_FAMILIE_FEIN', 'SHOPPER_TYP', 'GEBAEUDETYP', 'LP_STATUS_FEIN', 'CAMEO_DEU_2015', \n",
    "                                     'LP_LEBENSPHASE_GROB_INCOME', 'GFK_URLAUBERTYP', 'CJT_GESAMTTYP', 'KBA05_MAXHERST', \n",
    "                                     'D19_KONSUMTYP', 'LP_LEBENSPHASE_GROB_HH_OCC', 'FINANZTYP', 'ZABEOTYP']\n",
    "    \n",
    "    df_cleaned = pd.get_dummies(df_cleaned, columns=cat_feats_to_one_hot_encoding, dummy_na=dummy_na)\n",
    "    \n",
    "    # Setting up binary variables by turning two-categorical variables into 0-1 values\n",
    "    map_vals_bin_feat = {'ANREDE_KZ': {2: 0}, \n",
    "                         'OST_WEST_KZ': {'W': 0, 'O': 1},\n",
    "                         'NATIONALITAET_KZ': {'Other': 0},\n",
    "                         'KBA05_SEG6': {'Other': 1, 0.0: 0},\n",
    "                         'VERS_TYP': {1: 0, 2: 1}}  \n",
    "    for bin_feat, map_vals in map_vals_bin_feat.items():\n",
    "        df_cleaned[bin_feat].replace(map_vals, inplace = True)\n",
    "\n",
    "    # Filling missing values in colums according to the specified fill_operator    \n",
    "    fill_operators = {'numeric': 'median', \n",
    "                      'ordinal': 'mode',\n",
    "                      'interval': 'mode',\n",
    "                      'binary': 'mode'}\n",
    "\n",
    "    for feat_type in fill_operators:\n",
    "        num_feat = valid_features_types.loc[valid_features_types['Type'] == feat_type, 'Attribute'].tolist()\n",
    "        for col in num_feat:\n",
    "            if fill_operators[feat_type] == 'mode':\n",
    "                df_cleaned[col].fillna((df_cleaned[col].mode()[0]), inplace=True)\n",
    "            elif fill_operators[feat_type] == 'median':\n",
    "                df_cleaned[col].fillna((df_cleaned[col].median()), inplace=True)\n",
    "            elif fill_operators[feat_type] == 'constant':\n",
    "                df_cleaned[col].fillna(fill_value, inplace=True)\n",
    "            else:\n",
    "                print('Fill method {} is not available'.format(fill_operators[feat_type]))\n",
    "                return pd.DataFrame()\n",
    "    \n",
    "    return df_cleaned"
   ]
  },
  {
   "cell_type": "code",
   "execution_count": 63,
   "metadata": {},
   "outputs": [],
   "source": [
    "cleaned_df = clean_data(df_feat=azdias, df_mu=att_to_nan, valid_features_types=valid_features_types,dummy_na=DUMMY_NA)"
   ]
  },
  {
   "cell_type": "code",
   "execution_count": 76,
   "metadata": {},
   "outputs": [
    {
     "name": "stdout",
     "output_type": "stream",
     "text": [
      "If this is all you see, you passed the tests\n"
     ]
    }
   ],
   "source": [
    "assert cleaned_df.shape[0] == azdias_cleaned.shape[0], \"Rows mismatch: {} != {}\".format(\n",
    "       cleaned_df.shape[0], azdias_cleaned.shape[0])\n",
    "\n",
    "assert cleaned_df.shape[1] == azdias_cleaned.shape[1], \"Columns mismatch: {} != {}\".format(\n",
    "       cleaned_df.shape[1], azdias_cleaned.shape[1])\n",
    "\n",
    "n_miss_vals = cleaned_df.isnull().sum().sum()\n",
    "assert n_miss_vals == 0, \"There are still {} missing values\".format(n_miss_vals)\n",
    "\n",
    "print(\"If this is all you see, you passed the tests\")"
   ]
  },
  {
   "cell_type": "code",
   "execution_count": 65,
   "metadata": {},
   "outputs": [
    {
     "name": "stderr",
     "output_type": "stream",
     "text": [
      "C:\\Users\\flopezr81\\AppData\\Local\\Temp\\ipykernel_17696\\4117896426.py:2: DtypeWarning: Columns (18,19) have mixed types. Specify dtype option on import or set low_memory=False.\n",
      "  df_customers = pd.read_csv('./data/Udacity_CUSTOMERS_052018.csv', sep=';')\n"
     ]
    },
    {
     "data": {
      "text/html": [
       "<div>\n",
       "<style scoped>\n",
       "    .dataframe tbody tr th:only-of-type {\n",
       "        vertical-align: middle;\n",
       "    }\n",
       "\n",
       "    .dataframe tbody tr th {\n",
       "        vertical-align: top;\n",
       "    }\n",
       "\n",
       "    .dataframe thead th {\n",
       "        text-align: right;\n",
       "    }\n",
       "</style>\n",
       "<table border=\"1\" class=\"dataframe\">\n",
       "  <thead>\n",
       "    <tr style=\"text-align: right;\">\n",
       "      <th></th>\n",
       "      <th>LNR</th>\n",
       "      <th>AGER_TYP</th>\n",
       "      <th>AKT_DAT_KL</th>\n",
       "      <th>ALTER_HH</th>\n",
       "      <th>ALTER_KIND1</th>\n",
       "      <th>...</th>\n",
       "      <th>PRODUCT_GROUP</th>\n",
       "      <th>CUSTOMER_GROUP</th>\n",
       "      <th>ONLINE_PURCHASE</th>\n",
       "      <th>ANREDE_KZ</th>\n",
       "      <th>ALTERSKATEGORIE_GROB</th>\n",
       "    </tr>\n",
       "  </thead>\n",
       "  <tbody>\n",
       "    <tr>\n",
       "      <th>0</th>\n",
       "      <td>9626</td>\n",
       "      <td>2</td>\n",
       "      <td>1.0</td>\n",
       "      <td>10.0</td>\n",
       "      <td>NaN</td>\n",
       "      <td>...</td>\n",
       "      <td>COSMETIC_AND_FOOD</td>\n",
       "      <td>MULTI_BUYER</td>\n",
       "      <td>0</td>\n",
       "      <td>1</td>\n",
       "      <td>4</td>\n",
       "    </tr>\n",
       "    <tr>\n",
       "      <th>1</th>\n",
       "      <td>9628</td>\n",
       "      <td>-1</td>\n",
       "      <td>9.0</td>\n",
       "      <td>11.0</td>\n",
       "      <td>NaN</td>\n",
       "      <td>...</td>\n",
       "      <td>FOOD</td>\n",
       "      <td>SINGLE_BUYER</td>\n",
       "      <td>0</td>\n",
       "      <td>1</td>\n",
       "      <td>4</td>\n",
       "    </tr>\n",
       "    <tr>\n",
       "      <th>2</th>\n",
       "      <td>143872</td>\n",
       "      <td>-1</td>\n",
       "      <td>1.0</td>\n",
       "      <td>6.0</td>\n",
       "      <td>NaN</td>\n",
       "      <td>...</td>\n",
       "      <td>COSMETIC_AND_FOOD</td>\n",
       "      <td>MULTI_BUYER</td>\n",
       "      <td>0</td>\n",
       "      <td>2</td>\n",
       "      <td>4</td>\n",
       "    </tr>\n",
       "    <tr>\n",
       "      <th>3</th>\n",
       "      <td>143873</td>\n",
       "      <td>1</td>\n",
       "      <td>1.0</td>\n",
       "      <td>8.0</td>\n",
       "      <td>NaN</td>\n",
       "      <td>...</td>\n",
       "      <td>COSMETIC</td>\n",
       "      <td>MULTI_BUYER</td>\n",
       "      <td>0</td>\n",
       "      <td>1</td>\n",
       "      <td>4</td>\n",
       "    </tr>\n",
       "    <tr>\n",
       "      <th>4</th>\n",
       "      <td>143874</td>\n",
       "      <td>-1</td>\n",
       "      <td>1.0</td>\n",
       "      <td>20.0</td>\n",
       "      <td>NaN</td>\n",
       "      <td>...</td>\n",
       "      <td>FOOD</td>\n",
       "      <td>MULTI_BUYER</td>\n",
       "      <td>0</td>\n",
       "      <td>1</td>\n",
       "      <td>3</td>\n",
       "    </tr>\n",
       "  </tbody>\n",
       "</table>\n",
       "<p>5 rows × 369 columns</p>\n",
       "</div>"
      ],
      "text/plain": [
       "      LNR  AGER_TYP  AKT_DAT_KL  ALTER_HH  ALTER_KIND1  ...  \\\n",
       "0    9626         2         1.0      10.0          NaN  ...   \n",
       "1    9628        -1         9.0      11.0          NaN  ...   \n",
       "2  143872        -1         1.0       6.0          NaN  ...   \n",
       "3  143873         1         1.0       8.0          NaN  ...   \n",
       "4  143874        -1         1.0      20.0          NaN  ...   \n",
       "\n",
       "       PRODUCT_GROUP  CUSTOMER_GROUP  ONLINE_PURCHASE  ANREDE_KZ  \\\n",
       "0  COSMETIC_AND_FOOD     MULTI_BUYER                0          1   \n",
       "1               FOOD    SINGLE_BUYER                0          1   \n",
       "2  COSMETIC_AND_FOOD     MULTI_BUYER                0          2   \n",
       "3           COSMETIC     MULTI_BUYER                0          1   \n",
       "4               FOOD     MULTI_BUYER                0          1   \n",
       "\n",
       "   ALTERSKATEGORIE_GROB  \n",
       "0                     4  \n",
       "1                     4  \n",
       "2                     4  \n",
       "3                     4  \n",
       "4                     3  \n",
       "\n",
       "[5 rows x 369 columns]"
      ]
     },
     "execution_count": 65,
     "metadata": {},
     "output_type": "execute_result"
    }
   ],
   "source": [
    "# Load in the customer demographics data.\n",
    "df_customers = pd.read_csv('./data/Udacity_CUSTOMERS_052018.csv', sep=';')\n",
    "df_customers.head()"
   ]
  },
  {
   "cell_type": "code",
   "execution_count": 66,
   "metadata": {},
   "outputs": [],
   "source": [
    "# Apply preprocessing, feature transformation, and clustering from the general\n",
    "# demographics onto the customer data, obtaining cluster predictions for the\n",
    "# customer demographics data.\n",
    "df_customers_cleaned = clean_data(df_feat=df_customers, df_mu=att_to_nan, \n",
    "                                  valid_features_types=valid_features_types,dummy_na=DUMMY_NA)"
   ]
  },
  {
   "cell_type": "code",
   "execution_count": 75,
   "metadata": {},
   "outputs": [],
   "source": [
    "# Reordering columns as in the general demographics dataset\n",
    "df_customers_cleaned = df_customers_cleaned[cleaned_df.columns]"
   ]
  },
  {
   "cell_type": "code",
   "execution_count": 77,
   "metadata": {},
   "outputs": [
    {
     "name": "stdout",
     "output_type": "stream",
     "text": [
      "If this is all you see, you passed the tests\n"
     ]
    }
   ],
   "source": [
    "assert df_customers_cleaned.shape[1] == azdias_cleaned.shape[1], \"Columns mismatch: {} != {}\".format(\n",
    "       df_customers_cleaned.shape[1], azdias_cleaned.shape[1])\n",
    "\n",
    "n_miss_vals = df_customers_cleaned.isnull().sum().sum()\n",
    "assert n_miss_vals == 0, \"There are still {} missing values\".format(n_miss_vals)\n",
    "\n",
    "print(\"If this is all you see, you passed the tests\")"
   ]
  },
  {
   "cell_type": "code",
   "execution_count": 71,
   "metadata": {},
   "outputs": [],
   "source": [
    "def save_data_to_pickle(data: pd.DataFrame, filename: str, file_path: str = PROCESSED_DATA_PATH):\n",
    "    '''\n",
    "    INPUT:\n",
    "    data - (pandas dataframe) the data object to save into a pickle file\n",
    "    filename - (string) the file name of the pickle file\n",
    "    file_path - (string) the path name where the pickle file is held\n",
    "    \n",
    "    OUTPUT: None \n",
    "    \n",
    "    '''\n",
    "    full_path = file_path + filename\n",
    "    \n",
    "    try:\n",
    "        saved_pickle = dump(data, full_path)\n",
    "    except:\n",
    "        print('Unable to save pickle file {}'.format(full_path))\n",
    "    else:\n",
    "        print('Saved pickle file {}'.format(full_path))"
   ]
  },
  {
   "cell_type": "code",
   "execution_count": 78,
   "metadata": {},
   "outputs": [
    {
     "name": "stdout",
     "output_type": "stream",
     "text": [
      "Saved pickle file ./data/processed_data.pk\n",
      "Saved pickle file ./data/processed_customers_data.pk\n"
     ]
    }
   ],
   "source": [
    "# Save the clean data of the general population as well as the customers to pickle files for using in the ML pipeline\n",
    "save_data_to_pickle(data=cleaned_df, filename='processed_data.pk')\n",
    "save_data_to_pickle(data=df_customers_cleaned, filename='processed_customers_data.pk')"
   ]
  },
  {
   "cell_type": "markdown",
   "metadata": {},
   "source": [
    "# References\n",
    "\n",
    "1. Sangani R (2021). Dealing with features that have high cardinality. Medium. 5 min read. August 4 2021.\n",
    "2. Tung B (2020). What is the curse of dimensionality? Quora. "
   ]
  }
 ],
 "metadata": {
  "kernelspec": {
   "display_name": "Python 3 (ipykernel)",
   "language": "python",
   "name": "python3"
  },
  "language_info": {
   "codemirror_mode": {
    "name": "ipython",
    "version": 3
   },
   "file_extension": ".py",
   "mimetype": "text/x-python",
   "name": "python",
   "nbconvert_exporter": "python",
   "pygments_lexer": "ipython3",
   "version": "3.11.5"
  }
 },
 "nbformat": 4,
 "nbformat_minor": 2
}

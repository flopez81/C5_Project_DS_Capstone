{
 "cells": [
  {
   "cell_type": "markdown",
   "metadata": {},
   "source": [
    "# Capstone Project: Create a Customer Segmentation Report for Arvato Financial Services\n",
    "\n",
    "In this project, you will analyze demographics data for customers of a mail-order sales company in Germany, comparing it against demographics information for the general population. You'll use unsupervised learning techniques to perform customer segmentation, identifying the parts of the population that best describe the core customer base of the company. Then, you'll apply what you've learned on a third dataset with demographics information for targets of a marketing campaign for the company, and use a model to predict which individuals are most likely to convert into becoming customers for the company. The data that you will use has been provided by our partners at Bertelsmann Arvato Analytics, and represents a real-life data science task.\n",
    "\n",
    "The versions of those two datasets used in this project will include many more features and has not been pre-cleaned. You are also free to choose whatever approach you'd like to analyzing the data rather than follow pre-determined steps. In your work on this project, make sure that you carefully document your steps and decisions, since your main deliverable for this project will be a blog post reporting your findings."
   ]
  },
  {
   "cell_type": "code",
   "execution_count": 2,
   "metadata": {},
   "outputs": [],
   "source": [
    "# import libraries here; add more as necessary\n",
    "import numpy as np\n",
    "import pandas as pd\n",
    "import matplotlib.pyplot as plt\n",
    "import seaborn as sns\n",
    "from joblib import dump, load\n",
    "from typing import Union, Tuple, List\n",
    "from sklearn.preprocessing import OneHotEncoder, StandardScaler # Imputer\n",
    "from sklearn.model_selection import train_test_split, GridSearchCV\n",
    "from sklearn.impute import SimpleImputer\n",
    "from sklearn.decomposition import PCA\n",
    "from sklearn.cluster import KMeans, MiniBatchKMeans\n",
    "from collections import Counter\n",
    "\n",
    "# magic word for producing visualizations in notebook\n",
    "%matplotlib inline\n",
    "\n",
    "pd.options.display.max_rows = 20\n",
    "pd.options.display.max_columns = 10\n",
    "\n",
    "# Project constants\n",
    "PROCESSED_DATA_PATH = './data/processed_data.pk'\n",
    "CLUSTER_MODEL_PATH = './model/cluster_model.pk'"
   ]
  },
  {
   "cell_type": "markdown",
   "metadata": {},
   "source": [
    "## Part 0: Get to Know the Data\n",
    "\n",
    "There are four data files associated with this project:\n",
    "\n",
    "- `Udacity_AZDIAS_052018.csv`: Demographics data for the general population of Germany; 891 211 persons (rows) x 366 features (columns).\n",
    "- `Udacity_CUSTOMERS_052018.csv`: Demographics data for customers of a mail-order company; 191 652 persons (rows) x 369 features (columns).\n",
    "- `Udacity_MAILOUT_052018_TRAIN.csv`: Demographics data for individuals who were targets of a marketing campaign; 42 982 persons (rows) x 367 (columns).\n",
    "- `Udacity_MAILOUT_052018_TEST.csv`: Demographics data for individuals who were targets of a marketing campaign; 42 833 persons (rows) x 366 (columns).\n",
    "\n",
    "Each row of the demographics files represents a single person, but also includes information outside of individuals, including information about their household, building, and neighborhood. Use the information from the first two files to figure out how customers (\"CUSTOMERS\") are similar to or differ from the general population at large (\"AZDIAS\"), then use your analysis to make predictions on the other two files (\"MAILOUT\"), predicting which recipients are most likely to become a customer for the mail-order company.\n",
    "\n",
    "The \"CUSTOMERS\" file contains three extra columns ('CUSTOMER_GROUP', 'ONLINE_PURCHASE', and 'PRODUCT_GROUP'), which provide broad information about the customers depicted in the file. The original \"MAILOUT\" file included one additional column, \"RESPONSE\", which indicated whether or not each recipient became a customer of the company. For the \"TRAIN\" subset, this column has been retained, but in the \"TEST\" subset it has been removed; it is against that withheld column that your final predictions will be assessed in the Kaggle competition.\n",
    "\n",
    "Otherwise, all of the remaining columns are the same between the three data files. For more information about the columns depicted in the files, you can refer to two Excel spreadsheets provided in the workspace. [One of them](./DIAS Information Levels - Attributes 2017.xlsx) is a top-level list of attributes and descriptions, organized by informational category. [The other](./DIAS Attributes - Values 2017.xlsx) is a detailed mapping of data values for each feature in alphabetical order.\n",
    "\n",
    "In the below cell, we've provided some initial code to load in the first two datasets. Note for all of the `.csv` data files in this project that they're semicolon (`;`) delimited, so an additional argument in the [`read_csv()`](https://pandas.pydata.org/pandas-docs/stable/generated/pandas.read_csv.html) call has been included to read in the data properly. Also, considering the size of the datasets, it may take some time for them to load completely.\n",
    "\n",
    "You'll notice when the data is loaded in that a warning message will immediately pop up. Before you really start digging into the modeling and analysis, you're going to need to perform some cleaning. Take some time to browse the structure of the data and look over the informational spreadsheets to understand the data values. Make some decisions on which features to keep, which features to drop, and if any revisions need to be made on data formats. It'll be a good idea to create a function with pre-processing steps, since you'll need to clean all of the datasets before you work with them."
   ]
  },
  {
   "cell_type": "code",
   "execution_count": 3,
   "metadata": {},
   "outputs": [
    {
     "name": "stderr",
     "output_type": "stream",
     "text": [
      "C:\\Users\\flopezr81\\AppData\\Local\\Temp\\ipykernel_5952\\893584662.py:2: DtypeWarning: Columns (18,19) have mixed types. Specify dtype option on import or set low_memory=False.\n",
      "  azdias = pd.read_csv('./data/Udacity_AZDIAS_052018.csv', sep=';')\n"
     ]
    }
   ],
   "source": [
    "# load in the data\n",
    "azdias = pd.read_csv('./data/Udacity_AZDIAS_052018.csv', sep=';')"
   ]
  },
  {
   "cell_type": "code",
   "execution_count": 4,
   "metadata": {},
   "outputs": [
    {
     "name": "stdout",
     "output_type": "stream",
     "text": [
      "CAMEO_DEUG_2015 :  [nan 8.0 4.0 2.0 6.0 1.0 9.0 5.0 7.0 3.0 '4' '3' '7' '2' '8' '9' '6' '5'\n",
      " '1' 'X']\n",
      "CAMEO_INTL_2015 :  [nan 51.0 24.0 12.0 43.0 54.0 22.0 14.0 13.0 15.0 33.0 41.0 34.0 55.0 25.0\n",
      " 23.0 31.0 52.0 35.0 45.0 44.0 32.0 '22' '24' '41' '12' '54' '51' '44'\n",
      " '35' '23' '25' '14' '34' '52' '55' '31' '32' '15' '13' '43' '33' '45'\n",
      " 'XX']\n"
     ]
    }
   ],
   "source": [
    "# We can see that the warning is because of the missing values encoding in the two related features, which are integer. \n",
    "# Additionally, CAMEO_DEUG_2015 has some non-missing values set as strings.\n",
    "for col in [18, 19]:\n",
    "    print(azdias.columns[col], ': ', azdias[azdias.columns[col]].unique())"
   ]
  },
  {
   "cell_type": "code",
   "execution_count": 5,
   "metadata": {},
   "outputs": [
    {
     "name": "stdout",
     "output_type": "stream",
     "text": [
      "General demographics: persons (rows) = 891221, features (columns) = 366\n"
     ]
    }
   ],
   "source": [
    "n_rows_gen_demo, n_cols_gen_demo = azdias.shape\n",
    "print('General demographics: persons (rows) = {}, features (columns) = {}'.format(n_rows_gen_demo, n_cols_gen_demo))"
   ]
  },
  {
   "cell_type": "code",
   "execution_count": 6,
   "metadata": {},
   "outputs": [
    {
     "data": {
      "text/html": [
       "<div>\n",
       "<style scoped>\n",
       "    .dataframe tbody tr th:only-of-type {\n",
       "        vertical-align: middle;\n",
       "    }\n",
       "\n",
       "    .dataframe tbody tr th {\n",
       "        vertical-align: top;\n",
       "    }\n",
       "\n",
       "    .dataframe thead th {\n",
       "        text-align: right;\n",
       "    }\n",
       "</style>\n",
       "<table border=\"1\" class=\"dataframe\">\n",
       "  <thead>\n",
       "    <tr style=\"text-align: right;\">\n",
       "      <th></th>\n",
       "      <th>LNR</th>\n",
       "      <th>AGER_TYP</th>\n",
       "      <th>AKT_DAT_KL</th>\n",
       "      <th>ALTER_HH</th>\n",
       "      <th>ALTER_KIND1</th>\n",
       "      <th>...</th>\n",
       "      <th>WOHNDAUER_2008</th>\n",
       "      <th>WOHNLAGE</th>\n",
       "      <th>ZABEOTYP</th>\n",
       "      <th>ANREDE_KZ</th>\n",
       "      <th>ALTERSKATEGORIE_GROB</th>\n",
       "    </tr>\n",
       "  </thead>\n",
       "  <tbody>\n",
       "    <tr>\n",
       "      <th>0</th>\n",
       "      <td>910215</td>\n",
       "      <td>-1</td>\n",
       "      <td>NaN</td>\n",
       "      <td>NaN</td>\n",
       "      <td>NaN</td>\n",
       "      <td>...</td>\n",
       "      <td>NaN</td>\n",
       "      <td>NaN</td>\n",
       "      <td>3</td>\n",
       "      <td>1</td>\n",
       "      <td>2</td>\n",
       "    </tr>\n",
       "    <tr>\n",
       "      <th>1</th>\n",
       "      <td>910220</td>\n",
       "      <td>-1</td>\n",
       "      <td>9.0</td>\n",
       "      <td>0.0</td>\n",
       "      <td>NaN</td>\n",
       "      <td>...</td>\n",
       "      <td>9.0</td>\n",
       "      <td>4.0</td>\n",
       "      <td>5</td>\n",
       "      <td>2</td>\n",
       "      <td>1</td>\n",
       "    </tr>\n",
       "    <tr>\n",
       "      <th>2</th>\n",
       "      <td>910225</td>\n",
       "      <td>-1</td>\n",
       "      <td>9.0</td>\n",
       "      <td>17.0</td>\n",
       "      <td>NaN</td>\n",
       "      <td>...</td>\n",
       "      <td>9.0</td>\n",
       "      <td>2.0</td>\n",
       "      <td>5</td>\n",
       "      <td>2</td>\n",
       "      <td>3</td>\n",
       "    </tr>\n",
       "    <tr>\n",
       "      <th>3</th>\n",
       "      <td>910226</td>\n",
       "      <td>2</td>\n",
       "      <td>1.0</td>\n",
       "      <td>13.0</td>\n",
       "      <td>NaN</td>\n",
       "      <td>...</td>\n",
       "      <td>9.0</td>\n",
       "      <td>7.0</td>\n",
       "      <td>3</td>\n",
       "      <td>2</td>\n",
       "      <td>4</td>\n",
       "    </tr>\n",
       "    <tr>\n",
       "      <th>4</th>\n",
       "      <td>910241</td>\n",
       "      <td>-1</td>\n",
       "      <td>1.0</td>\n",
       "      <td>20.0</td>\n",
       "      <td>NaN</td>\n",
       "      <td>...</td>\n",
       "      <td>9.0</td>\n",
       "      <td>3.0</td>\n",
       "      <td>4</td>\n",
       "      <td>1</td>\n",
       "      <td>3</td>\n",
       "    </tr>\n",
       "  </tbody>\n",
       "</table>\n",
       "<p>5 rows × 366 columns</p>\n",
       "</div>"
      ],
      "text/plain": [
       "      LNR  AGER_TYP  AKT_DAT_KL  ALTER_HH  ALTER_KIND1  ...  WOHNDAUER_2008  \\\n",
       "0  910215        -1         NaN       NaN          NaN  ...             NaN   \n",
       "1  910220        -1         9.0       0.0          NaN  ...             9.0   \n",
       "2  910225        -1         9.0      17.0          NaN  ...             9.0   \n",
       "3  910226         2         1.0      13.0          NaN  ...             9.0   \n",
       "4  910241        -1         1.0      20.0          NaN  ...             9.0   \n",
       "\n",
       "   WOHNLAGE  ZABEOTYP  ANREDE_KZ  ALTERSKATEGORIE_GROB  \n",
       "0       NaN         3          1                     2  \n",
       "1       4.0         5          2                     1  \n",
       "2       2.0         5          2                     3  \n",
       "3       7.0         3          2                     4  \n",
       "4       3.0         4          1                     3  \n",
       "\n",
       "[5 rows x 366 columns]"
      ]
     },
     "execution_count": 6,
     "metadata": {},
     "output_type": "execute_result"
    }
   ],
   "source": [
    "# Looking at the first 5 rows of the general demographics dataframe\n",
    "azdias.head(5)"
   ]
  },
  {
   "cell_type": "code",
   "execution_count": 7,
   "metadata": {},
   "outputs": [
    {
     "data": {
      "text/html": [
       "<div>\n",
       "<style scoped>\n",
       "    .dataframe tbody tr th:only-of-type {\n",
       "        vertical-align: middle;\n",
       "    }\n",
       "\n",
       "    .dataframe tbody tr th {\n",
       "        vertical-align: top;\n",
       "    }\n",
       "\n",
       "    .dataframe thead th {\n",
       "        text-align: right;\n",
       "    }\n",
       "</style>\n",
       "<table border=\"1\" class=\"dataframe\">\n",
       "  <thead>\n",
       "    <tr style=\"text-align: right;\">\n",
       "      <th></th>\n",
       "      <th>LNR</th>\n",
       "      <th>AGER_TYP</th>\n",
       "      <th>AKT_DAT_KL</th>\n",
       "      <th>ALTER_HH</th>\n",
       "      <th>ALTER_KIND1</th>\n",
       "      <th>...</th>\n",
       "      <th>WOHNDAUER_2008</th>\n",
       "      <th>WOHNLAGE</th>\n",
       "      <th>ZABEOTYP</th>\n",
       "      <th>ANREDE_KZ</th>\n",
       "      <th>ALTERSKATEGORIE_GROB</th>\n",
       "    </tr>\n",
       "  </thead>\n",
       "  <tbody>\n",
       "    <tr>\n",
       "      <th>891216</th>\n",
       "      <td>825761</td>\n",
       "      <td>-1</td>\n",
       "      <td>5.0</td>\n",
       "      <td>17.0</td>\n",
       "      <td>NaN</td>\n",
       "      <td>...</td>\n",
       "      <td>4.0</td>\n",
       "      <td>3.0</td>\n",
       "      <td>4</td>\n",
       "      <td>2</td>\n",
       "      <td>3</td>\n",
       "    </tr>\n",
       "    <tr>\n",
       "      <th>891217</th>\n",
       "      <td>825771</td>\n",
       "      <td>-1</td>\n",
       "      <td>9.0</td>\n",
       "      <td>16.0</td>\n",
       "      <td>NaN</td>\n",
       "      <td>...</td>\n",
       "      <td>9.0</td>\n",
       "      <td>5.0</td>\n",
       "      <td>6</td>\n",
       "      <td>1</td>\n",
       "      <td>2</td>\n",
       "    </tr>\n",
       "    <tr>\n",
       "      <th>891218</th>\n",
       "      <td>825772</td>\n",
       "      <td>-1</td>\n",
       "      <td>1.0</td>\n",
       "      <td>17.0</td>\n",
       "      <td>NaN</td>\n",
       "      <td>...</td>\n",
       "      <td>5.0</td>\n",
       "      <td>7.0</td>\n",
       "      <td>4</td>\n",
       "      <td>2</td>\n",
       "      <td>2</td>\n",
       "    </tr>\n",
       "    <tr>\n",
       "      <th>891219</th>\n",
       "      <td>825776</td>\n",
       "      <td>-1</td>\n",
       "      <td>9.0</td>\n",
       "      <td>0.0</td>\n",
       "      <td>17.0</td>\n",
       "      <td>...</td>\n",
       "      <td>9.0</td>\n",
       "      <td>5.0</td>\n",
       "      <td>5</td>\n",
       "      <td>1</td>\n",
       "      <td>1</td>\n",
       "    </tr>\n",
       "    <tr>\n",
       "      <th>891220</th>\n",
       "      <td>825787</td>\n",
       "      <td>-1</td>\n",
       "      <td>1.0</td>\n",
       "      <td>0.0</td>\n",
       "      <td>NaN</td>\n",
       "      <td>...</td>\n",
       "      <td>3.0</td>\n",
       "      <td>4.0</td>\n",
       "      <td>3</td>\n",
       "      <td>1</td>\n",
       "      <td>4</td>\n",
       "    </tr>\n",
       "  </tbody>\n",
       "</table>\n",
       "<p>5 rows × 366 columns</p>\n",
       "</div>"
      ],
      "text/plain": [
       "           LNR  AGER_TYP  AKT_DAT_KL  ALTER_HH  ALTER_KIND1  ...  \\\n",
       "891216  825761        -1         5.0      17.0          NaN  ...   \n",
       "891217  825771        -1         9.0      16.0          NaN  ...   \n",
       "891218  825772        -1         1.0      17.0          NaN  ...   \n",
       "891219  825776        -1         9.0       0.0         17.0  ...   \n",
       "891220  825787        -1         1.0       0.0          NaN  ...   \n",
       "\n",
       "        WOHNDAUER_2008  WOHNLAGE  ZABEOTYP  ANREDE_KZ  ALTERSKATEGORIE_GROB  \n",
       "891216             4.0       3.0         4          2                     3  \n",
       "891217             9.0       5.0         6          1                     2  \n",
       "891218             5.0       7.0         4          2                     2  \n",
       "891219             9.0       5.0         5          1                     1  \n",
       "891220             3.0       4.0         3          1                     4  \n",
       "\n",
       "[5 rows x 366 columns]"
      ]
     },
     "execution_count": 7,
     "metadata": {},
     "output_type": "execute_result"
    }
   ],
   "source": [
    "# Looking at the last 5 rows of the general demographics dataframe\n",
    "azdias.tail(5)"
   ]
  },
  {
   "cell_type": "code",
   "execution_count": 8,
   "metadata": {},
   "outputs": [
    {
     "data": {
      "text/html": [
       "<div>\n",
       "<style scoped>\n",
       "    .dataframe tbody tr th:only-of-type {\n",
       "        vertical-align: middle;\n",
       "    }\n",
       "\n",
       "    .dataframe tbody tr th {\n",
       "        vertical-align: top;\n",
       "    }\n",
       "\n",
       "    .dataframe thead th {\n",
       "        text-align: right;\n",
       "    }\n",
       "</style>\n",
       "<table border=\"1\" class=\"dataframe\">\n",
       "  <thead>\n",
       "    <tr style=\"text-align: right;\">\n",
       "      <th></th>\n",
       "      <th>LNR</th>\n",
       "      <th>AGER_TYP</th>\n",
       "      <th>AKT_DAT_KL</th>\n",
       "      <th>ALTER_HH</th>\n",
       "      <th>ALTER_KIND1</th>\n",
       "      <th>...</th>\n",
       "      <th>WOHNDAUER_2008</th>\n",
       "      <th>WOHNLAGE</th>\n",
       "      <th>ZABEOTYP</th>\n",
       "      <th>ANREDE_KZ</th>\n",
       "      <th>ALTERSKATEGORIE_GROB</th>\n",
       "    </tr>\n",
       "  </thead>\n",
       "  <tbody>\n",
       "    <tr>\n",
       "      <th>count</th>\n",
       "      <td>8.912210e+05</td>\n",
       "      <td>891221.000000</td>\n",
       "      <td>817722.000000</td>\n",
       "      <td>817722.000000</td>\n",
       "      <td>81058.000000</td>\n",
       "      <td>...</td>\n",
       "      <td>817722.000000</td>\n",
       "      <td>798073.000000</td>\n",
       "      <td>891221.000000</td>\n",
       "      <td>891221.000000</td>\n",
       "      <td>891221.000000</td>\n",
       "    </tr>\n",
       "    <tr>\n",
       "      <th>mean</th>\n",
       "      <td>6.372630e+05</td>\n",
       "      <td>-0.358435</td>\n",
       "      <td>4.421928</td>\n",
       "      <td>10.864126</td>\n",
       "      <td>11.745392</td>\n",
       "      <td>...</td>\n",
       "      <td>7.908791</td>\n",
       "      <td>4.052836</td>\n",
       "      <td>3.362438</td>\n",
       "      <td>1.522098</td>\n",
       "      <td>2.777398</td>\n",
       "    </tr>\n",
       "    <tr>\n",
       "      <th>std</th>\n",
       "      <td>2.572735e+05</td>\n",
       "      <td>1.198724</td>\n",
       "      <td>3.638805</td>\n",
       "      <td>7.639683</td>\n",
       "      <td>4.097660</td>\n",
       "      <td>...</td>\n",
       "      <td>1.923137</td>\n",
       "      <td>1.949539</td>\n",
       "      <td>1.352704</td>\n",
       "      <td>0.499512</td>\n",
       "      <td>1.068775</td>\n",
       "    </tr>\n",
       "    <tr>\n",
       "      <th>min</th>\n",
       "      <td>1.916530e+05</td>\n",
       "      <td>-1.000000</td>\n",
       "      <td>1.000000</td>\n",
       "      <td>0.000000</td>\n",
       "      <td>2.000000</td>\n",
       "      <td>...</td>\n",
       "      <td>1.000000</td>\n",
       "      <td>0.000000</td>\n",
       "      <td>1.000000</td>\n",
       "      <td>1.000000</td>\n",
       "      <td>1.000000</td>\n",
       "    </tr>\n",
       "    <tr>\n",
       "      <th>25%</th>\n",
       "      <td>4.144580e+05</td>\n",
       "      <td>-1.000000</td>\n",
       "      <td>1.000000</td>\n",
       "      <td>0.000000</td>\n",
       "      <td>8.000000</td>\n",
       "      <td>...</td>\n",
       "      <td>8.000000</td>\n",
       "      <td>3.000000</td>\n",
       "      <td>3.000000</td>\n",
       "      <td>1.000000</td>\n",
       "      <td>2.000000</td>\n",
       "    </tr>\n",
       "    <tr>\n",
       "      <th>50%</th>\n",
       "      <td>6.372630e+05</td>\n",
       "      <td>-1.000000</td>\n",
       "      <td>3.000000</td>\n",
       "      <td>13.000000</td>\n",
       "      <td>12.000000</td>\n",
       "      <td>...</td>\n",
       "      <td>9.000000</td>\n",
       "      <td>3.000000</td>\n",
       "      <td>3.000000</td>\n",
       "      <td>2.000000</td>\n",
       "      <td>3.000000</td>\n",
       "    </tr>\n",
       "    <tr>\n",
       "      <th>75%</th>\n",
       "      <td>8.600680e+05</td>\n",
       "      <td>-1.000000</td>\n",
       "      <td>9.000000</td>\n",
       "      <td>17.000000</td>\n",
       "      <td>15.000000</td>\n",
       "      <td>...</td>\n",
       "      <td>9.000000</td>\n",
       "      <td>5.000000</td>\n",
       "      <td>4.000000</td>\n",
       "      <td>2.000000</td>\n",
       "      <td>4.000000</td>\n",
       "    </tr>\n",
       "    <tr>\n",
       "      <th>max</th>\n",
       "      <td>1.082873e+06</td>\n",
       "      <td>3.000000</td>\n",
       "      <td>9.000000</td>\n",
       "      <td>21.000000</td>\n",
       "      <td>18.000000</td>\n",
       "      <td>...</td>\n",
       "      <td>9.000000</td>\n",
       "      <td>8.000000</td>\n",
       "      <td>6.000000</td>\n",
       "      <td>2.000000</td>\n",
       "      <td>9.000000</td>\n",
       "    </tr>\n",
       "  </tbody>\n",
       "</table>\n",
       "<p>8 rows × 360 columns</p>\n",
       "</div>"
      ],
      "text/plain": [
       "                LNR       AGER_TYP     AKT_DAT_KL       ALTER_HH  \\\n",
       "count  8.912210e+05  891221.000000  817722.000000  817722.000000   \n",
       "mean   6.372630e+05      -0.358435       4.421928      10.864126   \n",
       "std    2.572735e+05       1.198724       3.638805       7.639683   \n",
       "min    1.916530e+05      -1.000000       1.000000       0.000000   \n",
       "25%    4.144580e+05      -1.000000       1.000000       0.000000   \n",
       "50%    6.372630e+05      -1.000000       3.000000      13.000000   \n",
       "75%    8.600680e+05      -1.000000       9.000000      17.000000   \n",
       "max    1.082873e+06       3.000000       9.000000      21.000000   \n",
       "\n",
       "        ALTER_KIND1  ...  WOHNDAUER_2008       WOHNLAGE       ZABEOTYP  \\\n",
       "count  81058.000000  ...   817722.000000  798073.000000  891221.000000   \n",
       "mean      11.745392  ...        7.908791       4.052836       3.362438   \n",
       "std        4.097660  ...        1.923137       1.949539       1.352704   \n",
       "min        2.000000  ...        1.000000       0.000000       1.000000   \n",
       "25%        8.000000  ...        8.000000       3.000000       3.000000   \n",
       "50%       12.000000  ...        9.000000       3.000000       3.000000   \n",
       "75%       15.000000  ...        9.000000       5.000000       4.000000   \n",
       "max       18.000000  ...        9.000000       8.000000       6.000000   \n",
       "\n",
       "           ANREDE_KZ  ALTERSKATEGORIE_GROB  \n",
       "count  891221.000000         891221.000000  \n",
       "mean        1.522098              2.777398  \n",
       "std         0.499512              1.068775  \n",
       "min         1.000000              1.000000  \n",
       "25%         1.000000              2.000000  \n",
       "50%         2.000000              3.000000  \n",
       "75%         2.000000              4.000000  \n",
       "max         2.000000              9.000000  \n",
       "\n",
       "[8 rows x 360 columns]"
      ]
     },
     "execution_count": 8,
     "metadata": {},
     "output_type": "execute_result"
    }
   ],
   "source": [
    "# Looking at the summary statistics of the general demographics dataframe\n",
    "azdias.describe()"
   ]
  },
  {
   "cell_type": "code",
   "execution_count": 9,
   "metadata": {},
   "outputs": [
    {
     "name": "stdout",
     "output_type": "stream",
     "text": [
      "<class 'pandas.core.frame.DataFrame'>\n",
      "RangeIndex: 891221 entries, 0 to 891220\n",
      "Columns: 366 entries, LNR to ALTERSKATEGORIE_GROB\n",
      "dtypes: float64(267), int64(93), object(6)\n",
      "memory usage: 2.4+ GB\n"
     ]
    }
   ],
   "source": [
    "# Looking at the data features of the general demographics dataframe\n",
    "azdias.info()"
   ]
  },
  {
   "cell_type": "code",
   "execution_count": 10,
   "metadata": {},
   "outputs": [
    {
     "name": "stderr",
     "output_type": "stream",
     "text": [
      "C:\\Users\\flopezr81\\AppData\\Local\\Temp\\ipykernel_5952\\1418119627.py:1: DtypeWarning: Columns (18,19) have mixed types. Specify dtype option on import or set low_memory=False.\n",
      "  customers = pd.read_csv('./data/Udacity_CUSTOMERS_052018.csv', sep=';')\n"
     ]
    }
   ],
   "source": [
    "customers = pd.read_csv('./data/Udacity_CUSTOMERS_052018.csv', sep=';')"
   ]
  },
  {
   "cell_type": "markdown",
   "metadata": {},
   "source": [
    "### Step 0.1: Assess Missing Data\n",
    "\n",
    "The first preprocessing step to take is to deal with the missing values per columns and rows. I have splitted this step into three substeps: 1) the conversion of encoded missing values into nans, 2) the removal of outliers columns, and 3) the removal of outlier rows from the remaining columns."
   ]
  },
  {
   "cell_type": "markdown",
   "metadata": {},
   "source": [
    "#### Step 0.1.1: Convert Missing Value Codes to NaNs\n",
    "By looking at the excel file ´DIAS Attributes - Values 2017.xlsx´, I figured out that there are missing values in the features encoded as either specific numbers like 0, -1 or letters like 'X' or 'XX'. Therefore, I'm gonna read this file to detect these encodings and replace each appearance in the dataframe with nan values. Additonally, I added an extra column Type to set the type of each feature: binary (2-level categories), categorical (>=3 levels), ordinal or numeric.  "
   ]
  },
  {
   "cell_type": "code",
   "execution_count": 11,
   "metadata": {},
   "outputs": [],
   "source": [
    "# Reading the excel file with info on dias attributes\n",
    "dias_att = pd.read_excel(io='./data/DIAS Attributes - Values 2017.xlsx', sheet_name = 'Tabelle1', skiprows=1)"
   ]
  },
  {
   "cell_type": "code",
   "execution_count": 12,
   "metadata": {},
   "outputs": [
    {
     "data": {
      "text/html": [
       "<div>\n",
       "<style scoped>\n",
       "    .dataframe tbody tr th:only-of-type {\n",
       "        vertical-align: middle;\n",
       "    }\n",
       "\n",
       "    .dataframe tbody tr th {\n",
       "        vertical-align: top;\n",
       "    }\n",
       "\n",
       "    .dataframe thead th {\n",
       "        text-align: right;\n",
       "    }\n",
       "</style>\n",
       "<table border=\"1\" class=\"dataframe\">\n",
       "  <thead>\n",
       "    <tr style=\"text-align: right;\">\n",
       "      <th></th>\n",
       "      <th>Unnamed: 0</th>\n",
       "      <th>Attribute</th>\n",
       "      <th>Description</th>\n",
       "      <th>Value</th>\n",
       "      <th>Meaning</th>\n",
       "      <th>Type</th>\n",
       "    </tr>\n",
       "  </thead>\n",
       "  <tbody>\n",
       "    <tr>\n",
       "      <th>0</th>\n",
       "      <td>NaN</td>\n",
       "      <td>AGER_TYP</td>\n",
       "      <td>best-ager typology</td>\n",
       "      <td>-1</td>\n",
       "      <td>unknown</td>\n",
       "      <td>categorical</td>\n",
       "    </tr>\n",
       "    <tr>\n",
       "      <th>1</th>\n",
       "      <td>NaN</td>\n",
       "      <td>NaN</td>\n",
       "      <td>NaN</td>\n",
       "      <td>0</td>\n",
       "      <td>no classification possible</td>\n",
       "      <td>NaN</td>\n",
       "    </tr>\n",
       "    <tr>\n",
       "      <th>2</th>\n",
       "      <td>NaN</td>\n",
       "      <td>NaN</td>\n",
       "      <td>NaN</td>\n",
       "      <td>1</td>\n",
       "      <td>passive elderly</td>\n",
       "      <td>NaN</td>\n",
       "    </tr>\n",
       "    <tr>\n",
       "      <th>3</th>\n",
       "      <td>NaN</td>\n",
       "      <td>NaN</td>\n",
       "      <td>NaN</td>\n",
       "      <td>2</td>\n",
       "      <td>cultural elderly</td>\n",
       "      <td>NaN</td>\n",
       "    </tr>\n",
       "    <tr>\n",
       "      <th>4</th>\n",
       "      <td>NaN</td>\n",
       "      <td>NaN</td>\n",
       "      <td>NaN</td>\n",
       "      <td>3</td>\n",
       "      <td>experience-driven elderly</td>\n",
       "      <td>NaN</td>\n",
       "    </tr>\n",
       "    <tr>\n",
       "      <th>5</th>\n",
       "      <td>NaN</td>\n",
       "      <td>ALTERSKATEGORIE_GROB</td>\n",
       "      <td>age classification through prename analysis</td>\n",
       "      <td>-1, 0</td>\n",
       "      <td>unknown</td>\n",
       "      <td>ordinal</td>\n",
       "    </tr>\n",
       "    <tr>\n",
       "      <th>6</th>\n",
       "      <td>NaN</td>\n",
       "      <td>NaN</td>\n",
       "      <td>NaN</td>\n",
       "      <td>1</td>\n",
       "      <td>&lt; 30 years</td>\n",
       "      <td>NaN</td>\n",
       "    </tr>\n",
       "    <tr>\n",
       "      <th>7</th>\n",
       "      <td>NaN</td>\n",
       "      <td>NaN</td>\n",
       "      <td>NaN</td>\n",
       "      <td>2</td>\n",
       "      <td>30 - 45 years</td>\n",
       "      <td>NaN</td>\n",
       "    </tr>\n",
       "    <tr>\n",
       "      <th>8</th>\n",
       "      <td>NaN</td>\n",
       "      <td>NaN</td>\n",
       "      <td>NaN</td>\n",
       "      <td>3</td>\n",
       "      <td>46 - 60 years</td>\n",
       "      <td>NaN</td>\n",
       "    </tr>\n",
       "    <tr>\n",
       "      <th>9</th>\n",
       "      <td>NaN</td>\n",
       "      <td>NaN</td>\n",
       "      <td>NaN</td>\n",
       "      <td>4</td>\n",
       "      <td>&gt; 60 years</td>\n",
       "      <td>NaN</td>\n",
       "    </tr>\n",
       "  </tbody>\n",
       "</table>\n",
       "</div>"
      ],
      "text/plain": [
       "   Unnamed: 0             Attribute  \\\n",
       "0         NaN              AGER_TYP   \n",
       "1         NaN                   NaN   \n",
       "2         NaN                   NaN   \n",
       "3         NaN                   NaN   \n",
       "4         NaN                   NaN   \n",
       "5         NaN  ALTERSKATEGORIE_GROB   \n",
       "6         NaN                   NaN   \n",
       "7         NaN                   NaN   \n",
       "8         NaN                   NaN   \n",
       "9         NaN                   NaN   \n",
       "\n",
       "                                    Description  Value  \\\n",
       "0                            best-ager typology     -1   \n",
       "1                                           NaN      0   \n",
       "2                                           NaN      1   \n",
       "3                                           NaN      2   \n",
       "4                                           NaN      3   \n",
       "5  age classification through prename analysis   -1, 0   \n",
       "6                                           NaN      1   \n",
       "7                                           NaN      2   \n",
       "8                                           NaN      3   \n",
       "9                                           NaN      4   \n",
       "\n",
       "                      Meaning         Type  \n",
       "0                     unknown  categorical  \n",
       "1  no classification possible          NaN  \n",
       "2             passive elderly          NaN  \n",
       "3            cultural elderly          NaN  \n",
       "4   experience-driven elderly          NaN  \n",
       "5                     unknown      ordinal  \n",
       "6                  < 30 years          NaN  \n",
       "7               30 - 45 years          NaN  \n",
       "8               46 - 60 years          NaN  \n",
       "9                  > 60 years          NaN  "
      ]
     },
     "execution_count": 12,
     "metadata": {},
     "output_type": "execute_result"
    }
   ],
   "source": [
    "dias_att.head(10)"
   ]
  },
  {
   "cell_type": "code",
   "execution_count": 13,
   "metadata": {},
   "outputs": [
    {
     "data": {
      "text/html": [
       "<div>\n",
       "<style scoped>\n",
       "    .dataframe tbody tr th:only-of-type {\n",
       "        vertical-align: middle;\n",
       "    }\n",
       "\n",
       "    .dataframe tbody tr th {\n",
       "        vertical-align: top;\n",
       "    }\n",
       "\n",
       "    .dataframe thead th {\n",
       "        text-align: right;\n",
       "    }\n",
       "</style>\n",
       "<table border=\"1\" class=\"dataframe\">\n",
       "  <thead>\n",
       "    <tr style=\"text-align: right;\">\n",
       "      <th></th>\n",
       "      <th>Attribute</th>\n",
       "      <th>Description</th>\n",
       "      <th>Value</th>\n",
       "      <th>Meaning</th>\n",
       "      <th>Type</th>\n",
       "    </tr>\n",
       "  </thead>\n",
       "  <tbody>\n",
       "    <tr>\n",
       "      <th>0</th>\n",
       "      <td>AGER_TYP</td>\n",
       "      <td>best-ager typology</td>\n",
       "      <td>-1</td>\n",
       "      <td>unknown</td>\n",
       "      <td>categorical</td>\n",
       "    </tr>\n",
       "    <tr>\n",
       "      <th>1</th>\n",
       "      <td>NaN</td>\n",
       "      <td>NaN</td>\n",
       "      <td>0</td>\n",
       "      <td>no classification possible</td>\n",
       "      <td>NaN</td>\n",
       "    </tr>\n",
       "    <tr>\n",
       "      <th>2</th>\n",
       "      <td>NaN</td>\n",
       "      <td>NaN</td>\n",
       "      <td>1</td>\n",
       "      <td>passive elderly</td>\n",
       "      <td>NaN</td>\n",
       "    </tr>\n",
       "    <tr>\n",
       "      <th>3</th>\n",
       "      <td>NaN</td>\n",
       "      <td>NaN</td>\n",
       "      <td>2</td>\n",
       "      <td>cultural elderly</td>\n",
       "      <td>NaN</td>\n",
       "    </tr>\n",
       "    <tr>\n",
       "      <th>4</th>\n",
       "      <td>NaN</td>\n",
       "      <td>NaN</td>\n",
       "      <td>3</td>\n",
       "      <td>experience-driven elderly</td>\n",
       "      <td>NaN</td>\n",
       "    </tr>\n",
       "    <tr>\n",
       "      <th>...</th>\n",
       "      <td>...</td>\n",
       "      <td>...</td>\n",
       "      <td>...</td>\n",
       "      <td>...</td>\n",
       "      <td>...</td>\n",
       "    </tr>\n",
       "    <tr>\n",
       "      <th>2254</th>\n",
       "      <td>NaN</td>\n",
       "      <td>NaN</td>\n",
       "      <td>2</td>\n",
       "      <td>smart</td>\n",
       "      <td>NaN</td>\n",
       "    </tr>\n",
       "    <tr>\n",
       "      <th>2255</th>\n",
       "      <td>NaN</td>\n",
       "      <td>NaN</td>\n",
       "      <td>3</td>\n",
       "      <td>fair supplied</td>\n",
       "      <td>NaN</td>\n",
       "    </tr>\n",
       "    <tr>\n",
       "      <th>2256</th>\n",
       "      <td>NaN</td>\n",
       "      <td>NaN</td>\n",
       "      <td>4</td>\n",
       "      <td>price driven</td>\n",
       "      <td>NaN</td>\n",
       "    </tr>\n",
       "    <tr>\n",
       "      <th>2257</th>\n",
       "      <td>NaN</td>\n",
       "      <td>NaN</td>\n",
       "      <td>5</td>\n",
       "      <td>seeking orientation</td>\n",
       "      <td>NaN</td>\n",
       "    </tr>\n",
       "    <tr>\n",
       "      <th>2258</th>\n",
       "      <td>NaN</td>\n",
       "      <td>NaN</td>\n",
       "      <td>6</td>\n",
       "      <td>indifferent</td>\n",
       "      <td>NaN</td>\n",
       "    </tr>\n",
       "  </tbody>\n",
       "</table>\n",
       "<p>2259 rows × 5 columns</p>\n",
       "</div>"
      ],
      "text/plain": [
       "     Attribute         Description Value                     Meaning  \\\n",
       "0     AGER_TYP  best-ager typology    -1                     unknown   \n",
       "1          NaN                 NaN     0  no classification possible   \n",
       "2          NaN                 NaN     1             passive elderly   \n",
       "3          NaN                 NaN     2            cultural elderly   \n",
       "4          NaN                 NaN     3   experience-driven elderly   \n",
       "...        ...                 ...   ...                         ...   \n",
       "2254       NaN                 NaN     2                       smart   \n",
       "2255       NaN                 NaN     3               fair supplied   \n",
       "2256       NaN                 NaN     4                price driven   \n",
       "2257       NaN                 NaN     5         seeking orientation   \n",
       "2258       NaN                 NaN     6                 indifferent   \n",
       "\n",
       "             Type  \n",
       "0     categorical  \n",
       "1             NaN  \n",
       "2             NaN  \n",
       "3             NaN  \n",
       "4             NaN  \n",
       "...           ...  \n",
       "2254          NaN  \n",
       "2255          NaN  \n",
       "2256          NaN  \n",
       "2257          NaN  \n",
       "2258          NaN  \n",
       "\n",
       "[2259 rows x 5 columns]"
      ]
     },
     "execution_count": 13,
     "metadata": {},
     "output_type": "execute_result"
    }
   ],
   "source": [
    "# We clean the excel\n",
    "# We drop the first null\n",
    "dias_att.drop(axis=1, columns= 'Unnamed: 0', inplace=False)"
   ]
  },
  {
   "cell_type": "code",
   "execution_count": 14,
   "metadata": {},
   "outputs": [
    {
     "data": {
      "text/html": [
       "<div>\n",
       "<style scoped>\n",
       "    .dataframe tbody tr th:only-of-type {\n",
       "        vertical-align: middle;\n",
       "    }\n",
       "\n",
       "    .dataframe tbody tr th {\n",
       "        vertical-align: top;\n",
       "    }\n",
       "\n",
       "    .dataframe thead th {\n",
       "        text-align: right;\n",
       "    }\n",
       "</style>\n",
       "<table border=\"1\" class=\"dataframe\">\n",
       "  <thead>\n",
       "    <tr style=\"text-align: right;\">\n",
       "      <th></th>\n",
       "      <th>Attribute</th>\n",
       "      <th>Value</th>\n",
       "    </tr>\n",
       "  </thead>\n",
       "  <tbody>\n",
       "    <tr>\n",
       "      <th>0</th>\n",
       "      <td>AGER_TYP</td>\n",
       "      <td>-1</td>\n",
       "    </tr>\n",
       "    <tr>\n",
       "      <th>5</th>\n",
       "      <td>ALTERSKATEGORIE_GROB</td>\n",
       "      <td>-1, 0</td>\n",
       "    </tr>\n",
       "    <tr>\n",
       "      <th>33</th>\n",
       "      <td>ANREDE_KZ</td>\n",
       "      <td>-1, 0</td>\n",
       "    </tr>\n",
       "    <tr>\n",
       "      <th>40</th>\n",
       "      <td>BALLRAUM</td>\n",
       "      <td>-1</td>\n",
       "    </tr>\n",
       "    <tr>\n",
       "      <th>48</th>\n",
       "      <td>BIP_FLAG</td>\n",
       "      <td>-1</td>\n",
       "    </tr>\n",
       "    <tr>\n",
       "      <th>51</th>\n",
       "      <td>CAMEO_DEUG_2015</td>\n",
       "      <td>X</td>\n",
       "    </tr>\n",
       "    <tr>\n",
       "      <th>61</th>\n",
       "      <td>CAMEO_DEU_2015</td>\n",
       "      <td>XX</td>\n",
       "    </tr>\n",
       "    <tr>\n",
       "      <th>106</th>\n",
       "      <td>CAMEO_DEUINTL_2015</td>\n",
       "      <td>-1</td>\n",
       "    </tr>\n",
       "    <tr>\n",
       "      <th>132</th>\n",
       "      <td>CJT_GESAMTTYP</td>\n",
       "      <td>0</td>\n",
       "    </tr>\n",
       "    <tr>\n",
       "      <th>392</th>\n",
       "      <td>D19_KK_KUNDENTYP</td>\n",
       "      <td>-1</td>\n",
       "    </tr>\n",
       "  </tbody>\n",
       "</table>\n",
       "</div>"
      ],
      "text/plain": [
       "                Attribute  Value\n",
       "0                AGER_TYP     -1\n",
       "5    ALTERSKATEGORIE_GROB  -1, 0\n",
       "33              ANREDE_KZ  -1, 0\n",
       "40               BALLRAUM     -1\n",
       "48               BIP_FLAG     -1\n",
       "51        CAMEO_DEUG_2015      X\n",
       "61         CAMEO_DEU_2015     XX\n",
       "106    CAMEO_DEUINTL_2015     -1\n",
       "132         CJT_GESAMTTYP      0\n",
       "392      D19_KK_KUNDENTYP     -1"
      ]
     },
     "execution_count": 14,
     "metadata": {},
     "output_type": "execute_result"
    }
   ],
   "source": [
    "# We create a two-column dataframe based on dias_att where we have the name of the feature in one column and the list of \n",
    "# missing/unkown values in the other\n",
    "att_to_nan = dias_att.loc[dias_att['Meaning'] == 'unknown', ['Attribute', 'Value']]\n",
    "att_to_nan['Value'] = att_to_nan['Value'].astype('str')\n",
    "att_to_nan.head(10)"
   ]
  },
  {
   "cell_type": "code",
   "execution_count": 15,
   "metadata": {},
   "outputs": [
    {
     "name": "stdout",
     "output_type": "stream",
     "text": [
      "Common attributes between azdias and loaded excel file:  223\n"
     ]
    }
   ],
   "source": [
    "# Common attributes between azdias and loaded excel file\n",
    "n_common_feat = len(set(att_to_nan['Attribute'].unique()).intersection(azdias.columns))\n",
    "print('Common attributes between azdias and loaded excel file: ', n_common_feat)"
   ]
  },
  {
   "cell_type": "code",
   "execution_count": 16,
   "metadata": {},
   "outputs": [
    {
     "name": "stdout",
     "output_type": "stream",
     "text": [
      "Total amount of nulls:  34504760\n"
     ]
    }
   ],
   "source": [
    "def convert_if_num(element: str) -> Union[str, int]:\n",
    "    '''\n",
    "    This function converts an element to a numeric type if the string element is a number. Otherwise, it remains as a string\n",
    "\n",
    "    INPUT: element -  string to check if it is a number.\n",
    "    OUTPUT: element converted into a number if numeric. Otherwise, keep it as string\n",
    "    '''\n",
    "\n",
    "    # Check for positive numbers\n",
    "    if element.isnumeric():\n",
    "        return int(element)\n",
    "\n",
    "    # Check for negative numbers\n",
    "    if element[0] == '-' and element[1:].isnumeric:\n",
    "        return -1*int(element[1:])\n",
    "\n",
    "    return element\n",
    "    \n",
    "\n",
    "# Identify missing or unknown data values and convert them to NaNs.\n",
    "def replace_missing_unknown_with_nan(*, df_data: pd.DataFrame, df_mu: pd.DataFrame) -> pd.DataFrame:\n",
    "    '''\n",
    "    This function replaces the missing or unknown values in the columns of a given dataframe with Nan values.\n",
    "\n",
    "    INPUT: df_data - dataframe whose columns may contain some missing or unknown values to replace with Nan values.\n",
    "           df_mu - dataframe whose rows contain a reference to a column in df_data and a list of values representing missing or unknown values in the \n",
    "                   form of a string.\n",
    "    OUTPUT: df_data_nan - dataframe with the unknow values from df_data replaced with nan values.\n",
    "    '''\n",
    "\n",
    "    df_data_nan = df_data.copy()\n",
    "    for i, row in df_mu.iterrows():\n",
    "        if row['Attribute'] not in df_data.columns:\n",
    "            continue\n",
    "        \n",
    "        missing_or_unknown_vals = list(map(convert_if_num, row['Value'].split(',')))\n",
    "        df_data_nan[row['Attribute']].replace(to_replace=missing_or_unknown_vals, value=np.nan, inplace=True)\n",
    "    \n",
    "    return df_data_nan\n",
    "\n",
    "azdias_nans = replace_missing_unknown_with_nan(df_data=azdias, df_mu=att_to_nan)\n",
    "n_nans = azdias_nans.isnull().sum().sum()\n",
    "print('Total amount of nulls: ', n_nans)"
   ]
  },
  {
   "cell_type": "markdown",
   "metadata": {},
   "source": [
    "#### Step 0.1.2: Assess Missing Data in Each Column\n",
    "There might be columns that are outliers in terms of the proportion of values that are missing. To detect them and drop from the analysis, I'm gonna use matplotlib's [`hist()`](https://matplotlib.org/api/_as_gen/matplotlib.pyplot.hist.html) function to visualize the distribution of missing value counts."
   ]
  },
  {
   "cell_type": "code",
   "execution_count": 17,
   "metadata": {
    "scrolled": true
   },
   "outputs": [
    {
     "data": {
      "text/plain": [
       "True"
      ]
     },
     "execution_count": 17,
     "metadata": {},
     "output_type": "execute_result"
    },
    {
     "data": {
      "image/png": "[encoded data removed]",
      "text/plain": [
       "<Figure size 640x480 with 1 Axes>"
      ]
     },
     "metadata": {},
     "output_type": "display_data"
    }
   ],
   "source": [
    "def show_nans_distribution(*, df: pd.DataFrame, cols_or_rows: int, n_bins: int = 100) -> bool:\n",
    "    '''\n",
    "    This function plots a histogram with the distribution of nans either per column or per row.\n",
    "\n",
    "    INPUT: \n",
    "      df (pandas dataframe):            dataframe holding the data with all missing values converted into nans.\n",
    "      cols_or_rows (integer in [0, 1]): 0: nans per column/ 1: nans per row.\n",
    "      n_bins (integer):                 Number of bins to be used in the histogram \n",
    "    \n",
    "    OUTPUT: Whether or not the method was able to plot the histogram.\n",
    "    '''\n",
    "    \n",
    "    if cols_or_rows not in [0, 1]:\n",
    "        print('{} is an invalid value for cols_or_rows parameter'.format(cols_or_rows))\n",
    "        return False\n",
    "    \n",
    "    # Calculate the percentage of missing values for each column/row\n",
    "    missing_percentage = df.isnull().mean(axis=cols_or_rows)*100\n",
    "\n",
    "    # Filter out columns/rows having no missing values\n",
    "    missing_percentage = missing_percentage.loc[missing_percentage > 0]\n",
    "    \n",
    "    # Determine the customized message in the distinct plot labels \n",
    "    msg = 'rows' if cols_or_rows else 'columns'\n",
    "    \n",
    "    # Plot the histogram\n",
    "    missing_percentage.plot(kind='hist', bins=n_bins, density = True, \n",
    "                            title = \"Distribution of missing values in the \" + msg, \n",
    "                            xlabel=\"% of missing values\", ylabel=\"Fraction of \" + msg)\n",
    "    \n",
    "    return True\n",
    "    \n",
    "# Ploting the distribution of missing values per column\n",
    "show_nans_distribution(df=azdias_nans, cols_or_rows=0)"
   ]
  },
  {
   "cell_type": "markdown",
   "metadata": {},
   "source": [
    "From the above histogram, we can see that the vast majority of columns has no more than **30%** of missing values. Therefore, that value can be used as a cutoff for dropping the outlier columns."
   ]
  },
  {
   "cell_type": "code",
   "execution_count": 18,
   "metadata": {},
   "outputs": [
    {
     "name": "stdout",
     "output_type": "stream",
     "text": [
      "Removed features:  ['AGER_TYP', 'ALTER_KIND1', 'ALTER_KIND2', 'ALTER_KIND3', 'ALTER_KIND4', 'EXTSEL992', 'KK_KUNDENTYP']\n"
     ]
    }
   ],
   "source": [
    "def drop_outlier_columns(*, df_data: pd.DataFrame, cutoff: int = 50)-> Tuple[pd.DataFrame, int]:\n",
    "    '''\n",
    "    This function drops the columns from the dataframe having an amount of missing values greater than cutoff value.\n",
    "\n",
    "    INPUT: df_data - dataframe whose columns may contain some missing values.\n",
    "           cutoff  - limit value in % from which columns with higher % of missing values will be dropped.  \n",
    "    OUTPUT: reduced dataframe with the dropped features.\n",
    "            list with the names of the dropped features.\n",
    "    '''\n",
    "\n",
    "    # Calculating the percentage of missing values for each column\n",
    "    series_nan_counts = df_data.isnull().mean(axis=0)*100\n",
    "\n",
    "    # Getting the row names having a number of missing values greater than cutoff value \n",
    "    dropped_columns = list(series_nan_counts.loc[series_nan_counts > cutoff].index)\n",
    "\n",
    "    # Dropping the columns matching the above selected row names\n",
    "    df_reduced_data = df_data.drop(dropped_columns, axis='columns')\n",
    "\n",
    "    # Returning the reduced data frame in order to not modify the original one \n",
    "    return df_reduced_data, dropped_columns\n",
    "\n",
    "\n",
    "red_azdias_nans, dropped_cols = drop_outlier_columns(df_data=azdias_nans, cutoff=30)\n",
    "print('Removed features: ', dropped_cols)"
   ]
  },
  {
   "cell_type": "markdown",
   "metadata": {},
   "source": [
    "#### Step 0.1.3: Assess Missing Data in Each Row\n",
    "I'm gonna do a similar approach to detect and remove the outlier rows."
   ]
  },
  {
   "cell_type": "code",
   "execution_count": 19,
   "metadata": {},
   "outputs": [
    {
     "data": {
      "text/plain": [
       "True"
      ]
     },
     "execution_count": 19,
     "metadata": {},
     "output_type": "execute_result"
    },
    {
     "data": {
      "image/png": "[encoded data removed]",
      "text/plain": [
       "<Figure size 640x480 with 1 Axes>"
      ]
     },
     "metadata": {},
     "output_type": "display_data"
    }
   ],
   "source": [
    "# Ploting the distribution of missing values per row\n",
    "show_nans_distribution(df=red_azdias_nans, cols_or_rows=1)"
   ]
  },
  {
   "cell_type": "markdown",
   "metadata": {},
   "source": [
    "From the above histogram, we can see that the vast majority of rows has no more than **30%** of missing values. Therefore, that value can be used as a cutoff for dropping the outlier rows."
   ]
  },
  {
   "cell_type": "code",
   "execution_count": 20,
   "metadata": {},
   "outputs": [
    {
     "name": "stdout",
     "output_type": "stream",
     "text": [
      "Amount of removed rows:  105801\n"
     ]
    }
   ],
   "source": [
    "# Dropping outlier rows \n",
    "cutoff = 30\n",
    "\n",
    "# Calculating the percentage of missing values for each column\n",
    "red_azdias_nans['n_miss_vals'] = red_azdias_nans.isnull().mean(axis=1)*100\n",
    "red_azdias_nans2 = red_azdias_nans.loc[red_azdias_nans['n_miss_vals'] <= cutoff].drop(columns = 'n_miss_vals')\n",
    "n_removed_rows = sum(red_azdias_nans['n_miss_vals'] > cutoff)\n",
    "print('Amount of removed rows: ', n_removed_rows)"
   ]
  },
  {
   "cell_type": "markdown",
   "metadata": {},
   "source": [
    "### Step 0.2: Select and Re-Encode Features\n",
    "\n",
    "Since the unsupervised learning techniques to be used will only work on data that is encoded numerically, we need to make a few encoding changes or additional assumptions to be able to make progress. In addition, while almost all of the values in the dataset are encoded using numbers, not all of them represent numeric values.\n",
    "- For numeric and interval data, these features can be kept without changes.\n",
    "- Most of the variables in the dataset are ordinal in nature. While ordinal values may technically be non-linear in spacing, I will make the simplifying assumption that the ordinal variables can be treated as being interval in nature (that is, kept without any changes).\n",
    "- Special handling is also necessary for the remaining two variable types: categorical, and 'mixed'.\n",
    "\n",
    "In the first two parts of this sub-step, I will conduct an investigation of the categorical and mixed-type features and make a decision on each of them, whether I will keep, drop, or re-encode each. Then, in the last part, I will create a new dataframe with only the selected and engineered columns."
   ]
  },
  {
   "cell_type": "code",
   "execution_count": 107,
   "metadata": {},
   "outputs": [
    {
     "data": {
      "text/plain": [
       "Type\n",
       "ordinal        221\n",
       "mixed           18\n",
       "categorical     17\n",
       "numeric         10\n",
       "binary           4\n",
       "interval         1\n",
       "Name: count, dtype: int64"
      ]
     },
     "execution_count": 107,
     "metadata": {},
     "output_type": "execute_result"
    }
   ],
   "source": [
    "valid_features = red_azdias_nans3.columns.tolist()\n",
    "valid_features_types = dias_att.loc[dias_att['Attribute'].isin(valid_features), ['Attribute', 'Type']]\n",
    "valid_features_types['Type'].value_counts()"
   ]
  },
  {
   "cell_type": "markdown",
   "metadata": {},
   "source": [
    "#### Step 0.2.1: Curse of dimensionality\n",
    "\n",
    "As the number of features grows, the amount of data we need to accurately be able to distinguish between these features (in order to give us a prediction) and generalize our model (learned function) grows EXPONENTIALLY [1]. Below is a simple function I use to reduce the cardinality of a feature. The idea is very simple. Leave instances belonging to a value with high frequency as they are and replace the other instances with a new category which we will call other.\n",
    "\n",
    "1. Choose a threshold\n",
    "2. Sort unique values in the column by their frequency in descending order\n",
    "3. Keep adding the frequency of these sorted (descending) unique values until a threshold is reached.\n",
    "\n",
    "These are the unique categories we will keep and instances of all other categories shall be replaced by “other”. Let’s run through a quick example before going through the code. Say our column colour has 100 values and our threshold is 90% (that is 90). We have 5 different categories of colours: Red (50), Blue(40), Yellow (5), Green (3) and Orange (2). The numbers within the bracket indicate how many instances of that category are present in the column.\n",
    "\n",
    "We see that Red (50)+Blue (40) reaches our threshold of 90. In that case, we retain only 2 categories (Red, Blue) and mark all other instances of other colours as “Other”.\n",
    "\n",
    "Thus we have reduced cardinality from 5 to 3 (Red, Blue, Other)\n",
    "\n",
    "Here is the utility function I wrote to facilitate this. It’s well commented and follows exactly what I described above so you won’t have a problem following along. We can set a custom threshold and the return_categories option optionally lets us see the list of all unique values after reducing cardinality."
   ]
  },
  {
   "cell_type": "code",
   "execution_count": 39,
   "metadata": {},
   "outputs": [],
   "source": [
    "def cumulatively_categorise(df_feat: pd.DataFrame, df_type: pd.DataFrame, cutoff: float = 0.75) -> pd.DataFrame:\n",
    "    '''\n",
    "    This function treats the curse of dimensionality by searching for low amounts of categories and replacing them by one\n",
    "    grouping category 'others'\n",
    "\n",
    "    INPUT: \n",
    "        df_feat (pandas dataframe) - dataframe holding the values of each feature.\n",
    "        df_type (pandas dataframe) - dataframe holding the types of each feature.\n",
    "        cutoff (float) - Threshold value for identifying the low amount categories.  \n",
    "    \n",
    "    OUTPUT: dataframe holding the transformed values of each feature\n",
    "    '''  \n",
    "    \n",
    "    new_df = df_feat.copy()\n",
    "    features = df_type.loc[df_type['Type'] == 'categorical', 'Attribute'].to_list()\n",
    "    \n",
    "    for feature in features:\n",
    "    \n",
    "        # Drop missing values from the analysis\n",
    "        feat_vals = new_df[feature].dropna()\n",
    "    \n",
    "        # Find the threshold value using the percentage and number of instances in the column\n",
    "        cutoff_value = int(cutoff*len(feat_vals))\n",
    "    \n",
    "        # Initialise to nan the list for our new minimised categories\n",
    "        categories_list = [np.nan]\n",
    "    \n",
    "        # Initialise a variable to calculate the sum of frequencies\n",
    "        s = 0\n",
    "    \n",
    "        # Initialize flag of other category needed to False\n",
    "        other_cat = False\n",
    "    \n",
    "        # Create a counter dictionary of the form unique_value: frequency\n",
    "        counts = Counter(feat_vals)\n",
    "        \n",
    "        # Loop through the category name and its corresponding frequency after sorting the categories by descending order of \n",
    "        # frequency \n",
    "        for i, j in counts.most_common():\n",
    "        \n",
    "            # Add the frequency to the global sum\n",
    "            s += dict(counts)[i]\n",
    "    \n",
    "            # Append the category name to the list\n",
    "            categories_list.append(i)\n",
    "        \n",
    "            # Check if the global sum has reached the threshold value, if so break the loop \n",
    "            if s >= cutoff_value:\n",
    "                other_cat = True\n",
    "                break\n",
    "      \n",
    "        if other_cat:\n",
    "            # Replace all instances not in our new categories by Other  \n",
    "            new_df[feature] = new_df[feature].apply(lambda x: x if x in categories_list else 'Other')\n",
    "    \n",
    "    # Return transformed dataframe\n",
    "    return new_df\n",
    "\n",
    "\n",
    "# Call the function with a default threshold of 75%\n",
    "valid_features = red_azdias_nans2.columns.tolist()\n",
    "valid_features_types = dias_att.loc[dias_att['Attribute'].isin(valid_features), ['Attribute', 'Type']]\n",
    "red_azdias_nans3 = cumulatively_categorise(df_feat=red_azdias_nans2, df_type=valid_features_types)"
   ]
  },
  {
   "cell_type": "markdown",
   "metadata": {},
   "source": [
    "#### Step 0.2.2: Re-Encode Categorical Features\n",
    "\n",
    "Each level of the categorical features needs to be encoded as a dummy variable  (e.g. via [OneHotEncoder](http://scikit-learn.org/stable/modules/generated/sklearn.preprocessing.OneHotEncoder.html)). Depending on the number of categories, the following encodings will be performed:\n",
    "- Two-level or binary categorical features taking\n",
    "    - numeric values will be kept as they are.\n",
    "    - non-numeric values will be re-encoded as 0-1 values.\n",
    "- Multi-level categorical features (>=3) will be either encoded using multiple dummy variables or dropped from the analysis."
   ]
  },
  {
   "cell_type": "code",
   "execution_count": 118,
   "metadata": {},
   "outputs": [
    {
     "name": "stdout",
     "output_type": "stream",
     "text": [
      "ANREDE_KZ [2 1]\n",
      "GREEN_AVANTGARDE [0 1]\n",
      "OST_WEST_KZ ['W' 'O']\n",
      "VERS_TYP [2. 1.]\n"
     ]
    },
    {
     "data": {
      "text/plain": [
       "['ANREDE_KZ', 'GREEN_AVANTGARDE', 'OST_WEST_KZ', 'VERS_TYP']"
      ]
     },
     "execution_count": 118,
     "metadata": {},
     "output_type": "execute_result"
    }
   ],
   "source": [
    "def explore_feature_types(df_feat: pd.DataFrame, df_type: pd.DataFrame, feat_type: str) -> List[str]:\n",
    "    '''\n",
    "    This function shows the unique values of the dataframe features related to the given type.\n",
    "\n",
    "    INPUT: \n",
    "        df_feat (pandas dataframe) - dataframe holding the values of each feature.\n",
    "        df_type (pandas dataframe) - dataframe holding the types of each feature.\n",
    "        feat_type (string) - .  \n",
    "    \n",
    "    OUTPUT: List of strings representing the names of the features.\n",
    "    '''\n",
    "        \n",
    "    feature_types = df_type.loc[df_type['Type'] == feat_type, 'Attribute'].to_list()\n",
    "\n",
    "    for feat in feature_types:\n",
    "        classes = df_feat[feat].dropna().unique()\n",
    "        print(feat, classes)\n",
    "        \n",
    "    return feature_types\n",
    "\n",
    "# Exploring the binary features       \n",
    "binary_feat = explore_feature_types(df_feat=red_azdias_nans3, df_type=valid_features_types, feat_type='binary')"
   ]
  },
  {
   "cell_type": "code",
   "execution_count": 111,
   "metadata": {},
   "outputs": [
    {
     "data": {
      "text/plain": [
       "array([0, 1], dtype=int64)"
      ]
     },
     "execution_count": 111,
     "metadata": {},
     "output_type": "execute_result"
    }
   ],
   "source": [
    "# Replacing the non 0 or 1 values\n",
    "red_azdias_nans3['ANREDE_KZ'].replace({2: 0}, inplace = True)\n",
    "red_azdias_nans3['VERS_TYP'].replace({1: 0, 2: 1}, inplace = True)\n",
    "red_azdias_nans3['OST_WEST_KZ'].replace({'W': 0, 'O': 1}, inplace = True)"
   ]
  },
  {
   "cell_type": "code",
   "execution_count": 119,
   "metadata": {},
   "outputs": [
    {
     "name": "stdout",
     "output_type": "stream",
     "text": [
      "CAMEO_DEUG_2015 [8.0 4.0 2.0 6.0 1.0 9.0 5.0 7.0 3.0 '4' '3' '7' '2' '8' '9' '6' '5' '1']\n",
      "CAMEO_DEU_2015 ['8A' '4C' '2A' '6B' '8C' '4A' '2D' '1A' '1E' '9D' '5C' '7A' '5D' '9E'\n",
      " '9B' '1B' '8B' '3D' '4E' '4B' '3C' '5A' '7B' '9A' '6D' '6E' '2C' '7C'\n",
      " '9C' '7D' '5E' '1D' '8D' '6C' '6A' '5B' '4D' '3A' '2B' '7E' '3B' '6F'\n",
      " '5F' '1C']\n",
      "CJT_GESAMTTYP [5. 3. 2. 4. 1. 6.]\n",
      "D19_KONSUMTYP [9. 1. 4. 3. 6. 5. 2.]\n",
      "FINANZTYP [1 6 5 2 4 3]\n",
      "GEBAEUDETYP [8. 1. 3. 2. 6. 4. 5.]\n",
      "GFK_URLAUBERTYP [10.  1.  5. 12.  9.  3.  8. 11.  4.  7.  2.  6.]\n",
      "KBA05_MAXHERST [2. 5. 3. 1. 4. 9.]\n",
      "KBA05_SEG6 [1. 0. 9.]\n",
      "LP_FAMILIE_FEIN [ 5.  1.  0. 10.  2.  7. 11.  8.  4.  6.  9.  3.]\n",
      "LP_FAMILIE_GROB [3. 1. 0. 5. 2. 4.]\n",
      "LP_STATUS_FEIN [ 2.  3.  9.  4.  1. 10.  5.  8.  6.  7.]\n",
      "LP_STATUS_GROB [1. 2. 4. 5. 3.]\n",
      "NATIONALITAET_KZ [1 3 2 0]\n",
      "SHOPPER_TYP [3. 2. 1. 0.]\n",
      "TITEL_KZ [0. 4. 1. 3. 5. 2.]\n",
      "ZABEOTYP [5 3 4 1 6 2]\n"
     ]
    }
   ],
   "source": [
    "# Exploring the categorical features       \n",
    "categorical_feat = explore_feature_types(df_feat=red_azdias_nans3, df_type=valid_features_types, feat_type='categorical')"
   ]
  },
  {
   "cell_type": "markdown",
   "metadata": {},
   "source": [
    "I decided to drop CAMEO_DEUG_2015, LP_STATUS_GROB, LP_FAMILIE_GROB as we have more specific variables accounting for them in CAMEO_DEU_2015, LP_STATUS_FEIN, LP_FAMILIE_FEIN."
   ]
  },
  {
   "cell_type": "code",
   "execution_count": 120,
   "metadata": {},
   "outputs": [],
   "source": [
    "# Preliminar steps to re-encode categorical feature(s) to be kept in the analysis.\n",
    "kept_categorical_feat =  categorical_feat.copy()\n",
    "\n",
    "# Drop categorial features that are copies of other more specific ones\n",
    "rem_categorical_feat = ['CAMEO_DEUG_2015', 'LP_STATUS_GROB', 'LP_FAMILIE_GROB']\n",
    "kept_categorical_feat = list(set(kept_categorical_feat).difference(rem_categorical_feat))\n",
    "red_azdias_nans3.drop(rem_categorical_feat, axis=1, inplace = True)\n",
    "\n",
    "# Re-encoding the categorical features to kept in the analysis.\n",
    "red_azdias_nans3_encoded = pd.get_dummies(red_azdias_nans3, columns=kept_categorical_feat)\n",
    "print(red_azdias_nans3_encoded.head(5))"
   ]
  },
  {
   "cell_type": "markdown",
   "metadata": {},
   "source": [
    "#### Step 0.2.3: Engineer Mixed-Type Features"
   ]
  },
  {
   "cell_type": "code",
   "execution_count": null,
   "metadata": {},
   "outputs": [],
   "source": [
    "# Investigate \"PRAEGENDE_JUGENDJAHRE\" and engineer two new variables.\n",
    "print('PRAEGENDE_JUGENDJAHRE distinct values: ', np.sort(.PRAEGENDE_JUGENDJAHRE.unique()))"
   ]
  },
  {
   "cell_type": "code",
   "execution_count": 1,
   "metadata": {},
   "outputs": [],
   "source": [
    "# Engineer Binary variable movement: by looking at the meaning of each distinct value of PRAEGENDE_JUGENDJAHRE in the Data_Dictionary.md file, \n",
    "# I splitted the values into two groups, current movements and new movements as follows:\n",
    "current_movements = [1, 3, 5, 8, 10, 12, 14]\n",
    "new_movements = [2, 4, 6, 7, 9, 11, 13, 15]\n",
    "\n",
    "# First, I create a new column and copy the same values of column PRAEGENDE_JUGENDJAHRE\n",
    "red_azdias_nans3_encoded['PRAEGENDE_JUGENDJAHRE_MOVEMENT'] = red_azdias_nans3_encoded.['PRAEGENDE_JUGENDJAHRE']\n",
    "\n",
    "# Second, we code the values of current movements as 0 \n",
    "red_azdias_nans3_encoded['PRAEGENDE_JUGENDJAHRE_MOVEMENT'].replace(current_movements, 0, inplace=True)\n",
    "\n",
    "# Third, we code the values of new movements as 1 \n",
    "red_azdias_nans3_encoded['PRAEGENDE_JUGENDJAHRE_MOVEMENT'].replace(new_movements, 1, inplace=True)\n",
    "\n",
    "# Fourth, we check that all values of the new column are either 0 or 1\n",
    "print('PRAEGENDE_JUGENDJAHRE_MOVEMENT distinct values: ', red_azdias_nans3_encoded['PRAEGENDE_JUGENDJAHRE_MOVEMENT'].unique())"
   ]
  },
  {
   "cell_type": "code",
   "execution_count": null,
   "metadata": {},
   "outputs": [],
   "source": [
    "# Engineer interval-type variable decade: by looking at the meaning of each distinct value of PRAEGENDE_JUGENDJAHRE in the Data_Dictionary.md file, I\n",
    "# find out that the values onto one of the following decades 40, 50, 60, 70, 80, 90. So, I create a dict mapping the values to their corresponding \n",
    "# decade as follows:\n",
    "val_to_dec = {1: 40, 2: 40, 3: 50, 4: 50, 5: 60, 6: 60, 7: 60, 8: 70, 9: 70, 10: 80, 11: 80, 12: 80, 13: 80, 14: 90, 15: 90}\n",
    "\n",
    "# First, I create a new column and copy the same values of column PRAEGENDE_JUGENDJAHRE\n",
    "red_azdias_nans3_encoded['PRAEGENDE_JUGENDJAHRE_DECADE'] = red_azdias_nans3_encoded['PRAEGENDE_JUGENDJAHRE']\n",
    "\n",
    "# Second, we code the values according to their corresponding decade set in the dict val_to_dec \n",
    "red_azdias_nans3_encoded['PRAEGENDE_JUGENDJAHRE_DECADE'].replace(val_to_dec, inplace=True)\n",
    "\n",
    "# Third, we check that all values of the new column are within decades 40-90\n",
    "print('PRAEGENDE_JUGENDJAHRE_DECADE distinct values: ', np.sort(red_azdias_nans3_encoded['PRAEGENDE_JUGENDJAHRE_DECADE'].unique()))"
   ]
  },
  {
   "cell_type": "code",
   "execution_count": null,
   "metadata": {},
   "outputs": [],
   "source": [
    "# Investigate \"CAMEO_INTL_2015\"\n",
    "print('CAMEO_INTL_2015 distinct values: ', red_azdias_nans3_encoded['CAMEO_INTL_2015'].unique())"
   ]
  },
  {
   "cell_type": "code",
   "execution_count": null,
   "metadata": {},
   "outputs": [],
   "source": [
    "# Engineer the two new variables, wealth and life stage: By looking at the meaning of each distinct value of CAMEO_INTL_2015 in the Data_Dictionary.md \n",
    "# file, I found out that the first digit of each value corresponds to the wealth, whereas the second one do so to life stage.\n",
    "# Prior to encode the values to the variables, I create two auxiliary functions to use in the apply method of pandas for getting the appropriate digit \n",
    "# of the values:\n",
    "\n",
    "def get_wealth_value(n: str) -> int:\n",
    "    if pd.isnull(n):\n",
    "        return np.nan\n",
    "\n",
    "    return int(n[0])\n",
    "\n",
    "def get_life_stage_value(n: str) -> int:\n",
    "    if pd.isnull(n):\n",
    "        return np.nan\n",
    "        \n",
    "    return int(n[1])"
   ]
  },
  {
   "cell_type": "code",
   "execution_count": null,
   "metadata": {},
   "outputs": [],
   "source": [
    "# I think the values for wealth are: 1: Wealthy; 2: Prosperous; 3: Comfortable; 4: Less affluent; 5: Pooerer\n",
    "red_azdias_nans3_encoded['CAMEO_INTL_2015_WEALTH'] = red_azdias_nans3_encoded['CAMEO_INTL_2015'].apply(get_wealth_value)\n",
    "print('CAMEO_INTL_2015_WEALTH distinct values: ', np.sort(red_azdias_nans3_encoded['CAMEO_INTL_2015_WEALTH'].unique()))"
   ]
  },
  {
   "cell_type": "code",
   "execution_count": null,
   "metadata": {},
   "outputs": [],
   "source": [
    "# I think the values for life stage are: 1: Singles; 2: Young with children; 3: School age children;\n",
    "# 4: Older families & mature couples; 5: Elders in retirement\n",
    "red_azdias_nans3_encoded['CAMEO_INTL_2015_LIFE_STAGE'] = red_azdias_nans3_encoded['CAMEO_INTL_2015'].apply(get_life_stage_value)\n",
    "print('CAMEO_INTL_2015_LIFE_STAGE distinct values: ', np.sort(red_azdias_nans3_encoded['CAMEO_INTL_2015_LIFE_STAGE'].unique()))"
   ]
  },
  {
   "cell_type": "code",
   "execution_count": null,
   "metadata": {},
   "outputs": [],
   "source": []
  },
  {
   "cell_type": "code",
   "execution_count": null,
   "metadata": {},
   "outputs": [],
   "source": []
  },
  {
   "cell_type": "code",
   "execution_count": 14,
   "metadata": {},
   "outputs": [],
   "source": [
    "df_processed_data = azdias"
   ]
  },
  {
   "cell_type": "code",
   "execution_count": 23,
   "metadata": {},
   "outputs": [],
   "source": [
    "def save_data_to_pickle(data: Union[pd.DataFrame, GridSearchCV], file_path: str):\n",
    "    '''\n",
    "    INPUT:\n",
    "    data - (either pandas dataframe or GridSearchCV) the data object to save into a pickle file\n",
    "    file_path - (string) the path + the file name of the pickle file   \n",
    "    \n",
    "    OUTPUT: None \n",
    "    \n",
    "    '''\n",
    "    try:\n",
    "        saved_pickle = dump(df_processed_data, file_path)\n",
    "    except:\n",
    "        print('Unable to save pickle file {}'.format(file_path))\n",
    "    else:\n",
    "        print('Saved pickle file {}'.format(file_path))"
   ]
  },
  {
   "cell_type": "code",
   "execution_count": 24,
   "metadata": {},
   "outputs": [
    {
     "name": "stdout",
     "output_type": "stream",
     "text": [
      "Saved pickle file ./data/processed_data.pk\n"
     ]
    }
   ],
   "source": [
    "# Load the fitted clsuter model to a pickle file for later use\n",
    "save_data_to_pickle(data=df_processed_data, file_path=PROCESSED_DATA_PATH)"
   ]
  },
  {
   "cell_type": "markdown",
   "metadata": {},
   "source": [
    "## Part 1: Customer Segmentation Report\n",
    "\n",
    "The main bulk of your analysis will come in this part of the project. Here, you should use unsupervised learning techniques to describe the relationship between the demographics of the company's existing customers and the general population of Germany. By the end of this part, you should be able to describe parts of the general population that are more likely to be part of the mail-order company's main customer base, and which parts of the general population are less so."
   ]
  },
  {
   "cell_type": "code",
   "execution_count": 26,
   "metadata": {},
   "outputs": [],
   "source": [
    "def load_data_from_pickle_file(file_path: str) -> Union[pd.DataFrame, GridSearchCV]:\n",
    "    '''\n",
    "    INPUT:\n",
    "    file_path - (string) the path + the file name of the pickle file\n",
    "    \n",
    "    OUTPUT:\n",
    "    data - (either pandas dataframe or GridSearchCV) the data object to save into a pickle file\n",
    "    '''\n",
    "    try:\n",
    "        df_processed_data = load(file_path)\n",
    "    except:\n",
    "        print('Unable to load pickle file {}'.format(file_path))\n",
    "        return pd.DataFrame()\n",
    "    else:\n",
    "        print('Loaded pickle file {}'.format(file_path))\n",
    "        return df_processed_data"
   ]
  },
  {
   "cell_type": "code",
   "execution_count": 27,
   "metadata": {},
   "outputs": [
    {
     "name": "stdout",
     "output_type": "stream",
     "text": [
      "Loaded pickle file ./data/processed_data.pk\n"
     ]
    }
   ],
   "source": [
    "# Load the processed data from a pickle file\n",
    "df_processed_data = load_data_from_pickle_file(file_path=PROCESSED_DATA_PATH)"
   ]
  },
  {
   "cell_type": "code",
   "execution_count": 28,
   "metadata": {},
   "outputs": [
    {
     "data": {
      "text/html": [
       "<div>\n",
       "<style scoped>\n",
       "    .dataframe tbody tr th:only-of-type {\n",
       "        vertical-align: middle;\n",
       "    }\n",
       "\n",
       "    .dataframe tbody tr th {\n",
       "        vertical-align: top;\n",
       "    }\n",
       "\n",
       "    .dataframe thead th {\n",
       "        text-align: right;\n",
       "    }\n",
       "</style>\n",
       "<table border=\"1\" class=\"dataframe\">\n",
       "  <thead>\n",
       "    <tr style=\"text-align: right;\">\n",
       "      <th></th>\n",
       "      <th>LNR</th>\n",
       "      <th>AGER_TYP</th>\n",
       "      <th>AKT_DAT_KL</th>\n",
       "      <th>ALTER_HH</th>\n",
       "      <th>ALTER_KIND1</th>\n",
       "      <th>...</th>\n",
       "      <th>WOHNDAUER_2008</th>\n",
       "      <th>WOHNLAGE</th>\n",
       "      <th>ZABEOTYP</th>\n",
       "      <th>ANREDE_KZ</th>\n",
       "      <th>ALTERSKATEGORIE_GROB</th>\n",
       "    </tr>\n",
       "  </thead>\n",
       "  <tbody>\n",
       "    <tr>\n",
       "      <th>0</th>\n",
       "      <td>910215</td>\n",
       "      <td>-1</td>\n",
       "      <td>NaN</td>\n",
       "      <td>NaN</td>\n",
       "      <td>NaN</td>\n",
       "      <td>...</td>\n",
       "      <td>NaN</td>\n",
       "      <td>NaN</td>\n",
       "      <td>3</td>\n",
       "      <td>1</td>\n",
       "      <td>2</td>\n",
       "    </tr>\n",
       "    <tr>\n",
       "      <th>1</th>\n",
       "      <td>910220</td>\n",
       "      <td>-1</td>\n",
       "      <td>9.0</td>\n",
       "      <td>0.0</td>\n",
       "      <td>NaN</td>\n",
       "      <td>...</td>\n",
       "      <td>9.0</td>\n",
       "      <td>4.0</td>\n",
       "      <td>5</td>\n",
       "      <td>2</td>\n",
       "      <td>1</td>\n",
       "    </tr>\n",
       "    <tr>\n",
       "      <th>2</th>\n",
       "      <td>910225</td>\n",
       "      <td>-1</td>\n",
       "      <td>9.0</td>\n",
       "      <td>17.0</td>\n",
       "      <td>NaN</td>\n",
       "      <td>...</td>\n",
       "      <td>9.0</td>\n",
       "      <td>2.0</td>\n",
       "      <td>5</td>\n",
       "      <td>2</td>\n",
       "      <td>3</td>\n",
       "    </tr>\n",
       "    <tr>\n",
       "      <th>3</th>\n",
       "      <td>910226</td>\n",
       "      <td>2</td>\n",
       "      <td>1.0</td>\n",
       "      <td>13.0</td>\n",
       "      <td>NaN</td>\n",
       "      <td>...</td>\n",
       "      <td>9.0</td>\n",
       "      <td>7.0</td>\n",
       "      <td>3</td>\n",
       "      <td>2</td>\n",
       "      <td>4</td>\n",
       "    </tr>\n",
       "    <tr>\n",
       "      <th>4</th>\n",
       "      <td>910241</td>\n",
       "      <td>-1</td>\n",
       "      <td>1.0</td>\n",
       "      <td>20.0</td>\n",
       "      <td>NaN</td>\n",
       "      <td>...</td>\n",
       "      <td>9.0</td>\n",
       "      <td>3.0</td>\n",
       "      <td>4</td>\n",
       "      <td>1</td>\n",
       "      <td>3</td>\n",
       "    </tr>\n",
       "  </tbody>\n",
       "</table>\n",
       "<p>5 rows × 366 columns</p>\n",
       "</div>"
      ],
      "text/plain": [
       "      LNR  AGER_TYP  AKT_DAT_KL  ALTER_HH  ALTER_KIND1  ...  WOHNDAUER_2008  \\\n",
       "0  910215        -1         NaN       NaN          NaN  ...             NaN   \n",
       "1  910220        -1         9.0       0.0          NaN  ...             9.0   \n",
       "2  910225        -1         9.0      17.0          NaN  ...             9.0   \n",
       "3  910226         2         1.0      13.0          NaN  ...             9.0   \n",
       "4  910241        -1         1.0      20.0          NaN  ...             9.0   \n",
       "\n",
       "   WOHNLAGE  ZABEOTYP  ANREDE_KZ  ALTERSKATEGORIE_GROB  \n",
       "0       NaN         3          1                     2  \n",
       "1       4.0         5          2                     1  \n",
       "2       2.0         5          2                     3  \n",
       "3       7.0         3          2                     4  \n",
       "4       3.0         4          1                     3  \n",
       "\n",
       "[5 rows x 366 columns]"
      ]
     },
     "execution_count": 28,
     "metadata": {},
     "output_type": "execute_result"
    }
   ],
   "source": [
    "df_processed_data.head()"
   ]
  },
  {
   "cell_type": "code",
   "execution_count": null,
   "metadata": {},
   "outputs": [],
   "source": []
  },
  {
   "cell_type": "code",
   "execution_count": null,
   "metadata": {},
   "outputs": [],
   "source": []
  },
  {
   "cell_type": "code",
   "execution_count": null,
   "metadata": {},
   "outputs": [],
   "source": []
  },
  {
   "cell_type": "code",
   "execution_count": null,
   "metadata": {},
   "outputs": [],
   "source": []
  },
  {
   "cell_type": "code",
   "execution_count": null,
   "metadata": {},
   "outputs": [],
   "source": []
  },
  {
   "cell_type": "code",
   "execution_count": null,
   "metadata": {},
   "outputs": [],
   "source": []
  },
  {
   "cell_type": "code",
   "execution_count": null,
   "metadata": {},
   "outputs": [],
   "source": [
    "# Save the fitted cluster model to a pickle file for later use\n",
    "save_data_to_pickle(data=cluster_model, file_path=CLUSTER_MODEL_PATH)"
   ]
  },
  {
   "cell_type": "markdown",
   "metadata": {},
   "source": [
    "## Part 2: Supervised Learning Model\n",
    "\n",
    "Now that you've found which parts of the population are more likely to be customers of the mail-order company, it's time to build a prediction model. Each of the rows in the \"MAILOUT\" data files represents an individual that was targeted for a mailout campaign. Ideally, we should be able to use the demographic information from each individual to decide whether or not it will be worth it to include that person in the campaign.\n",
    "\n",
    "The \"MAILOUT\" data has been split into two approximately equal parts, each with almost 43 000 data rows. In this part, you can verify your model with the \"TRAIN\" partition, which includes a column, \"RESPONSE\", that states whether or not a person became a customer of the company following the campaign. In the next part, you'll need to create predictions on the \"TEST\" partition, where the \"RESPONSE\" column has been withheld."
   ]
  },
  {
   "cell_type": "code",
   "execution_count": null,
   "metadata": {},
   "outputs": [],
   "source": [
    "# Loading the fitted cluster model from a pickle file\n",
    "cluster_model = load_data_from_pickle_file(file_path=CLUSTER_MODEL_PATH)"
   ]
  },
  {
   "cell_type": "code",
   "execution_count": 6,
   "metadata": {},
   "outputs": [
    {
     "name": "stderr",
     "output_type": "stream",
     "text": [
      "C:\\Users\\flopezr81\\AppData\\Local\\Temp\\ipykernel_9276\\1838270115.py:1: DtypeWarning: Columns (18,19) have mixed types. Specify dtype option on import or set low_memory=False.\n",
      "  mailout_train = pd.read_csv('./data/Udacity_MAILOUT_052018_TRAIN.csv', sep=';')\n"
     ]
    }
   ],
   "source": [
    "mailout_train = pd.read_csv('./data/Udacity_MAILOUT_052018_TRAIN.csv', sep=';')"
   ]
  },
  {
   "cell_type": "code",
   "execution_count": null,
   "metadata": {},
   "outputs": [],
   "source": []
  },
  {
   "cell_type": "code",
   "execution_count": null,
   "metadata": {},
   "outputs": [],
   "source": []
  },
  {
   "cell_type": "code",
   "execution_count": null,
   "metadata": {},
   "outputs": [],
   "source": []
  },
  {
   "cell_type": "markdown",
   "metadata": {},
   "source": [
    "# References\n",
    "\n",
    "[1] Sangani R (2021). Dealing with features that have high cardinality. Medium. 5 min read. August 4 2021."
   ]
  },
  {
   "cell_type": "code",
   "execution_count": null,
   "metadata": {},
   "outputs": [],
   "source": []
  }
 ],
 "metadata": {
  "kernelspec": {
   "display_name": "Python 3 (ipykernel)",
   "language": "python",
   "name": "python3"
  },
  "language_info": {
   "codemirror_mode": {
    "name": "ipython",
    "version": 3
   },
   "file_extension": ".py",
   "mimetype": "text/x-python",
   "name": "python",
   "nbconvert_exporter": "python",
   "pygments_lexer": "ipython3",
   "version": "3.11.5"
  }
 },
 "nbformat": 4,
 "nbformat_minor": 2
}
